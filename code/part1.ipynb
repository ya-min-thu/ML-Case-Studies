{
 "cells": [
  {
   "cell_type": "markdown",
   "metadata": {},
   "source": [
    "## Load Libraries"
   ]
  },
  {
   "cell_type": "code",
   "execution_count": 252,
   "metadata": {},
   "outputs": [],
   "source": [
    "import pandas as pd\n",
    "import matplotlib.pyplot as plt\n",
    "import plotly.express as px\n"
   ]
  },
  {
   "cell_type": "code",
   "execution_count": 253,
   "metadata": {},
   "outputs": [
    {
     "name": "stderr",
     "output_type": "stream",
     "text": [
      "/var/folders/4g/xtsxvwrx4_jgyxsbx71ynnzh0000gn/T/ipykernel_2048/1276501630.py:1: DtypeWarning:\n",
      "\n",
      "Columns (8,9,10,11,12,13,14,15,16,17,18,19,20,22,23,24,25,26,27,28,29,30,31,32,33,34,35,36,37,38,39,40,41,42,43,44,45,46,47,48,49,50,51,52,53,54,55,56,57,58,59,60,61,62,63,64,65,66,67,68,69,70,71,72,73,74,75,76,77,78,79,80,81,82,83,84,85,86,87,88,89,90,91,92,93,94,95,96,97,98,99,100,101,102,103,104,105,106,107,108,109,110,111,112,113,114,115,116,117,118,119,120,121,122,123,124,125,126,127,128,129,130,131,132,133,134,135,136,137,138,139,140,141,142,143,144,145,146,147,148,149,150,151,152,153,154,155,156,157,158,159,160,161,162,163,164,165,166,167,168,169,170,171,172,173,174,175,176,177,178,179,180,181,182,183,184,185,186,187,188,189,190,191,192,193,194,195,196,197,198,199,200,201,202,203,204,205,206,207,208,209,210,211,212,213,214,215,216,217,218,219,220,221,222,223,224,225,226,227,228,229,230,231,232,233,234,235,236,237,238,239,240,241,242,243,244,245,246,247,248,249,250,251,252,253,254,255,256,257,258,259,260,261,262,263,264,265,266,267,268,269,270,271,272,273,274,275,276,277,278,279,280,281,282,283,284,285,286,287,288,289,290,291,292) have mixed types. Specify dtype option on import or set low_memory=False.\n",
      "\n"
     ]
    }
   ],
   "source": [
    "df = pd.read_csv('../data/kaggle_survey_2017_2021.csv.zip', header=[0, 1])"
   ]
  },
  {
   "cell_type": "markdown",
   "metadata": {},
   "source": [
    "## 0: Understanding the survey"
   ]
  },
  {
   "cell_type": "code",
   "execution_count": 254,
   "metadata": {},
   "outputs": [
    {
     "name": "stdout",
     "output_type": "stream",
     "text": [
      "<class 'pandas.core.frame.DataFrame'>\n",
      "RangeIndex: 106301 entries, 0 to 106300\n",
      "Columns: 293 entries, ('-', 'Year') to ('Q38_B_OTHER', 'In the next 2 years, do you hope to become more familiar with any of these tools for managing ML experiments? (Select all that apply) - Selected Choice - Other')\n",
      "dtypes: float64(1), int64(1), object(291)\n",
      "memory usage: 237.6+ MB\n"
     ]
    }
   ],
   "source": [
    "df.info()"
   ]
  },
  {
   "cell_type": "code",
   "execution_count": 255,
   "metadata": {},
   "outputs": [
    {
     "data": {
      "text/html": [
       "<div>\n",
       "<style scoped>\n",
       "    .dataframe tbody tr th:only-of-type {\n",
       "        vertical-align: middle;\n",
       "    }\n",
       "\n",
       "    .dataframe tbody tr th {\n",
       "        vertical-align: top;\n",
       "    }\n",
       "\n",
       "    .dataframe thead tr th {\n",
       "        text-align: left;\n",
       "    }\n",
       "</style>\n",
       "<table border=\"1\" class=\"dataframe\">\n",
       "  <thead>\n",
       "    <tr>\n",
       "      <th></th>\n",
       "      <th>-</th>\n",
       "      <th>Time from Start to Finish (seconds)</th>\n",
       "      <th>Q1</th>\n",
       "      <th>Q2</th>\n",
       "      <th>Q3</th>\n",
       "      <th>Q4</th>\n",
       "      <th>Q5</th>\n",
       "      <th>Q6</th>\n",
       "      <th>Q7_Part_1</th>\n",
       "      <th>Q7_Part_2</th>\n",
       "      <th>...</th>\n",
       "      <th>Q38_B_Part_1</th>\n",
       "      <th>Q38_B_Part_2</th>\n",
       "      <th>Q38_B_Part_3</th>\n",
       "      <th>Q38_B_Part_4</th>\n",
       "      <th>Q38_B_Part_5</th>\n",
       "      <th>Q38_B_Part_6</th>\n",
       "      <th>Q38_B_Part_7</th>\n",
       "      <th>Q38_B_Part_9</th>\n",
       "      <th>Q38_B_Part_11</th>\n",
       "      <th>Q38_B_OTHER</th>\n",
       "    </tr>\n",
       "    <tr>\n",
       "      <th></th>\n",
       "      <th>Year</th>\n",
       "      <th>Duration (in seconds)</th>\n",
       "      <th>What is your age (# years)?</th>\n",
       "      <th>What is your gender? - Selected Choice</th>\n",
       "      <th>In which country do you currently reside?</th>\n",
       "      <th>What is the highest level of formal education that you have attained or plan to attain within the next 2 years?</th>\n",
       "      <th>Select the title most similar to your current role (or most recent title if retired): - Selected Choice</th>\n",
       "      <th>For how many years have you been writing code and/or programming?</th>\n",
       "      <th>What programming languages do you use on a regular basis? (Select all that apply) - Selected Choice - Python</th>\n",
       "      <th>What programming languages do you use on a regular basis? (Select all that apply) - Selected Choice - R</th>\n",
       "      <th>...</th>\n",
       "      <th>In the next 2 years, do you hope to become more familiar with any of these tools for managing ML experiments? (Select all that apply) - Selected Choice -  Neptune.ai</th>\n",
       "      <th>In the next 2 years, do you hope to become more familiar with any of these tools for managing ML experiments? (Select all that apply) - Selected Choice -  Weights &amp; Biases</th>\n",
       "      <th>In the next 2 years, do you hope to become more familiar with any of these tools for managing ML experiments? (Select all that apply) - Selected Choice -  Comet.ml</th>\n",
       "      <th>In the next 2 years, do you hope to become more familiar with any of these tools for managing ML experiments? (Select all that apply) - Selected Choice -  Sacred + Omniboard</th>\n",
       "      <th>In the next 2 years, do you hope to become more familiar with any of these tools for managing ML experiments? (Select all that apply) - Selected Choice -  TensorBoard</th>\n",
       "      <th>In the next 2 years, do you hope to become more familiar with any of these tools for managing ML experiments? (Select all that apply) - Selected Choice -  Guild.ai</th>\n",
       "      <th>In the next 2 years, do you hope to become more familiar with any of these tools for managing ML experiments? (Select all that apply) - Selected Choice -  Polyaxon</th>\n",
       "      <th>In the next 2 years, do you hope to become more familiar with any of these tools for managing ML experiments? (Select all that apply) - Selected Choice -  Domino Model Monitor</th>\n",
       "      <th>In the next 2 years, do you hope to become more familiar with any of these tools for managing ML experiments? (Select all that apply) - Selected Choice - None</th>\n",
       "      <th>In the next 2 years, do you hope to become more familiar with any of these tools for managing ML experiments? (Select all that apply) - Selected Choice - Other</th>\n",
       "    </tr>\n",
       "  </thead>\n",
       "  <tbody>\n",
       "    <tr>\n",
       "      <th>0</th>\n",
       "      <td>2021</td>\n",
       "      <td>910.0</td>\n",
       "      <td>50-54</td>\n",
       "      <td>Man</td>\n",
       "      <td>India</td>\n",
       "      <td>Bachelorâ€™s degree</td>\n",
       "      <td>Other</td>\n",
       "      <td>5-10 years</td>\n",
       "      <td>Python</td>\n",
       "      <td>R</td>\n",
       "      <td>...</td>\n",
       "      <td>NaN</td>\n",
       "      <td>NaN</td>\n",
       "      <td>NaN</td>\n",
       "      <td>NaN</td>\n",
       "      <td>NaN</td>\n",
       "      <td>NaN</td>\n",
       "      <td>NaN</td>\n",
       "      <td>NaN</td>\n",
       "      <td>NaN</td>\n",
       "      <td>NaN</td>\n",
       "    </tr>\n",
       "    <tr>\n",
       "      <th>1</th>\n",
       "      <td>2021</td>\n",
       "      <td>784.0</td>\n",
       "      <td>50-54</td>\n",
       "      <td>Man</td>\n",
       "      <td>Indonesia</td>\n",
       "      <td>Masterâ€™s degree</td>\n",
       "      <td>Program/Project Manager</td>\n",
       "      <td>20+ years</td>\n",
       "      <td>NaN</td>\n",
       "      <td>NaN</td>\n",
       "      <td>...</td>\n",
       "      <td>NaN</td>\n",
       "      <td>NaN</td>\n",
       "      <td>NaN</td>\n",
       "      <td>NaN</td>\n",
       "      <td>NaN</td>\n",
       "      <td>NaN</td>\n",
       "      <td>NaN</td>\n",
       "      <td>NaN</td>\n",
       "      <td>None</td>\n",
       "      <td>NaN</td>\n",
       "    </tr>\n",
       "    <tr>\n",
       "      <th>2</th>\n",
       "      <td>2021</td>\n",
       "      <td>924.0</td>\n",
       "      <td>22-24</td>\n",
       "      <td>Man</td>\n",
       "      <td>Pakistan</td>\n",
       "      <td>Masterâ€™s degree</td>\n",
       "      <td>Software Engineer</td>\n",
       "      <td>1-3 years</td>\n",
       "      <td>Python</td>\n",
       "      <td>NaN</td>\n",
       "      <td>...</td>\n",
       "      <td>NaN</td>\n",
       "      <td>NaN</td>\n",
       "      <td>NaN</td>\n",
       "      <td>NaN</td>\n",
       "      <td>TensorBoard</td>\n",
       "      <td>NaN</td>\n",
       "      <td>NaN</td>\n",
       "      <td>NaN</td>\n",
       "      <td>NaN</td>\n",
       "      <td>NaN</td>\n",
       "    </tr>\n",
       "    <tr>\n",
       "      <th>3</th>\n",
       "      <td>2021</td>\n",
       "      <td>575.0</td>\n",
       "      <td>45-49</td>\n",
       "      <td>Man</td>\n",
       "      <td>Mexico</td>\n",
       "      <td>Doctoral degree</td>\n",
       "      <td>Research Scientist</td>\n",
       "      <td>20+ years</td>\n",
       "      <td>Python</td>\n",
       "      <td>NaN</td>\n",
       "      <td>...</td>\n",
       "      <td>NaN</td>\n",
       "      <td>NaN</td>\n",
       "      <td>NaN</td>\n",
       "      <td>NaN</td>\n",
       "      <td>NaN</td>\n",
       "      <td>NaN</td>\n",
       "      <td>NaN</td>\n",
       "      <td>NaN</td>\n",
       "      <td>None</td>\n",
       "      <td>NaN</td>\n",
       "    </tr>\n",
       "    <tr>\n",
       "      <th>4</th>\n",
       "      <td>2021</td>\n",
       "      <td>781.0</td>\n",
       "      <td>45-49</td>\n",
       "      <td>Man</td>\n",
       "      <td>India</td>\n",
       "      <td>Doctoral degree</td>\n",
       "      <td>Other</td>\n",
       "      <td>&lt; 1 years</td>\n",
       "      <td>Python</td>\n",
       "      <td>NaN</td>\n",
       "      <td>...</td>\n",
       "      <td>NaN</td>\n",
       "      <td>NaN</td>\n",
       "      <td>NaN</td>\n",
       "      <td>NaN</td>\n",
       "      <td>NaN</td>\n",
       "      <td>NaN</td>\n",
       "      <td>NaN</td>\n",
       "      <td>NaN</td>\n",
       "      <td>NaN</td>\n",
       "      <td>NaN</td>\n",
       "    </tr>\n",
       "  </tbody>\n",
       "</table>\n",
       "<p>5 rows × 293 columns</p>\n",
       "</div>"
      ],
      "text/plain": [
       "      - Time from Start to Finish (seconds)                          Q1  \\\n",
       "   Year               Duration (in seconds) What is your age (# years)?   \n",
       "0  2021                               910.0                       50-54   \n",
       "1  2021                               784.0                       50-54   \n",
       "2  2021                               924.0                       22-24   \n",
       "3  2021                               575.0                       45-49   \n",
       "4  2021                               781.0                       45-49   \n",
       "\n",
       "                                      Q2  \\\n",
       "  What is your gender? - Selected Choice   \n",
       "0                                    Man   \n",
       "1                                    Man   \n",
       "2                                    Man   \n",
       "3                                    Man   \n",
       "4                                    Man   \n",
       "\n",
       "                                         Q3  \\\n",
       "  In which country do you currently reside?   \n",
       "0                                     India   \n",
       "1                                 Indonesia   \n",
       "2                                  Pakistan   \n",
       "3                                    Mexico   \n",
       "4                                     India   \n",
       "\n",
       "                                                                                                               Q4  \\\n",
       "  What is the highest level of formal education that you have attained or plan to attain within the next 2 years?   \n",
       "0                                Bachelorâ€™s degree                                                                \n",
       "1                                  Masterâ€™s degree                                                                \n",
       "2                                  Masterâ€™s degree                                                                \n",
       "3                                    Doctoral degree                                                                \n",
       "4                                    Doctoral degree                                                                \n",
       "\n",
       "                                                                                                       Q5  \\\n",
       "  Select the title most similar to your current role (or most recent title if retired): - Selected Choice   \n",
       "0                                              Other                                                        \n",
       "1                            Program/Project Manager                                                        \n",
       "2                                  Software Engineer                                                        \n",
       "3                                 Research Scientist                                                        \n",
       "4                                              Other                                                        \n",
       "\n",
       "                                                                 Q6  \\\n",
       "  For how many years have you been writing code and/or programming?   \n",
       "0                                         5-10 years                  \n",
       "1                                          20+ years                  \n",
       "2                                          1-3 years                  \n",
       "3                                          20+ years                  \n",
       "4                                          < 1 years                  \n",
       "\n",
       "                                                                                                     Q7_Part_1  \\\n",
       "  What programming languages do you use on a regular basis? (Select all that apply) - Selected Choice - Python   \n",
       "0                                             Python                                                             \n",
       "1                                                NaN                                                             \n",
       "2                                             Python                                                             \n",
       "3                                             Python                                                             \n",
       "4                                             Python                                                             \n",
       "\n",
       "                                                                                                Q7_Part_2  \\\n",
       "  What programming languages do you use on a regular basis? (Select all that apply) - Selected Choice - R   \n",
       "0                                                  R                                                        \n",
       "1                                                NaN                                                        \n",
       "2                                                NaN                                                        \n",
       "3                                                NaN                                                        \n",
       "4                                                NaN                                                        \n",
       "\n",
       "   ...  \\\n",
       "   ...   \n",
       "0  ...   \n",
       "1  ...   \n",
       "2  ...   \n",
       "3  ...   \n",
       "4  ...   \n",
       "\n",
       "                                                                                                                                                            Q38_B_Part_1  \\\n",
       "  In the next 2 years, do you hope to become more familiar with any of these tools for managing ML experiments? (Select all that apply) - Selected Choice -  Neptune.ai    \n",
       "0                                                NaN                                                                                                                       \n",
       "1                                                NaN                                                                                                                       \n",
       "2                                                NaN                                                                                                                       \n",
       "3                                                NaN                                                                                                                       \n",
       "4                                                NaN                                                                                                                       \n",
       "\n",
       "                                                                                                                                                                  Q38_B_Part_2  \\\n",
       "  In the next 2 years, do you hope to become more familiar with any of these tools for managing ML experiments? (Select all that apply) - Selected Choice -  Weights & Biases    \n",
       "0                                                NaN                                                                                                                             \n",
       "1                                                NaN                                                                                                                             \n",
       "2                                                NaN                                                                                                                             \n",
       "3                                                NaN                                                                                                                             \n",
       "4                                                NaN                                                                                                                             \n",
       "\n",
       "                                                                                                                                                          Q38_B_Part_3  \\\n",
       "  In the next 2 years, do you hope to become more familiar with any of these tools for managing ML experiments? (Select all that apply) - Selected Choice -  Comet.ml    \n",
       "0                                                NaN                                                                                                                     \n",
       "1                                                NaN                                                                                                                     \n",
       "2                                                NaN                                                                                                                     \n",
       "3                                                NaN                                                                                                                     \n",
       "4                                                NaN                                                                                                                     \n",
       "\n",
       "                                                                                                                                                                    Q38_B_Part_4  \\\n",
       "  In the next 2 years, do you hope to become more familiar with any of these tools for managing ML experiments? (Select all that apply) - Selected Choice -  Sacred + Omniboard    \n",
       "0                                                NaN                                                                                                                               \n",
       "1                                                NaN                                                                                                                               \n",
       "2                                                NaN                                                                                                                               \n",
       "3                                                NaN                                                                                                                               \n",
       "4                                                NaN                                                                                                                               \n",
       "\n",
       "                                                                                                                                                             Q38_B_Part_5  \\\n",
       "  In the next 2 years, do you hope to become more familiar with any of these tools for managing ML experiments? (Select all that apply) - Selected Choice -  TensorBoard    \n",
       "0                                                NaN                                                                                                                        \n",
       "1                                                NaN                                                                                                                        \n",
       "2                                       TensorBoard                                                                                                                         \n",
       "3                                                NaN                                                                                                                        \n",
       "4                                                NaN                                                                                                                        \n",
       "\n",
       "                                                                                                                                                          Q38_B_Part_6  \\\n",
       "  In the next 2 years, do you hope to become more familiar with any of these tools for managing ML experiments? (Select all that apply) - Selected Choice -  Guild.ai    \n",
       "0                                                NaN                                                                                                                     \n",
       "1                                                NaN                                                                                                                     \n",
       "2                                                NaN                                                                                                                     \n",
       "3                                                NaN                                                                                                                     \n",
       "4                                                NaN                                                                                                                     \n",
       "\n",
       "                                                                                                                                                          Q38_B_Part_7  \\\n",
       "  In the next 2 years, do you hope to become more familiar with any of these tools for managing ML experiments? (Select all that apply) - Selected Choice -  Polyaxon    \n",
       "0                                                NaN                                                                                                                     \n",
       "1                                                NaN                                                                                                                     \n",
       "2                                                NaN                                                                                                                     \n",
       "3                                                NaN                                                                                                                     \n",
       "4                                                NaN                                                                                                                     \n",
       "\n",
       "                                                                                                                                                                      Q38_B_Part_9  \\\n",
       "  In the next 2 years, do you hope to become more familiar with any of these tools for managing ML experiments? (Select all that apply) - Selected Choice -  Domino Model Monitor    \n",
       "0                                                NaN                                                                                                                                 \n",
       "1                                                NaN                                                                                                                                 \n",
       "2                                                NaN                                                                                                                                 \n",
       "3                                                NaN                                                                                                                                 \n",
       "4                                                NaN                                                                                                                                 \n",
       "\n",
       "                                                                                                                                                   Q38_B_Part_11  \\\n",
       "  In the next 2 years, do you hope to become more familiar with any of these tools for managing ML experiments? (Select all that apply) - Selected Choice - None   \n",
       "0                                                NaN                                                                                                               \n",
       "1                                               None                                                                                                               \n",
       "2                                                NaN                                                                                                               \n",
       "3                                               None                                                                                                               \n",
       "4                                                NaN                                                                                                               \n",
       "\n",
       "                                                                                                                                                      Q38_B_OTHER  \n",
       "  In the next 2 years, do you hope to become more familiar with any of these tools for managing ML experiments? (Select all that apply) - Selected Choice - Other  \n",
       "0                                                NaN                                                                                                               \n",
       "1                                                NaN                                                                                                               \n",
       "2                                                NaN                                                                                                               \n",
       "3                                                NaN                                                                                                               \n",
       "4                                                NaN                                                                                                               \n",
       "\n",
       "[5 rows x 293 columns]"
      ]
     },
     "execution_count": 255,
     "metadata": {},
     "output_type": "execute_result"
    }
   ],
   "source": [
    "df.head()"
   ]
  },
  {
   "cell_type": "code",
   "execution_count": 256,
   "metadata": {},
   "outputs": [
    {
     "data": {
      "text/plain": [
       "{'-': 'Year',\n",
       " 'Time from Start to Finish (seconds)': 'Duration (in seconds)',\n",
       " 'Q1': 'What is your age (# years)?',\n",
       " 'Q2': 'What is your gender? - Selected Choice',\n",
       " 'Q3': 'In which country do you currently reside?',\n",
       " 'Q4': 'What is the highest level of formal education that you have attained or plan to attain within the next 2 years?',\n",
       " 'Q5': 'Select the title most similar to your current role (or most recent title if retired): - Selected Choice',\n",
       " 'Q6': 'For how many years have you been writing code and/or programming?',\n",
       " 'Q7_Part_1': 'What programming languages do you use on a regular basis? (Select all that apply) - Selected Choice - Python',\n",
       " 'Q7_Part_2': 'What programming languages do you use on a regular basis? (Select all that apply) - Selected Choice - R',\n",
       " 'Q7_Part_3': 'What programming languages do you use on a regular basis? (Select all that apply) - Selected Choice - SQL',\n",
       " 'Q7_Part_4': 'What programming languages do you use on a regular basis? (Select all that apply) - Selected Choice - C',\n",
       " 'Q7_Part_5': 'What programming languages do you use on a regular basis? (Select all that apply) - Selected Choice - C++',\n",
       " 'Q7_Part_6': 'What programming languages do you use on a regular basis? (Select all that apply) - Selected Choice - Java',\n",
       " 'Q7_Part_7': 'What programming languages do you use on a regular basis? (Select all that apply) - Selected Choice - Javascript',\n",
       " 'Q7_Part_8': 'What programming languages do you use on a regular basis? (Select all that apply) - Selected Choice - Julia',\n",
       " 'Q7_Part_9': 'What programming languages do you use on a regular basis? (Select all that apply) - Selected Choice - Swift',\n",
       " 'Q7_Part_10': 'What programming languages do you use on a regular basis? (Select all that apply) - Selected Choice - Bash',\n",
       " 'Q7_Part_11': 'What programming languages do you use on a regular basis? (Select all that apply) - Selected Choice - MATLAB',\n",
       " 'Q7_Part_12': 'What programming languages do you use on a regular basis? (Select all that apply) - Selected Choice - None',\n",
       " 'Q7_OTHER': 'What programming languages do you use on a regular basis? (Select all that apply) - Selected Choice - Other',\n",
       " 'Q8': 'What programming language would you recommend an aspiring data scientist to learn first? - Selected Choice',\n",
       " 'Q9_Part_1': \"Which of the following integrated development environments (IDE's) do you use on a regular basis?  (Select all that apply) - Selected Choice - Jupyter (JupyterLab, Jupyter Notebooks, etc) \",\n",
       " 'Q9_Part_2': \"Which of the following integrated development environments (IDE's) do you use on a regular basis?  (Select all that apply) - Selected Choice -  RStudio \",\n",
       " 'Q9_Part_3': \"Which of the following integrated development environments (IDE's) do you use on a regular basis?  (Select all that apply) - Selected Choice -  Visual Studio / Visual Studio Code \",\n",
       " 'Q9_Part_5': \"Which of the following integrated development environments (IDE's) do you use on a regular basis?  (Select all that apply) - Selected Choice -  PyCharm \",\n",
       " 'Q9_Part_6': \"Which of the following integrated development environments (IDE's) do you use on a regular basis?  (Select all that apply) - Selected Choice -   Spyder  \",\n",
       " 'Q9_Part_7': \"Which of the following integrated development environments (IDE's) do you use on a regular basis?  (Select all that apply) - Selected Choice -   Notepad++  \",\n",
       " 'Q9_Part_8': \"Which of the following integrated development environments (IDE's) do you use on a regular basis?  (Select all that apply) - Selected Choice -   Sublime Text  \",\n",
       " 'Q9_Part_9': \"Which of the following integrated development environments (IDE's) do you use on a regular basis?  (Select all that apply) - Selected Choice -   Vim / Emacs  \",\n",
       " 'Q9_Part_10': \"Which of the following integrated development environments (IDE's) do you use on a regular basis?  (Select all that apply) - Selected Choice -  MATLAB \",\n",
       " 'Q9_Part_12': \"Which of the following integrated development environments (IDE's) do you use on a regular basis?  (Select all that apply) - Selected Choice - None\",\n",
       " 'Q9_OTHER': \"Which of the following integrated development environments (IDE's) do you use on a regular basis?  (Select all that apply) - Selected Choice - Other\",\n",
       " 'Q10_Part_1': 'Which of the following hosted notebook products do you use on a regular basis?  (Select all that apply) - Selected Choice -  Kaggle Notebooks',\n",
       " 'Q10_Part_2': 'Which of the following hosted notebook products do you use on a regular basis?  (Select all that apply) - Selected Choice - Colab Notebooks',\n",
       " 'Q10_Part_3': 'Which of the following hosted notebook products do you use on a regular basis?  (Select all that apply) - Selected Choice - Azure Notebooks',\n",
       " 'Q10_Part_4': 'Which of the following hosted notebook products do you use on a regular basis?  (Select all that apply) - Selected Choice -  Paperspace / Gradient ',\n",
       " 'Q10_Part_5': 'Which of the following hosted notebook products do you use on a regular basis?  (Select all that apply) - Selected Choice -  Binder / JupyterHub ',\n",
       " 'Q10_Part_6': 'Which of the following hosted notebook products do you use on a regular basis?  (Select all that apply) - Selected Choice -  Code Ocean ',\n",
       " 'Q10_Part_7': 'Which of the following hosted notebook products do you use on a regular basis?  (Select all that apply) - Selected Choice -  IBM Watson Studio ',\n",
       " 'Q10_Part_8': 'Which of the following hosted notebook products do you use on a regular basis?  (Select all that apply) - Selected Choice -  Amazon Sagemaker Studio Notebooks ',\n",
       " 'Q10_Part_9': 'Which of the following hosted notebook products do you use on a regular basis?  (Select all that apply) - Selected Choice -  Amazon EMR Notebooks ',\n",
       " 'Q10_Part_10': 'Which of the following hosted notebook products do you use on a regular basis?  (Select all that apply) - Selected Choice - Google Cloud Notebooks (AI Platform / Vertex AI) ',\n",
       " 'Q10_Part_11': 'Which of the following hosted notebook products do you use on a regular basis?  (Select all that apply) - Selected Choice - Google Cloud Datalab',\n",
       " 'Q10_Part_12': 'Which of the following hosted notebook products do you use on a regular basis?  (Select all that apply) - Selected Choice -  Databricks Collaborative Notebooks ',\n",
       " 'Q10_Part_16': 'Which of the following hosted notebook products do you use on a regular basis?  (Select all that apply) - Selected Choice - None',\n",
       " 'Q10_OTHER': 'Which of the following hosted notebook products do you use on a regular basis?  (Select all that apply) - Selected Choice - Other',\n",
       " 'Q11': 'What type of computing platform do you use most often for your data science projects? - Selected Choice',\n",
       " 'Q12new': 'Which types of specialized hardware do you use on a regular basis?  (Select all that apply) - Selected Choice - CPUs',\n",
       " 'Q12_Part_1': 'Which types of specialized hardware do you use on a regular basis?  (Select all that apply) - Selected Choice -  NVIDIA GPUs ',\n",
       " 'Q12_Part_2': 'Which types of specialized hardware do you use on a regular basis?  (Select all that apply) - Selected Choice -  Google Cloud TPUs ',\n",
       " 'Q12_Part_5': 'Which types of specialized hardware do you use on a regular basis?  (Select all that apply) - Selected Choice - None',\n",
       " 'Q12_OTHER': 'Which types of specialized hardware do you use on a regular basis?  (Select all that apply) - Selected Choice - Other',\n",
       " 'Q13': 'Approximately how many times have you used a TPU (tensor processing unit)?',\n",
       " 'Q14_Part_1': 'What data visualization libraries or tools do you use on a regular basis?  (Select all that apply) - Selected Choice -  Matplotlib ',\n",
       " 'Q14_Part_2': 'What data visualization libraries or tools do you use on a regular basis?  (Select all that apply) - Selected Choice -  Seaborn ',\n",
       " 'Q14_Part_3': 'What data visualization libraries or tools do you use on a regular basis?  (Select all that apply) - Selected Choice -  Plotly / Plotly Express ',\n",
       " 'Q14_Part_4': 'What data visualization libraries or tools do you use on a regular basis?  (Select all that apply) - Selected Choice -  Ggplot / ggplot2 ',\n",
       " 'Q14_Part_5': 'What data visualization libraries or tools do you use on a regular basis?  (Select all that apply) - Selected Choice -  Shiny ',\n",
       " 'Q14_Part_6': 'What data visualization libraries or tools do you use on a regular basis?  (Select all that apply) - Selected Choice -  D3 js ',\n",
       " 'Q14_Part_7': 'What data visualization libraries or tools do you use on a regular basis?  (Select all that apply) - Selected Choice -  Altair ',\n",
       " 'Q14_Part_8': 'What data visualization libraries or tools do you use on a regular basis?  (Select all that apply) - Selected Choice -  Bokeh ',\n",
       " 'Q14_Part_9': 'What data visualization libraries or tools do you use on a regular basis?  (Select all that apply) - Selected Choice -  Geoplotlib ',\n",
       " 'Q14_Part_10': 'What data visualization libraries or tools do you use on a regular basis?  (Select all that apply) - Selected Choice -  Leaflet / Folium ',\n",
       " 'Q14_Part_11': 'What data visualization libraries or tools do you use on a regular basis?  (Select all that apply) - Selected Choice - None',\n",
       " 'Q14_OTHER': 'What data visualization libraries or tools do you use on a regular basis?  (Select all that apply) - Selected Choice - Other',\n",
       " 'Q15': 'For how many years have you used machine learning methods?',\n",
       " 'Q16_Part_1': 'Which of the following machine learning frameworks do you use on a regular basis? (Select all that apply) - Selected Choice -   Scikit-learn ',\n",
       " 'Q16_Part_2': 'Which of the following machine learning frameworks do you use on a regular basis? (Select all that apply) - Selected Choice -   TensorFlow ',\n",
       " 'Q16_Part_3': 'Which of the following machine learning frameworks do you use on a regular basis? (Select all that apply) - Selected Choice -  Keras ',\n",
       " 'Q16_Part_4': 'Which of the following machine learning frameworks do you use on a regular basis? (Select all that apply) - Selected Choice -  PyTorch ',\n",
       " 'Q16_Part_5': 'Which of the following machine learning frameworks do you use on a regular basis? (Select all that apply) - Selected Choice -  Fast.ai ',\n",
       " 'Q16_Part_6': 'Which of the following machine learning frameworks do you use on a regular basis? (Select all that apply) - Selected Choice -  MXNet ',\n",
       " 'Q16_Part_7': 'Which of the following machine learning frameworks do you use on a regular basis? (Select all that apply) - Selected Choice -  Xgboost ',\n",
       " 'Q16_Part_8': 'Which of the following machine learning frameworks do you use on a regular basis? (Select all that apply) - Selected Choice -  LightGBM ',\n",
       " 'Q16_Part_9': 'Which of the following machine learning frameworks do you use on a regular basis? (Select all that apply) - Selected Choice -  CatBoost ',\n",
       " 'Q16_Part_10': 'Which of the following machine learning frameworks do you use on a regular basis? (Select all that apply) - Selected Choice -  Prophet ',\n",
       " 'Q16_Part_11': 'Which of the following machine learning frameworks do you use on a regular basis? (Select all that apply) - Selected Choice -  H2O 3 ',\n",
       " 'Q16_Part_12': 'Which of the following machine learning frameworks do you use on a regular basis? (Select all that apply) - Selected Choice -  Caret ',\n",
       " 'Q16_Part_13': 'Which of the following machine learning frameworks do you use on a regular basis? (Select all that apply) - Selected Choice -  Tidymodels ',\n",
       " 'Q16_Part_14': 'Which of the following machine learning frameworks do you use on a regular basis? (Select all that apply) - Selected Choice -  JAX ',\n",
       " 'Q16_Part_17': 'Which of the following machine learning frameworks do you use on a regular basis? (Select all that apply) - Selected Choice - None',\n",
       " 'Q16_OTHER': 'Which of the following machine learning frameworks do you use on a regular basis? (Select all that apply) - Selected Choice - Other',\n",
       " 'Q17_Part_1': 'Which of the following ML algorithms do you use on a regular basis? (Select all that apply): - Selected Choice - Linear or Logistic Regression',\n",
       " 'Q17_Part_2': 'Which of the following ML algorithms do you use on a regular basis? (Select all that apply): - Selected Choice - Decision Trees or Random Forests',\n",
       " 'Q17_Part_3': 'Which of the following ML algorithms do you use on a regular basis? (Select all that apply): - Selected Choice - Gradient Boosting Machines (xgboost, lightgbm, etc)',\n",
       " 'Q17_Part_4': 'Which of the following ML algorithms do you use on a regular basis? (Select all that apply): - Selected Choice - Bayesian Approaches',\n",
       " 'Q17_Part_5': 'Which of the following ML algorithms do you use on a regular basis? (Select all that apply): - Selected Choice - Evolutionary Approaches',\n",
       " 'Q17_Part_6': 'Which of the following ML algorithms do you use on a regular basis? (Select all that apply): - Selected Choice - Dense Neural Networks (MLPs, etc)',\n",
       " 'Q17_Part_7': 'Which of the following ML algorithms do you use on a regular basis? (Select all that apply): - Selected Choice - Convolutional Neural Networks',\n",
       " 'Q17_Part_8': 'Which of the following ML algorithms do you use on a regular basis? (Select all that apply): - Selected Choice - Generative Adversarial Networks',\n",
       " 'Q17_Part_9': 'Which of the following ML algorithms do you use on a regular basis? (Select all that apply): - Selected Choice - Recurrent Neural Networks',\n",
       " 'Q17_Part_10': 'Which of the following ML algorithms do you use on a regular basis? (Select all that apply): - Selected Choice - Transformer Networks (BERT, gpt-3, etc)',\n",
       " 'Q17_Part_11': 'Which of the following ML algorithms do you use on a regular basis? (Select all that apply): - Selected Choice - None',\n",
       " 'Q17_OTHER': 'Which of the following ML algorithms do you use on a regular basis? (Select all that apply): - Selected Choice - Other',\n",
       " 'Q18_Part_1': 'Which categories of computer vision methods do you use on a regular basis?  (Select all that apply) - Selected Choice - General purpose image/video tools (PIL, cv2, skimage, etc)',\n",
       " 'Q18_Part_2': 'Which categories of computer vision methods do you use on a regular basis?  (Select all that apply) - Selected Choice - Image segmentation methods (U-Net, Mask R-CNN, etc)',\n",
       " 'Q18_Part_3': 'Which categories of computer vision methods do you use on a regular basis?  (Select all that apply) - Selected Choice - Object detection methods (YOLOv3, RetinaNet, etc)',\n",
       " 'Q18_Part_4': 'Which categories of computer vision methods do you use on a regular basis?  (Select all that apply) - Selected Choice - Image classification and other general purpose networks (VGG, Inception, ResNet, ResNeXt, NASNet, EfficientNet, etc)',\n",
       " 'Q18_Part_5': 'Which categories of computer vision methods do you use on a regular basis?  (Select all that apply) - Selected Choice - Generative Networks (GAN, VAE, etc)',\n",
       " 'Q18_Part_6': 'Which categories of computer vision methods do you use on a regular basis?  (Select all that apply) - Selected Choice - None',\n",
       " 'Q18_OTHER': 'Which categories of computer vision methods do you use on a regular basis?  (Select all that apply) - Selected Choice - Other',\n",
       " 'Q19_Part_1': 'Which of the following natural language processing (NLP) methods do you use on a regular basis?  (Select all that apply) - Selected Choice - Word embeddings/vectors (GLoVe, fastText, word2vec)',\n",
       " 'Q19_Part_2': 'Which of the following natural language processing (NLP) methods do you use on a regular basis?  (Select all that apply) - Selected Choice - Encoder-decorder models (seq2seq, vanilla transformers)',\n",
       " 'Q19_Part_3': 'Which of the following natural language processing (NLP) methods do you use on a regular basis?  (Select all that apply) - Selected Choice - Contextualized embeddings (ELMo, CoVe)',\n",
       " 'Q19_Part_4': 'Which of the following natural language processing (NLP) methods do you use on a regular basis?  (Select all that apply) - Selected Choice - Transformer language models (GPT-3, BERT, XLnet, etc)',\n",
       " 'Q19_Part_5': 'Which of the following natural language processing (NLP) methods do you use on a regular basis?  (Select all that apply) - Selected Choice - None',\n",
       " 'Q19_OTHER': 'Which of the following natural language processing (NLP) methods do you use on a regular basis?  (Select all that apply) - Selected Choice - Other',\n",
       " 'Q20': 'In what industry is your current employer/contract (or your most recent employer if retired)? - Selected Choice',\n",
       " 'Q21': 'What is the size of the company where you are employed?',\n",
       " 'Q22': 'Approximately how many individuals are responsible for data science workloads at your place of business?',\n",
       " 'Q23': 'Does your current employer incorporate machine learning methods into their business?',\n",
       " 'Q24_Part_1': 'Select any activities that make up an important part of your role at work: (Select all that apply) - Selected Choice - Analyze and understand data to influence product or business decisions',\n",
       " 'Q24_Part_2': 'Select any activities that make up an important part of your role at work: (Select all that apply) - Selected Choice - Build and/or run the data infrastructure that my business uses for storing, analyzing, and operationalizing data',\n",
       " 'Q24_Part_3': 'Select any activities that make up an important part of your role at work: (Select all that apply) - Selected Choice - Build prototypes to explore applying machine learning to new areas',\n",
       " 'Q24_Part_4': 'Select any activities that make up an important part of your role at work: (Select all that apply) - Selected Choice - Build and/or run a machine learning service that operationally improves my product or workflows',\n",
       " 'Q24_Part_5': 'Select any activities that make up an important part of your role at work: (Select all that apply) - Selected Choice - Experimentation and iteration to improve existing ML models',\n",
       " 'Q24_Part_6': 'Select any activities that make up an important part of your role at work: (Select all that apply) - Selected Choice - Do research that advances the state of the art of machine learning',\n",
       " 'Q24_Part_7': 'Select any activities that make up an important part of your role at work: (Select all that apply) - Selected Choice - None of these activities are an important part of my role at work',\n",
       " 'Q24_OTHER': 'Select any activities that make up an important part of your role at work: (Select all that apply) - Selected Choice - Other',\n",
       " 'Q25': 'What is your current yearly compensation (approximate $USD)?',\n",
       " 'Q26': 'Approximately how much money have you (or your team) spent on machine learning and/or cloud computing services at home (or at work) in the past 5 years (approximate $USD)?',\n",
       " 'Q27_A_Part_1': 'Which of the following cloud computing platforms do you use on a regular basis? (Select all that apply) - Selected Choice -  Amazon Web Services (AWS) ',\n",
       " 'Q27_A_Part_2': 'Which of the following cloud computing platforms do you use on a regular basis? (Select all that apply) - Selected Choice -  Microsoft Azure ',\n",
       " 'Q27_A_Part_3': 'Which of the following cloud computing platforms do you use on a regular basis? (Select all that apply) - Selected Choice -  Google Cloud Platform (GCP) ',\n",
       " 'Q27_A_Part_4': 'Which of the following cloud computing platforms do you use on a regular basis? (Select all that apply) - Selected Choice -  IBM Cloud / Red Hat ',\n",
       " 'Q27_A_Part_5': 'Which of the following cloud computing platforms do you use on a regular basis? (Select all that apply) - Selected Choice -  Oracle Cloud ',\n",
       " 'Q27_A_Part_6': 'Which of the following cloud computing platforms do you use on a regular basis? (Select all that apply) - Selected Choice -  SAP Cloud ',\n",
       " 'Q27_A_Part_7': 'Which of the following cloud computing platforms do you use on a regular basis? (Select all that apply) - Selected Choice -  Salesforce Cloud ',\n",
       " 'Q27_A_Part_8': 'Which of the following cloud computing platforms do you use on a regular basis? (Select all that apply) - Selected Choice -  VMware Cloud ',\n",
       " 'Q27_A_Part_9': 'Which of the following cloud computing platforms do you use on a regular basis? (Select all that apply) - Selected Choice -  Alibaba Cloud ',\n",
       " 'Q27_A_Part_10': 'Which of the following cloud computing platforms do you use on a regular basis? (Select all that apply) - Selected Choice -  Tencent Cloud ',\n",
       " 'Q27_A_Part_11': 'Which of the following cloud computing platforms do you use on a regular basis? (Select all that apply) - Selected Choice - None',\n",
       " 'Q27_A_OTHER': 'Which of the following cloud computing platforms do you use on a regular basis? (Select all that apply) - Selected Choice - Other',\n",
       " 'Q31_A_Part_1': 'Do you use any of the following managed machine learning products on a regular basis? (Select all that apply) - Selected Choice -  Amazon SageMaker ',\n",
       " 'Q31_A_Part_2': 'Do you use any of the following managed machine learning products on a regular basis? (Select all that apply) - Selected Choice -  Azure Machine Learning Studio ',\n",
       " 'Q31_A_Part_9': 'Do you use any of the following managed machine learning products on a regular basis? (Select all that apply) - Selected Choice - No / None',\n",
       " 'Q31_A_OTHER': 'Do you use any of the following managed machine learning products on a regular basis? (Select all that apply) - Selected Choice - Other',\n",
       " 'Q32_A_Part_1': 'Which of the following big data products (relational databases, data warehouses, data lakes, or similar) do you use on a regular basis? (Select all that apply) - Selected Choice - MySQL ',\n",
       " 'Q32_A_Part_2': 'Which of the following big data products (relational databases, data warehouses, data lakes, or similar) do you use on a regular basis? (Select all that apply) - Selected Choice - PostgreSQL ',\n",
       " 'Q32_A_Part_3': 'Which of the following big data products (relational databases, data warehouses, data lakes, or similar) do you use on a regular basis? (Select all that apply) - Selected Choice - SQLite ',\n",
       " 'Q32_A_Part_4': 'Which of the following big data products (relational databases, data warehouses, data lakes, or similar) do you use on a regular basis? (Select all that apply) - Selected Choice - Oracle Database ',\n",
       " 'Q32_A_Part_5': 'Which of the following big data products (relational databases, data warehouses, data lakes, or similar) do you use on a regular basis? (Select all that apply) - Selected Choice - MongoDB ',\n",
       " 'Q32_A_Part_6': 'Which of the following big data products (relational databases, data warehouses, data lakes, or similar) do you use on a regular basis? (Select all that apply) - Selected Choice - Snowflake ',\n",
       " 'Q32_A_Part_7': 'Which of the following big data products (relational databases, data warehouses, data lakes, or similar) do you use on a regular basis? (Select all that apply) - Selected Choice - IBM Db2 ',\n",
       " 'Q32_A_Part_8': 'Which of the following big data products (relational databases, data warehouses, data lakes, or similar) do you use on a regular basis? (Select all that apply) - Selected Choice - Microsoft SQL Server ',\n",
       " 'Q32_A_Part_11': 'Which of the following big data products (relational databases, data warehouses, data lakes, or similar) do you use on a regular basis? (Select all that apply) - Selected Choice - Amazon Redshift ',\n",
       " 'Q32_A_Part_14': 'Which of the following big data products (relational databases, data warehouses, data lakes, or similar) do you use on a regular basis? (Select all that apply) - Selected Choice - Amazon DynamoDB ',\n",
       " 'Q32_A_Part_15': 'Which of the following big data products (relational databases, data warehouses, data lakes, or similar) do you use on a regular basis? (Select all that apply) - Selected Choice - Google Cloud BigQuery ',\n",
       " 'Q32_A_Part_16': 'Which of the following big data products (relational databases, data warehouses, data lakes, or similar) do you use on a regular basis? (Select all that apply) - Selected Choice - Google Cloud SQL ',\n",
       " 'Q32_A_Part_17': 'Which of the following big data products (relational databases, data warehouses, data lakes, or similar) do you use on a regular basis? (Select all that apply) - Selected Choice - Google Cloud Firestore ',\n",
       " 'Q32_A_Part_20': 'Which of the following big data products (relational databases, data warehouses, data lakes, or similar) do you use on a regular basis? (Select all that apply) - Selected Choice - None',\n",
       " 'Q32_A_OTHER': 'Which of the following big data products (relational databases, data warehouses, data lakes, or similar) do you use on a regular basis? (Select all that apply) - Selected Choice - Other',\n",
       " 'Q33': 'Which of the following big data products (relational database, data warehouse, data lake, or similar) do you use most often? - Selected Choice',\n",
       " 'Q34_A_Part_1': 'Which of the following business intelligence tools do you use on a regular basis? (Select all that apply) - Selected Choice - Amazon QuickSight',\n",
       " 'Q34_A_Part_2': 'Which of the following business intelligence tools do you use on a regular basis? (Select all that apply) - Selected Choice - Microsoft Power BI',\n",
       " 'Q34_A_Part_3': 'Which of the following business intelligence tools do you use on a regular basis? (Select all that apply) - Selected Choice - Google Data Studio',\n",
       " 'Q34_A_Part_4': 'Which of the following business intelligence tools do you use on a regular basis? (Select all that apply) - Selected Choice - Looker',\n",
       " 'Q34_A_Part_5': 'Which of the following business intelligence tools do you use on a regular basis? (Select all that apply) - Selected Choice - Tableau',\n",
       " 'Q34_A_Part_6': 'Which of the following business intelligence tools do you use on a regular basis? (Select all that apply) - Selected Choice - Salesforce',\n",
       " 'Q34_A_Part_8': 'Which of the following business intelligence tools do you use on a regular basis? (Select all that apply) - Selected Choice - Qlik',\n",
       " 'Q34_A_Part_9': 'Which of the following business intelligence tools do you use on a regular basis? (Select all that apply) - Selected Choice - Domo',\n",
       " 'Q34_A_Part_10': 'Which of the following business intelligence tools do you use on a regular basis? (Select all that apply) - Selected Choice - TIBCO Spotfire',\n",
       " 'Q34_A_Part_11': 'Which of the following business intelligence tools do you use on a regular basis? (Select all that apply) - Selected Choice - Alteryx ',\n",
       " 'Q34_A_Part_12': 'Which of the following business intelligence tools do you use on a regular basis? (Select all that apply) - Selected Choice - Sisense ',\n",
       " 'Q34_A_Part_13': 'Which of the following business intelligence tools do you use on a regular basis? (Select all that apply) - Selected Choice - SAP Analytics Cloud ',\n",
       " 'Q34_A_Part_16': 'Which of the following business intelligence tools do you use on a regular basis? (Select all that apply) - Selected Choice - None',\n",
       " 'Q34_A_OTHER': 'Which of the following business intelligence tools do you use on a regular basis? (Select all that apply) - Selected Choice - Other',\n",
       " 'Q35': 'Which of the following business intelligence tools do you use most often? - Selected Choice',\n",
       " 'Q36_A_Part_1': 'Do you use any automated machine learning tools (or partial AutoML tools) on a regular basis?  (Select all that apply) - Selected Choice - Automated data augmentation (e.g. imgaug, albumentations)',\n",
       " 'Q36_A_Part_2': 'Do you use any automated machine learning tools (or partial AutoML tools) on a regular basis?  (Select all that apply) - Selected Choice - Automated feature engineering/selection (e.g. tpot, boruta_py)',\n",
       " 'Q36_A_Part_3': 'Do you use any automated machine learning tools (or partial AutoML tools) on a regular basis?  (Select all that apply) - Selected Choice - Automated model selection (e.g. auto-sklearn, xcessiv)',\n",
       " 'Q36_A_Part_4': 'Do you use any automated machine learning tools (or partial AutoML tools) on a regular basis?  (Select all that apply) - Selected Choice - Automated model architecture searches (e.g. darts, enas)',\n",
       " 'Q36_A_Part_5': 'Do you use any automated machine learning tools (or partial AutoML tools) on a regular basis?  (Select all that apply) - Selected Choice - Automated hyperparameter tuning (e.g. hyperopt, ray.tune, Vizier)',\n",
       " 'Q36_A_Part_6': 'Do you use any automated machine learning tools (or partial AutoML tools) on a regular basis?  (Select all that apply) - Selected Choice - Automation of full ML pipelines (e.g. Google AutoML, H2O Driverless AI)',\n",
       " 'Q36_A_Part_7': 'Do you use any automated machine learning tools (or partial AutoML tools) on a regular basis?  (Select all that apply) - Selected Choice - No / None',\n",
       " 'Q36_A_OTHER': 'Do you use any automated machine learning tools (or partial AutoML tools) on a regular basis?  (Select all that apply) - Selected Choice - Other',\n",
       " 'Q37_A_Part_1': 'Which of the following automated machine learning tools (or partial AutoML tools) do you use on a regular basis?  (Select all that apply) - Selected Choice -  Google Cloud AutoML ',\n",
       " 'Q37_A_Part_2': 'Which of the following automated machine learning tools (or partial AutoML tools) do you use on a regular basis?  (Select all that apply) - Selected Choice -  H2O Driverless AI  ',\n",
       " 'Q37_A_Part_3': 'Which of the following automated machine learning tools (or partial AutoML tools) do you use on a regular basis?  (Select all that apply) - Selected Choice -  Databricks AutoML ',\n",
       " 'Q37_A_Part_4': 'Which of the following automated machine learning tools (or partial AutoML tools) do you use on a regular basis?  (Select all that apply) - Selected Choice -  DataRobot AutoML ',\n",
       " 'Q37_A_Part_7': 'Which of the following automated machine learning tools (or partial AutoML tools) do you use on a regular basis?  (Select all that apply) - Selected Choice - No / None',\n",
       " 'Q37_A_OTHER': 'Which of the following automated machine learning tools (or partial AutoML tools) do you use on a regular basis?  (Select all that apply) - Selected Choice - Other',\n",
       " 'Q38_A_Part_1': 'Do you use any tools to help manage machine learning experiments? (Select all that apply) - Selected Choice -  Neptune.ai ',\n",
       " 'Q38_A_Part_2': 'Do you use any tools to help manage machine learning experiments? (Select all that apply) - Selected Choice -  Weights & Biases ',\n",
       " 'Q38_A_Part_3': 'Do you use any tools to help manage machine learning experiments? (Select all that apply) - Selected Choice -  Comet.ml ',\n",
       " 'Q38_A_Part_4': 'Do you use any tools to help manage machine learning experiments? (Select all that apply) - Selected Choice -  Sacred + Omniboard ',\n",
       " 'Q38_A_Part_5': 'Do you use any tools to help manage machine learning experiments? (Select all that apply) - Selected Choice -  TensorBoard ',\n",
       " 'Q38_A_Part_6': 'Do you use any tools to help manage machine learning experiments? (Select all that apply) - Selected Choice -  Guild.ai ',\n",
       " 'Q38_A_Part_7': 'Do you use any tools to help manage machine learning experiments? (Select all that apply) - Selected Choice -  Polyaxon ',\n",
       " 'Q38_A_Part_9': 'Do you use any tools to help manage machine learning experiments? (Select all that apply) - Selected Choice -  Domino Model Monitor ',\n",
       " 'Q38_A_Part_11': 'Do you use any tools to help manage machine learning experiments? (Select all that apply) - Selected Choice - No / None',\n",
       " 'Q38_A_OTHER': 'Do you use any tools to help manage machine learning experiments? (Select all that apply) - Selected Choice - Other',\n",
       " 'Q39_Part_1': 'Where do you publicly share your data analysis or machine learning applications? (Select all that apply) - Selected Choice -  Plotly Dash ',\n",
       " 'Q39_Part_2': 'Where do you publicly share your data analysis or machine learning applications? (Select all that apply) - Selected Choice -  Streamlit ',\n",
       " 'Q39_Part_3': 'Where do you publicly share your data analysis or machine learning applications? (Select all that apply) - Selected Choice -  NBViewer ',\n",
       " 'Q39_Part_4': 'Where do you publicly share your data analysis or machine learning applications? (Select all that apply) - Selected Choice -  GitHub ',\n",
       " 'Q39_Part_5': 'Where do you publicly share your data analysis or machine learning applications? (Select all that apply) - Selected Choice -  Personal blog ',\n",
       " 'Q39_Part_6': 'Where do you publicly share your data analysis or machine learning applications? (Select all that apply) - Selected Choice -  Kaggle ',\n",
       " 'Q39_Part_7': 'Where do you publicly share your data analysis or machine learning applications? (Select all that apply) - Selected Choice -  Colab ',\n",
       " 'Q39_Part_8': 'Where do you publicly share your data analysis or machine learning applications? (Select all that apply) - Selected Choice -  Shiny ',\n",
       " 'Q39_Part_9': 'Where do you publicly share your data analysis or machine learning applications? (Select all that apply) - Selected Choice - I do not share my work publicly',\n",
       " 'Q39_OTHER': 'Where do you publicly share your data analysis or machine learning applications? (Select all that apply) - Selected Choice - Other',\n",
       " 'Q40_Part_1': 'On which platforms have you begun or completed data science courses? (Select all that apply) - Selected Choice - Coursera',\n",
       " 'Q40_Part_2': 'On which platforms have you begun or completed data science courses? (Select all that apply) - Selected Choice - edX',\n",
       " 'Q40_Part_3': 'On which platforms have you begun or completed data science courses? (Select all that apply) - Selected Choice - Kaggle Learn Courses',\n",
       " 'Q40_Part_4': 'On which platforms have you begun or completed data science courses? (Select all that apply) - Selected Choice - DataCamp',\n",
       " 'Q40_Part_5': 'On which platforms have you begun or completed data science courses? (Select all that apply) - Selected Choice - Fast.ai',\n",
       " 'Q40_Part_6': 'On which platforms have you begun or completed data science courses? (Select all that apply) - Selected Choice - Udacity',\n",
       " 'Q40_Part_7': 'On which platforms have you begun or completed data science courses? (Select all that apply) - Selected Choice - Udemy',\n",
       " 'Q40_Part_8': 'On which platforms have you begun or completed data science courses? (Select all that apply) - Selected Choice - LinkedIn Learning',\n",
       " 'Q40_Part_9': 'On which platforms have you begun or completed data science courses? (Select all that apply) - Selected Choice - Cloud-certification programs (direct from AWS, Azure, GCP, or similar)',\n",
       " 'Q40_Part_10': 'On which platforms have you begun or completed data science courses? (Select all that apply) - Selected Choice - University Courses (resulting in a university degree)',\n",
       " 'Q40_Part_11': 'On which platforms have you begun or completed data science courses? (Select all that apply) - Selected Choice - None',\n",
       " 'Q40_OTHER': 'On which platforms have you begun or completed data science courses? (Select all that apply) - Selected Choice - Other',\n",
       " 'Q41': 'What is the primary tool that you use at work or school to analyze data? (Include text response) - Selected Choice',\n",
       " 'Q42_Part_1': 'Who/what are your favorite media sources that report on data science topics? (Select all that apply) - Selected Choice - Twitter (data science influencers)',\n",
       " 'Q42_Part_2': \"Who/what are your favorite media sources that report on data science topics? (Select all that apply) - Selected Choice - Email newsletters (Data Elixir, O'Reilly Data & AI, etc)\",\n",
       " 'Q42_Part_3': 'Who/what are your favorite media sources that report on data science topics? (Select all that apply) - Selected Choice - Reddit (r/machinelearning, etc)',\n",
       " 'Q42_Part_4': 'Who/what are your favorite media sources that report on data science topics? (Select all that apply) - Selected Choice - Kaggle (notebooks, forums, etc)',\n",
       " 'Q42_Part_5': 'Who/what are your favorite media sources that report on data science topics? (Select all that apply) - Selected Choice - Course Forums (forums.fast.ai, Coursera forums, etc)',\n",
       " 'Q42_Part_6': 'Who/what are your favorite media sources that report on data science topics? (Select all that apply) - Selected Choice - YouTube (Kaggle YouTube, Cloud AI Adventures, etc)',\n",
       " 'Q42_Part_7': 'Who/what are your favorite media sources that report on data science topics? (Select all that apply) - Selected Choice - Podcasts (Chai Time Data Science, Oâ€™Reilly Data Show, etc)',\n",
       " 'Q42_Part_8': 'Who/what are your favorite media sources that report on data science topics? (Select all that apply) - Selected Choice - Blogs (Towards Data Science, Analytics Vidhya, etc)',\n",
       " 'Q42_Part_9': 'Who/what are your favorite media sources that report on data science topics? (Select all that apply) - Selected Choice - Journal Publications (peer-reviewed journals, conference proceedings, etc)',\n",
       " 'Q42_Part_10': 'Who/what are your favorite media sources that report on data science topics? (Select all that apply) - Selected Choice - Slack Communities (ods.ai, kagglenoobs, etc)',\n",
       " 'Q42_Part_11': 'Who/what are your favorite media sources that report on data science topics? (Select all that apply) - Selected Choice - None',\n",
       " 'Q42_OTHER': 'Who/what are your favorite media sources that report on data science topics? (Select all that apply) - Selected Choice - Other',\n",
       " 'Q27_B_Part_1': 'Which of the following cloud computing platforms do you hope to become more familiar with in the next 2 years? - Selected Choice -  Amazon Web Services (AWS) ',\n",
       " 'Q27_B_Part_2': 'Which of the following cloud computing platforms do you hope to become more familiar with in the next 2 years? - Selected Choice -  Microsoft Azure ',\n",
       " 'Q27_B_Part_3': 'Which of the following cloud computing platforms do you hope to become more familiar with in the next 2 years? - Selected Choice -  Google Cloud Platform (GCP) ',\n",
       " 'Q27_B_Part_4': 'Which of the following cloud computing platforms do you hope to become more familiar with in the next 2 years? - Selected Choice -  IBM Cloud / Red Hat ',\n",
       " 'Q27_B_Part_5': 'Which of the following cloud computing platforms do you hope to become more familiar with in the next 2 years? - Selected Choice -  Oracle Cloud ',\n",
       " 'Q27_B_Part_6': 'Which of the following cloud computing platforms do you hope to become more familiar with in the next 2 years? - Selected Choice -  SAP Cloud ',\n",
       " 'Q27_B_Part_7': 'Which of the following cloud computing platforms do you hope to become more familiar with in the next 2 years? - Selected Choice -  VMware Cloud ',\n",
       " 'Q27_B_Part_8': 'Which of the following cloud computing platforms do you hope to become more familiar with in the next 2 years? - Selected Choice -  Salesforce Cloud ',\n",
       " 'Q27_B_Part_9': 'Which of the following cloud computing platforms do you hope to become more familiar with in the next 2 years? - Selected Choice -  Alibaba Cloud ',\n",
       " 'Q27_B_Part_10': 'Which of the following cloud computing platforms do you hope to become more familiar with in the next 2 years? - Selected Choice -  Tencent Cloud ',\n",
       " 'Q27_B_Part_11': 'Which of the following cloud computing platforms do you hope to become more familiar with in the next 2 years? - Selected Choice - None',\n",
       " 'Q27_B_OTHER': 'Which of the following cloud computing platforms do you hope to become more familiar with in the next 2 years? - Selected Choice - Other',\n",
       " 'Q32_B_Part_1': 'Which of the following big data products (relational databases, data warehouses, data lakes, or similar) do you hope to become more familiar with in the next 2 years? (Select all that apply) - Selected Choice - MySQL ',\n",
       " 'Q32_B_Part_2': 'Which of the following big data products (relational databases, data warehouses, data lakes, or similar) do you hope to become more familiar with in the next 2 years? (Select all that apply) - Selected Choice - PostgreSQL ',\n",
       " 'Q32_B_Part_3': 'Which of the following big data products (relational databases, data warehouses, data lakes, or similar) do you hope to become more familiar with in the next 2 years? (Select all that apply) - Selected Choice - SQLite ',\n",
       " 'Q32_B_Part_4': 'Which of the following big data products (relational databases, data warehouses, data lakes, or similar) do you hope to become more familiar with in the next 2 years? (Select all that apply) - Selected Choice - Oracle Database ',\n",
       " 'Q32_B_Part_5': 'Which of the following big data products (relational databases, data warehouses, data lakes, or similar) do you hope to become more familiar with in the next 2 years? (Select all that apply) - Selected Choice - MongoDB ',\n",
       " 'Q32_B_Part_6': 'Which of the following big data products (relational databases, data warehouses, data lakes, or similar) do you hope to become more familiar with in the next 2 years? (Select all that apply) - Selected Choice - Snowflake ',\n",
       " 'Q32_B_Part_7': 'Which of the following big data products (relational databases, data warehouses, data lakes, or similar) do you hope to become more familiar with in the next 2 years? (Select all that apply) - Selected Choice - IBM Db2 ',\n",
       " 'Q32_B_Part_8': 'Which of the following big data products (relational databases, data warehouses, data lakes, or similar) do you hope to become more familiar with in the next 2 years? (Select all that apply) - Selected Choice - Microsoft SQL Server ',\n",
       " 'Q32_B_Part_11': 'Which of the following big data products (relational databases, data warehouses, data lakes, or similar) do you hope to become more familiar with in the next 2 years? (Select all that apply) - Selected Choice - Amazon Redshift ',\n",
       " 'Q32_B_Part_13': 'Which of the following big data products (relational databases, data warehouses, data lakes, or similar) do you hope to become more familiar with in the next 2 years? (Select all that apply) - Selected Choice - Amazon DynamoDB ',\n",
       " 'Q32_B_Part_15': 'Which of the following big data products (relational databases, data warehouses, data lakes, or similar) do you hope to become more familiar with in the next 2 years? (Select all that apply) - Selected Choice - Google Cloud BigQuery ',\n",
       " 'Q32_B_Part_16': 'Which of the following big data products (relational databases, data warehouses, data lakes, or similar) do you hope to become more familiar with in the next 2 years? (Select all that apply) - Selected Choice - Google Cloud SQL ',\n",
       " 'Q32_B_Part_17': 'Which of the following big data products (relational databases, data warehouses, data lakes, or similar) do you hope to become more familiar with in the next 2 years? (Select all that apply) - Selected Choice - Google Cloud Firestore ',\n",
       " 'Q32_B_Part_20': 'Which of the following big data products (relational databases, data warehouses, data lakes, or similar) do you hope to become more familiar with in the next 2 years? (Select all that apply) - Selected Choice - None',\n",
       " 'Q32_B_OTHER': 'Which of the following big data products (relational databases, data warehouses, data lakes, or similar) do you hope to become more familiar with in the next 2 years? (Select all that apply) - Selected Choice - Other',\n",
       " 'Q34_B_Part_1': 'Which of the following business intelligence tools do you hope to become more familiar with in the next 2 years? (Select all that apply) - Selected Choice - Microsoft Power BI',\n",
       " 'Q34_B_Part_2': 'Which of the following business intelligence tools do you hope to become more familiar with in the next 2 years? (Select all that apply) - Selected Choice - Amazon QuickSight',\n",
       " 'Q34_B_Part_3': 'Which of the following business intelligence tools do you hope to become more familiar with in the next 2 years? (Select all that apply) - Selected Choice - Google Data Studio',\n",
       " 'Q34_B_Part_4': 'Which of the following business intelligence tools do you hope to become more familiar with in the next 2 years? (Select all that apply) - Selected Choice - Looker',\n",
       " 'Q34_B_Part_5': 'Which of the following business intelligence tools do you hope to become more familiar with in the next 2 years? (Select all that apply) - Selected Choice - Tableau',\n",
       " 'Q34_B_Part_6': 'Which of the following business intelligence tools do you hope to become more familiar with in the next 2 years? (Select all that apply) - Selected Choice - Salesforce',\n",
       " 'Q34_B_Part_8': 'Which of the following business intelligence tools do you hope to become more familiar with in the next 2 years? (Select all that apply) - Selected Choice - Qlik',\n",
       " 'Q34_B_Part_9': 'Which of the following business intelligence tools do you hope to become more familiar with in the next 2 years? (Select all that apply) - Selected Choice - Domo',\n",
       " 'Q34_B_Part_10': 'Which of the following business intelligence tools do you hope to become more familiar with in the next 2 years? (Select all that apply) - Selected Choice - TIBCO Spotfire',\n",
       " 'Q34_B_Part_11': 'Which of the following business intelligence tools do you hope to become more familiar with in the next 2 years? (Select all that apply) - Selected Choice - Alteryx ',\n",
       " 'Q34_B_Part_12': 'Which of the following business intelligence tools do you hope to become more familiar with in the next 2 years? (Select all that apply) - Selected Choice - Sisense ',\n",
       " 'Q34_B_Part_13': 'Which of the following business intelligence tools do you hope to become more familiar with in the next 2 years? (Select all that apply) - Selected Choice - SAP Analytics Cloud ',\n",
       " 'Q34_B_Part_16': 'Which of the following business intelligence tools do you hope to become more familiar with in the next 2 years? (Select all that apply) - Selected Choice - None',\n",
       " 'Q34_B_OTHER': 'Which of the following business intelligence tools do you hope to become more familiar with in the next 2 years? (Select all that apply) - Selected Choice - Other',\n",
       " 'Q36_B_Part_1': 'Which categories of automated machine learning tools (or partial AutoML tools) do you hope to become more familiar with in the next 2 years?  (Select all that apply) - Selected Choice - Automated data augmentation (e.g. imgaug, albumentations)',\n",
       " 'Q36_B_Part_2': 'Which categories of automated machine learning tools (or partial AutoML tools) do you hope to become more familiar with in the next 2 years?  (Select all that apply) - Selected Choice - Automated feature engineering/selection (e.g. tpot, boruta_py)',\n",
       " 'Q36_B_Part_3': 'Which categories of automated machine learning tools (or partial AutoML tools) do you hope to become more familiar with in the next 2 years?  (Select all that apply) - Selected Choice - Automated model selection (e.g. auto-sklearn, xcessiv)',\n",
       " 'Q36_B_Part_4': 'Which categories of automated machine learning tools (or partial AutoML tools) do you hope to become more familiar with in the next 2 years?  (Select all that apply) - Selected Choice - Automated model architecture searches (e.g. darts, enas)',\n",
       " 'Q36_B_Part_5': 'Which categories of automated machine learning tools (or partial AutoML tools) do you hope to become more familiar with in the next 2 years?  (Select all that apply) - Selected Choice - Automated hyperparameter tuning (e.g. hyperopt, ray.tune, Vizier)',\n",
       " 'Q36_B_Part_6': 'Which categories of automated machine learning tools (or partial AutoML tools) do you hope to become more familiar with in the next 2 years?  (Select all that apply) - Selected Choice - Automation of full ML pipelines (e.g. Google Cloud AutoML, H2O Driverless AI)',\n",
       " 'Q36_B_Part_7': 'Which categories of automated machine learning tools (or partial AutoML tools) do you hope to become more familiar with in the next 2 years?  (Select all that apply) - Selected Choice - None',\n",
       " 'Q36_B_OTHER': 'Which categories of automated machine learning tools (or partial AutoML tools) do you hope to become more familiar with in the next 2 years?  (Select all that apply) - Selected Choice - Other',\n",
       " 'Q37_B_Part_1': 'Which specific automated machine learning tools (or partial AutoML tools) do you hope to become more familiar with in the next 2 years?  (Select all that apply) - Selected Choice -  Google Cloud AutoML ',\n",
       " 'Q37_B_Part_2': 'Which specific automated machine learning tools (or partial AutoML tools) do you hope to become more familiar with in the next 2 years?  (Select all that apply) - Selected Choice -  H2O Driverless AI  ',\n",
       " 'Q37_B_Part_3': 'Which specific automated machine learning tools (or partial AutoML tools) do you hope to become more familiar with in the next 2 years?  (Select all that apply) - Selected Choice -  Databricks AutoML ',\n",
       " 'Q37_B_Part_4': 'Which specific automated machine learning tools (or partial AutoML tools) do you hope to become more familiar with in the next 2 years?  (Select all that apply) - Selected Choice -  DataRobot AutoML ',\n",
       " 'Q37_B_Part_7': 'Which specific automated machine learning tools (or partial AutoML tools) do you hope to become more familiar with in the next 2 years?  (Select all that apply) - Selected Choice - None',\n",
       " 'Q37_B_OTHER': 'Which specific automated machine learning tools (or partial AutoML tools) do you hope to become more familiar with in the next 2 years?  (Select all that apply) - Selected Choice - Other',\n",
       " 'Q38_B_Part_1': 'In the next 2 years, do you hope to become more familiar with any of these tools for managing ML experiments? (Select all that apply) - Selected Choice -  Neptune.ai ',\n",
       " 'Q38_B_Part_2': 'In the next 2 years, do you hope to become more familiar with any of these tools for managing ML experiments? (Select all that apply) - Selected Choice -  Weights & Biases ',\n",
       " 'Q38_B_Part_3': 'In the next 2 years, do you hope to become more familiar with any of these tools for managing ML experiments? (Select all that apply) - Selected Choice -  Comet.ml ',\n",
       " 'Q38_B_Part_4': 'In the next 2 years, do you hope to become more familiar with any of these tools for managing ML experiments? (Select all that apply) - Selected Choice -  Sacred + Omniboard ',\n",
       " 'Q38_B_Part_5': 'In the next 2 years, do you hope to become more familiar with any of these tools for managing ML experiments? (Select all that apply) - Selected Choice -  TensorBoard ',\n",
       " 'Q38_B_Part_6': 'In the next 2 years, do you hope to become more familiar with any of these tools for managing ML experiments? (Select all that apply) - Selected Choice -  Guild.ai ',\n",
       " 'Q38_B_Part_7': 'In the next 2 years, do you hope to become more familiar with any of these tools for managing ML experiments? (Select all that apply) - Selected Choice -  Polyaxon ',\n",
       " 'Q38_B_Part_9': 'In the next 2 years, do you hope to become more familiar with any of these tools for managing ML experiments? (Select all that apply) - Selected Choice -  Domino Model Monitor ',\n",
       " 'Q38_B_Part_11': 'In the next 2 years, do you hope to become more familiar with any of these tools for managing ML experiments? (Select all that apply) - Selected Choice - None',\n",
       " 'Q38_B_OTHER': 'In the next 2 years, do you hope to become more familiar with any of these tools for managing ML experiments? (Select all that apply) - Selected Choice - Other'}"
      ]
     },
     "execution_count": 256,
     "metadata": {},
     "output_type": "execute_result"
    }
   ],
   "source": [
    "q_num_to_questions_dict = dict(df.columns)\n",
    "q_num_to_questions_dict"
   ]
  },
  {
   "cell_type": "markdown",
   "metadata": {},
   "source": [
    "Understanding the survey findings:\n",
    "1. There are 42 questions in the questionaire.\n",
    "2. Some questions have multiple options to choose from. (Select all that apply)\n",
    "3. Some questions have single option to choose from. (Choose one from the list)"
   ]
  },
  {
   "cell_type": "code",
   "execution_count": 340,
   "metadata": {},
   "outputs": [],
   "source": [
    "# how many questions are asked:\n",
    "question_to_response_and_topic = {}\n",
    "for question_num_str, question in q_num_to_questions_dict.items():\n",
    "    # group Q12new as part of Q12, edge case\n",
    "    question_num = question_num_str.split('_')[0].replace('Q', '').replace('new', '')\n",
    "    if question_num not in question_to_response_and_topic:\n",
    "        question_to_response_and_topic[question_num] = {'max_response_count': 1, 'multiple_options_selectable': 0}\n",
    "    else:\n",
    "        question_to_response_and_topic[question_num]['max_response_count'] += 1\n",
    "        \n",
    "    if '(Select all that apply)' in question:\n",
    "        question_to_response_and_topic[question_num]['multiple_options_selectable'] = 1\n",
    "        choice = question.split('Selected Choice - ')[-1].strip()\n",
    "        if 'choices' in question_to_response_and_topic[question_num]:\n",
    "            question_to_response_and_topic[question_num]['choices'] += [choice]\n",
    "        else:\n",
    "            question_to_response_and_topic[question_num]['choices'] = [choice]\n",
    "    question_str = question.split('(Select all that apply)')[0].strip()\n",
    "    if 'question' not in question_to_response_and_topic[question_num]:\n",
    "            question_to_response_and_topic[question_num]['question'] = question_str\n",
    "    if 'columns' not in question_to_response_and_topic[question_num]:\n",
    "        question_to_response_and_topic[question_num]['columns'] = [question_num_str]\n",
    "    else:\n",
    "        question_to_response_and_topic[question_num]['columns'] += [question_num_str]"
   ]
  },
  {
   "cell_type": "code",
   "execution_count": 357,
   "metadata": {},
   "outputs": [
    {
     "data": {
      "text/html": [
       "<div>\n",
       "<style scoped>\n",
       "    .dataframe tbody tr th:only-of-type {\n",
       "        vertical-align: middle;\n",
       "    }\n",
       "\n",
       "    .dataframe tbody tr th {\n",
       "        vertical-align: top;\n",
       "    }\n",
       "\n",
       "    .dataframe thead th {\n",
       "        text-align: right;\n",
       "    }\n",
       "</style>\n",
       "<table border=\"1\" class=\"dataframe\">\n",
       "  <thead>\n",
       "    <tr style=\"text-align: right;\">\n",
       "      <th></th>\n",
       "      <th>Q</th>\n",
       "      <th>max_response_count</th>\n",
       "      <th>multiple_options_selectable</th>\n",
       "      <th>question</th>\n",
       "      <th>columns</th>\n",
       "      <th>choices</th>\n",
       "    </tr>\n",
       "  </thead>\n",
       "  <tbody>\n",
       "    <tr>\n",
       "      <th>0</th>\n",
       "      <td>32</td>\n",
       "      <td>30</td>\n",
       "      <td>1</td>\n",
       "      <td>Which of the following big data products (relational databases, data warehouses, data lakes, or similar) do you use on a regular basis?</td>\n",
       "      <td>[Q32_A_Part_1, Q32_A_Part_2, Q32_A_Part_3, Q32_A_Part_4, Q32_A_Part_5, Q32_A_Part_6, Q32_A_Part_7, Q32_A_Part_8, Q32_A_Part_11, Q32_A_Part_14, Q32_A_Part_15, Q32_A_Part_16, Q32_A_Part_17, Q32_A_Part_20, Q32_A_OTHER, Q32_B_Part_1, Q32_B_Part_2, Q32_B_Part_3, Q32_B_Part_4, Q32_B_Part_5, Q32_B_Part_6, Q32_B_Part_7, Q32_B_Part_8, Q32_B_Part_11, Q32_B_Part_13, Q32_B_Part_15, Q32_B_Part_16, Q32_B_Part_17, Q32_B_Part_20, Q32_B_OTHER]</td>\n",
       "      <td>[MySQL, PostgreSQL, SQLite, Oracle Database, MongoDB, Snowflake, IBM Db2, Microsoft SQL Server, Amazon Redshift, Amazon DynamoDB, Google Cloud BigQuery, Google Cloud SQL, Google Cloud Firestore, None, Other, MySQL, PostgreSQL, SQLite, Oracle Database, MongoDB, Snowflake, IBM Db2, Microsoft SQL Server, Amazon Redshift, Amazon DynamoDB, Google Cloud BigQuery, Google Cloud SQL, Google Cloud Firestore, None, Other]</td>\n",
       "    </tr>\n",
       "    <tr>\n",
       "      <th>1</th>\n",
       "      <td>34</td>\n",
       "      <td>28</td>\n",
       "      <td>1</td>\n",
       "      <td>Which of the following business intelligence tools do you use on a regular basis?</td>\n",
       "      <td>[Q34_A_Part_1, Q34_A_Part_2, Q34_A_Part_3, Q34_A_Part_4, Q34_A_Part_5, Q34_A_Part_6, Q34_A_Part_8, Q34_A_Part_9, Q34_A_Part_10, Q34_A_Part_11, Q34_A_Part_12, Q34_A_Part_13, Q34_A_Part_16, Q34_A_OTHER, Q34_B_Part_1, Q34_B_Part_2, Q34_B_Part_3, Q34_B_Part_4, Q34_B_Part_5, Q34_B_Part_6, Q34_B_Part_8, Q34_B_Part_9, Q34_B_Part_10, Q34_B_Part_11, Q34_B_Part_12, Q34_B_Part_13, Q34_B_Part_16, Q34_B_OTHER]</td>\n",
       "      <td>[Amazon QuickSight, Microsoft Power BI, Google Data Studio, Looker, Tableau, Salesforce, Qlik, Domo, TIBCO Spotfire, Alteryx, Sisense, SAP Analytics Cloud, None, Other, Microsoft Power BI, Amazon QuickSight, Google Data Studio, Looker, Tableau, Salesforce, Qlik, Domo, TIBCO Spotfire, Alteryx, Sisense, SAP Analytics Cloud, None, Other]</td>\n",
       "    </tr>\n",
       "    <tr>\n",
       "      <th>2</th>\n",
       "      <td>27</td>\n",
       "      <td>24</td>\n",
       "      <td>1</td>\n",
       "      <td>Which of the following cloud computing platforms do you use on a regular basis?</td>\n",
       "      <td>[Q27_A_Part_1, Q27_A_Part_2, Q27_A_Part_3, Q27_A_Part_4, Q27_A_Part_5, Q27_A_Part_6, Q27_A_Part_7, Q27_A_Part_8, Q27_A_Part_9, Q27_A_Part_10, Q27_A_Part_11, Q27_A_OTHER, Q27_B_Part_1, Q27_B_Part_2, Q27_B_Part_3, Q27_B_Part_4, Q27_B_Part_5, Q27_B_Part_6, Q27_B_Part_7, Q27_B_Part_8, Q27_B_Part_9, Q27_B_Part_10, Q27_B_Part_11, Q27_B_OTHER]</td>\n",
       "      <td>[Amazon Web Services (AWS), Microsoft Azure, Google Cloud Platform (GCP), IBM Cloud / Red Hat, Oracle Cloud, SAP Cloud, Salesforce Cloud, VMware Cloud, Alibaba Cloud, Tencent Cloud, None, Other]</td>\n",
       "    </tr>\n",
       "    <tr>\n",
       "      <th>3</th>\n",
       "      <td>38</td>\n",
       "      <td>20</td>\n",
       "      <td>1</td>\n",
       "      <td>Do you use any tools to help manage machine learning experiments?</td>\n",
       "      <td>[Q38_A_Part_1, Q38_A_Part_2, Q38_A_Part_3, Q38_A_Part_4, Q38_A_Part_5, Q38_A_Part_6, Q38_A_Part_7, Q38_A_Part_9, Q38_A_Part_11, Q38_A_OTHER, Q38_B_Part_1, Q38_B_Part_2, Q38_B_Part_3, Q38_B_Part_4, Q38_B_Part_5, Q38_B_Part_6, Q38_B_Part_7, Q38_B_Part_9, Q38_B_Part_11, Q38_B_OTHER]</td>\n",
       "      <td>[Neptune.ai, Weights &amp; Biases, Comet.ml, Sacred + Omniboard, TensorBoard, Guild.ai, Polyaxon, Domino Model Monitor, No / None, Other, Neptune.ai, Weights &amp; Biases, Comet.ml, Sacred + Omniboard, TensorBoard, Guild.ai, Polyaxon, Domino Model Monitor, None, Other]</td>\n",
       "    </tr>\n",
       "    <tr>\n",
       "      <th>4</th>\n",
       "      <td>36</td>\n",
       "      <td>16</td>\n",
       "      <td>1</td>\n",
       "      <td>Do you use any automated machine learning tools (or partial AutoML tools) on a regular basis?</td>\n",
       "      <td>[Q36_A_Part_1, Q36_A_Part_2, Q36_A_Part_3, Q36_A_Part_4, Q36_A_Part_5, Q36_A_Part_6, Q36_A_Part_7, Q36_A_OTHER, Q36_B_Part_1, Q36_B_Part_2, Q36_B_Part_3, Q36_B_Part_4, Q36_B_Part_5, Q36_B_Part_6, Q36_B_Part_7, Q36_B_OTHER]</td>\n",
       "      <td>[Automated data augmentation (e.g. imgaug, albumentations), Automated feature engineering/selection (e.g. tpot, boruta_py), Automated model selection (e.g. auto-sklearn, xcessiv), Automated model architecture searches (e.g. darts, enas), Automated hyperparameter tuning (e.g. hyperopt, ray.tune, Vizier), Automation of full ML pipelines (e.g. Google AutoML, H2O Driverless AI), No / None, Other, Automated data augmentation (e.g. imgaug, albumentations), Automated feature engineering/selection (e.g. tpot, boruta_py), Automated model selection (e.g. auto-sklearn, xcessiv), Automated model architecture searches (e.g. darts, enas), Automated hyperparameter tuning (e.g. hyperopt, ray.tune, Vizier), Automation of full ML pipelines (e.g. Google Cloud AutoML, H2O Driverless AI), None, Other]</td>\n",
       "    </tr>\n",
       "    <tr>\n",
       "      <th>5</th>\n",
       "      <td>16</td>\n",
       "      <td>16</td>\n",
       "      <td>1</td>\n",
       "      <td>Which of the following machine learning frameworks do you use on a regular basis?</td>\n",
       "      <td>[Q16_Part_1, Q16_Part_2, Q16_Part_3, Q16_Part_4, Q16_Part_5, Q16_Part_6, Q16_Part_7, Q16_Part_8, Q16_Part_9, Q16_Part_10, Q16_Part_11, Q16_Part_12, Q16_Part_13, Q16_Part_14, Q16_Part_17, Q16_OTHER]</td>\n",
       "      <td>[Scikit-learn, TensorFlow, Keras, PyTorch, Fast.ai, MXNet, Xgboost, LightGBM, CatBoost, Prophet, H2O 3, Caret, Tidymodels, JAX, None, Other]</td>\n",
       "    </tr>\n",
       "    <tr>\n",
       "      <th>6</th>\n",
       "      <td>10</td>\n",
       "      <td>14</td>\n",
       "      <td>1</td>\n",
       "      <td>Which of the following hosted notebook products do you use on a regular basis?</td>\n",
       "      <td>[Q10_Part_1, Q10_Part_2, Q10_Part_3, Q10_Part_4, Q10_Part_5, Q10_Part_6, Q10_Part_7, Q10_Part_8, Q10_Part_9, Q10_Part_10, Q10_Part_11, Q10_Part_12, Q10_Part_16, Q10_OTHER]</td>\n",
       "      <td>[Kaggle Notebooks, Colab Notebooks, Azure Notebooks, Paperspace / Gradient, Binder / JupyterHub, Code Ocean, IBM Watson Studio, Amazon Sagemaker Studio Notebooks, Amazon EMR Notebooks, Google Cloud Notebooks (AI Platform / Vertex AI), Google Cloud Datalab, Databricks Collaborative Notebooks, None, Other]</td>\n",
       "    </tr>\n",
       "    <tr>\n",
       "      <th>7</th>\n",
       "      <td>7</td>\n",
       "      <td>13</td>\n",
       "      <td>1</td>\n",
       "      <td>What programming languages do you use on a regular basis?</td>\n",
       "      <td>[Q7_Part_1, Q7_Part_2, Q7_Part_3, Q7_Part_4, Q7_Part_5, Q7_Part_6, Q7_Part_7, Q7_Part_8, Q7_Part_9, Q7_Part_10, Q7_Part_11, Q7_Part_12, Q7_OTHER]</td>\n",
       "      <td>[Python, R, SQL, C, C++, Java, Javascript, Julia, Swift, Bash, MATLAB, None, Other]</td>\n",
       "    </tr>\n",
       "    <tr>\n",
       "      <th>8</th>\n",
       "      <td>14</td>\n",
       "      <td>12</td>\n",
       "      <td>1</td>\n",
       "      <td>What data visualization libraries or tools do you use on a regular basis?</td>\n",
       "      <td>[Q14_Part_1, Q14_Part_2, Q14_Part_3, Q14_Part_4, Q14_Part_5, Q14_Part_6, Q14_Part_7, Q14_Part_8, Q14_Part_9, Q14_Part_10, Q14_Part_11, Q14_OTHER]</td>\n",
       "      <td>[Matplotlib, Seaborn, Plotly / Plotly Express, Ggplot / ggplot2, Shiny, D3 js, Altair, Bokeh, Geoplotlib, Leaflet / Folium, None, Other]</td>\n",
       "    </tr>\n",
       "    <tr>\n",
       "      <th>9</th>\n",
       "      <td>42</td>\n",
       "      <td>12</td>\n",
       "      <td>1</td>\n",
       "      <td>Who/what are your favorite media sources that report on data science topics?</td>\n",
       "      <td>[Q42_Part_1, Q42_Part_2, Q42_Part_3, Q42_Part_4, Q42_Part_5, Q42_Part_6, Q42_Part_7, Q42_Part_8, Q42_Part_9, Q42_Part_10, Q42_Part_11, Q42_OTHER]</td>\n",
       "      <td>[Twitter (data science influencers), Email newsletters (Data Elixir, O'Reilly Data &amp; AI, etc), Reddit (r/machinelearning, etc), Kaggle (notebooks, forums, etc), Course Forums (forums.fast.ai, Coursera forums, etc), YouTube (Kaggle YouTube, Cloud AI Adventures, etc), Podcasts (Chai Time Data Science, Oâ€™Reilly Data Show, etc), Blogs (Towards Data Science, Analytics Vidhya, etc), Journal Publications (peer-reviewed journals, conference proceedings, etc), Slack Communities (ods.ai, kagglenoobs, etc), None, Other]</td>\n",
       "    </tr>\n",
       "    <tr>\n",
       "      <th>10</th>\n",
       "      <td>37</td>\n",
       "      <td>12</td>\n",
       "      <td>1</td>\n",
       "      <td>Which of the following automated machine learning tools (or partial AutoML tools) do you use on a regular basis?</td>\n",
       "      <td>[Q37_A_Part_1, Q37_A_Part_2, Q37_A_Part_3, Q37_A_Part_4, Q37_A_Part_7, Q37_A_OTHER, Q37_B_Part_1, Q37_B_Part_2, Q37_B_Part_3, Q37_B_Part_4, Q37_B_Part_7, Q37_B_OTHER]</td>\n",
       "      <td>[Google Cloud AutoML, H2O Driverless AI, Databricks AutoML, DataRobot AutoML, No / None, Other, Google Cloud AutoML, H2O Driverless AI, Databricks AutoML, DataRobot AutoML, None, Other]</td>\n",
       "    </tr>\n",
       "    <tr>\n",
       "      <th>11</th>\n",
       "      <td>40</td>\n",
       "      <td>12</td>\n",
       "      <td>1</td>\n",
       "      <td>On which platforms have you begun or completed data science courses?</td>\n",
       "      <td>[Q40_Part_1, Q40_Part_2, Q40_Part_3, Q40_Part_4, Q40_Part_5, Q40_Part_6, Q40_Part_7, Q40_Part_8, Q40_Part_9, Q40_Part_10, Q40_Part_11, Q40_OTHER]</td>\n",
       "      <td>[Coursera, edX, Kaggle Learn Courses, DataCamp, Fast.ai, Udacity, Udemy, LinkedIn Learning, Cloud-certification programs (direct from AWS, Azure, GCP, or similar), University Courses (resulting in a university degree), None, Other]</td>\n",
       "    </tr>\n",
       "    <tr>\n",
       "      <th>12</th>\n",
       "      <td>17</td>\n",
       "      <td>12</td>\n",
       "      <td>1</td>\n",
       "      <td>Which of the following ML algorithms do you use on a regular basis?</td>\n",
       "      <td>[Q17_Part_1, Q17_Part_2, Q17_Part_3, Q17_Part_4, Q17_Part_5, Q17_Part_6, Q17_Part_7, Q17_Part_8, Q17_Part_9, Q17_Part_10, Q17_Part_11, Q17_OTHER]</td>\n",
       "      <td>[Linear or Logistic Regression, Decision Trees or Random Forests, Gradient Boosting Machines (xgboost, lightgbm, etc), Bayesian Approaches, Evolutionary Approaches, Dense Neural Networks (MLPs, etc), Convolutional Neural Networks, Generative Adversarial Networks, Recurrent Neural Networks, Transformer Networks (BERT, gpt-3, etc), None, Other]</td>\n",
       "    </tr>\n",
       "    <tr>\n",
       "      <th>13</th>\n",
       "      <td>9</td>\n",
       "      <td>11</td>\n",
       "      <td>1</td>\n",
       "      <td>Which of the following integrated development environments (IDE's) do you use on a regular basis?</td>\n",
       "      <td>[Q9_Part_1, Q9_Part_2, Q9_Part_3, Q9_Part_5, Q9_Part_6, Q9_Part_7, Q9_Part_8, Q9_Part_9, Q9_Part_10, Q9_Part_12, Q9_OTHER]</td>\n",
       "      <td>[Jupyter (JupyterLab, Jupyter Notebooks, etc), RStudio, Visual Studio / Visual Studio Code, PyCharm, Spyder, Notepad++, Sublime Text, Vim / Emacs, MATLAB, None, Other]</td>\n",
       "    </tr>\n",
       "    <tr>\n",
       "      <th>14</th>\n",
       "      <td>39</td>\n",
       "      <td>10</td>\n",
       "      <td>1</td>\n",
       "      <td>Where do you publicly share your data analysis or machine learning applications?</td>\n",
       "      <td>[Q39_Part_1, Q39_Part_2, Q39_Part_3, Q39_Part_4, Q39_Part_5, Q39_Part_6, Q39_Part_7, Q39_Part_8, Q39_Part_9, Q39_OTHER]</td>\n",
       "      <td>[Plotly Dash, Streamlit, NBViewer, GitHub, Personal blog, Kaggle, Colab, Shiny, I do not share my work publicly, Other]</td>\n",
       "    </tr>\n",
       "    <tr>\n",
       "      <th>15</th>\n",
       "      <td>24</td>\n",
       "      <td>8</td>\n",
       "      <td>1</td>\n",
       "      <td>Select any activities that make up an important part of your role at work:</td>\n",
       "      <td>[Q24_Part_1, Q24_Part_2, Q24_Part_3, Q24_Part_4, Q24_Part_5, Q24_Part_6, Q24_Part_7, Q24_OTHER]</td>\n",
       "      <td>[Analyze and understand data to influence product or business decisions, Build and/or run the data infrastructure that my business uses for storing, analyzing, and operationalizing data, Build prototypes to explore applying machine learning to new areas, Build and/or run a machine learning service that operationally improves my product or workflows, Experimentation and iteration to improve existing ML models, Do research that advances the state of the art of machine learning, None of these activities are an important part of my role at work, Other]</td>\n",
       "    </tr>\n",
       "    <tr>\n",
       "      <th>16</th>\n",
       "      <td>18</td>\n",
       "      <td>7</td>\n",
       "      <td>1</td>\n",
       "      <td>Which categories of computer vision methods do you use on a regular basis?</td>\n",
       "      <td>[Q18_Part_1, Q18_Part_2, Q18_Part_3, Q18_Part_4, Q18_Part_5, Q18_Part_6, Q18_OTHER]</td>\n",
       "      <td>[General purpose image/video tools (PIL, cv2, skimage, etc), Image segmentation methods (U-Net, Mask R-CNN, etc), Object detection methods (YOLOv3, RetinaNet, etc), Image classification and other general purpose networks (VGG, Inception, ResNet, ResNeXt, NASNet, EfficientNet, etc), Generative Networks (GAN, VAE, etc), None, Other]</td>\n",
       "    </tr>\n",
       "    <tr>\n",
       "      <th>17</th>\n",
       "      <td>19</td>\n",
       "      <td>6</td>\n",
       "      <td>1</td>\n",
       "      <td>Which of the following natural language processing (NLP) methods do you use on a regular basis?</td>\n",
       "      <td>[Q19_Part_1, Q19_Part_2, Q19_Part_3, Q19_Part_4, Q19_Part_5, Q19_OTHER]</td>\n",
       "      <td>[Word embeddings/vectors (GLoVe, fastText, word2vec), Encoder-decorder models (seq2seq, vanilla transformers), Contextualized embeddings (ELMo, CoVe), Transformer language models (GPT-3, BERT, XLnet, etc), None, Other]</td>\n",
       "    </tr>\n",
       "    <tr>\n",
       "      <th>18</th>\n",
       "      <td>12</td>\n",
       "      <td>5</td>\n",
       "      <td>1</td>\n",
       "      <td>Which types of specialized hardware do you use on a regular basis?</td>\n",
       "      <td>[Q12new, Q12_Part_1, Q12_Part_2, Q12_Part_5, Q12_OTHER]</td>\n",
       "      <td>[CPUs, NVIDIA GPUs, Google Cloud TPUs, None, Other]</td>\n",
       "    </tr>\n",
       "    <tr>\n",
       "      <th>19</th>\n",
       "      <td>31</td>\n",
       "      <td>4</td>\n",
       "      <td>1</td>\n",
       "      <td>Do you use any of the following managed machine learning products on a regular basis?</td>\n",
       "      <td>[Q31_A_Part_1, Q31_A_Part_2, Q31_A_Part_9, Q31_A_OTHER]</td>\n",
       "      <td>[Amazon SageMaker, Azure Machine Learning Studio, No / None, Other]</td>\n",
       "    </tr>\n",
       "    <tr>\n",
       "      <th>20</th>\n",
       "      <td>8</td>\n",
       "      <td>1</td>\n",
       "      <td>0</td>\n",
       "      <td>What programming language would you recommend an aspiring data scientist to learn first? - Selected Choice</td>\n",
       "      <td>[Q8]</td>\n",
       "      <td>NaN</td>\n",
       "    </tr>\n",
       "    <tr>\n",
       "      <th>21</th>\n",
       "      <td>41</td>\n",
       "      <td>1</td>\n",
       "      <td>0</td>\n",
       "      <td>What is the primary tool that you use at work or school to analyze data? (Include text response) - Selected Choice</td>\n",
       "      <td>[Q41]</td>\n",
       "      <td>NaN</td>\n",
       "    </tr>\n",
       "    <tr>\n",
       "      <th>22</th>\n",
       "      <td>1</td>\n",
       "      <td>1</td>\n",
       "      <td>0</td>\n",
       "      <td>What is your age (# years)?</td>\n",
       "      <td>[Q1]</td>\n",
       "      <td>NaN</td>\n",
       "    </tr>\n",
       "    <tr>\n",
       "      <th>23</th>\n",
       "      <td>2</td>\n",
       "      <td>1</td>\n",
       "      <td>0</td>\n",
       "      <td>What is your gender? - Selected Choice</td>\n",
       "      <td>[Q2]</td>\n",
       "      <td>NaN</td>\n",
       "    </tr>\n",
       "    <tr>\n",
       "      <th>24</th>\n",
       "      <td>3</td>\n",
       "      <td>1</td>\n",
       "      <td>0</td>\n",
       "      <td>In which country do you currently reside?</td>\n",
       "      <td>[Q3]</td>\n",
       "      <td>NaN</td>\n",
       "    </tr>\n",
       "    <tr>\n",
       "      <th>25</th>\n",
       "      <td>4</td>\n",
       "      <td>1</td>\n",
       "      <td>0</td>\n",
       "      <td>What is the highest level of formal education that you have attained or plan to attain within the next 2 years?</td>\n",
       "      <td>[Q4]</td>\n",
       "      <td>NaN</td>\n",
       "    </tr>\n",
       "    <tr>\n",
       "      <th>26</th>\n",
       "      <td>5</td>\n",
       "      <td>1</td>\n",
       "      <td>0</td>\n",
       "      <td>Select the title most similar to your current role (or most recent title if retired): - Selected Choice</td>\n",
       "      <td>[Q5]</td>\n",
       "      <td>NaN</td>\n",
       "    </tr>\n",
       "    <tr>\n",
       "      <th>27</th>\n",
       "      <td>35</td>\n",
       "      <td>1</td>\n",
       "      <td>0</td>\n",
       "      <td>Which of the following business intelligence tools do you use most often? - Selected Choice</td>\n",
       "      <td>[Q35]</td>\n",
       "      <td>NaN</td>\n",
       "    </tr>\n",
       "    <tr>\n",
       "      <th>28</th>\n",
       "      <td>6</td>\n",
       "      <td>1</td>\n",
       "      <td>0</td>\n",
       "      <td>For how many years have you been writing code and/or programming?</td>\n",
       "      <td>[Q6]</td>\n",
       "      <td>NaN</td>\n",
       "    </tr>\n",
       "    <tr>\n",
       "      <th>29</th>\n",
       "      <td>33</td>\n",
       "      <td>1</td>\n",
       "      <td>0</td>\n",
       "      <td>Which of the following big data products (relational database, data warehouse, data lake, or similar) do you use most often? - Selected Choice</td>\n",
       "      <td>[Q33]</td>\n",
       "      <td>NaN</td>\n",
       "    </tr>\n",
       "    <tr>\n",
       "      <th>30</th>\n",
       "      <td>15</td>\n",
       "      <td>1</td>\n",
       "      <td>0</td>\n",
       "      <td>For how many years have you used machine learning methods?</td>\n",
       "      <td>[Q15]</td>\n",
       "      <td>NaN</td>\n",
       "    </tr>\n",
       "    <tr>\n",
       "      <th>31</th>\n",
       "      <td>13</td>\n",
       "      <td>1</td>\n",
       "      <td>0</td>\n",
       "      <td>Approximately how many times have you used a TPU (tensor processing unit)?</td>\n",
       "      <td>[Q13]</td>\n",
       "      <td>NaN</td>\n",
       "    </tr>\n",
       "    <tr>\n",
       "      <th>32</th>\n",
       "      <td>11</td>\n",
       "      <td>1</td>\n",
       "      <td>0</td>\n",
       "      <td>What type of computing platform do you use most often for your data science projects? - Selected Choice</td>\n",
       "      <td>[Q11]</td>\n",
       "      <td>NaN</td>\n",
       "    </tr>\n",
       "    <tr>\n",
       "      <th>33</th>\n",
       "      <td>26</td>\n",
       "      <td>1</td>\n",
       "      <td>0</td>\n",
       "      <td>Approximately how much money have you (or your team) spent on machine learning and/or cloud computing services at home (or at work) in the past 5 years (approximate $USD)?</td>\n",
       "      <td>[Q26]</td>\n",
       "      <td>NaN</td>\n",
       "    </tr>\n",
       "    <tr>\n",
       "      <th>34</th>\n",
       "      <td>25</td>\n",
       "      <td>1</td>\n",
       "      <td>0</td>\n",
       "      <td>What is your current yearly compensation (approximate $USD)?</td>\n",
       "      <td>[Q25]</td>\n",
       "      <td>NaN</td>\n",
       "    </tr>\n",
       "    <tr>\n",
       "      <th>35</th>\n",
       "      <td>23</td>\n",
       "      <td>1</td>\n",
       "      <td>0</td>\n",
       "      <td>Does your current employer incorporate machine learning methods into their business?</td>\n",
       "      <td>[Q23]</td>\n",
       "      <td>NaN</td>\n",
       "    </tr>\n",
       "    <tr>\n",
       "      <th>36</th>\n",
       "      <td>22</td>\n",
       "      <td>1</td>\n",
       "      <td>0</td>\n",
       "      <td>Approximately how many individuals are responsible for data science workloads at your place of business?</td>\n",
       "      <td>[Q22]</td>\n",
       "      <td>NaN</td>\n",
       "    </tr>\n",
       "    <tr>\n",
       "      <th>37</th>\n",
       "      <td>21</td>\n",
       "      <td>1</td>\n",
       "      <td>0</td>\n",
       "      <td>What is the size of the company where you are employed?</td>\n",
       "      <td>[Q21]</td>\n",
       "      <td>NaN</td>\n",
       "    </tr>\n",
       "    <tr>\n",
       "      <th>38</th>\n",
       "      <td>20</td>\n",
       "      <td>1</td>\n",
       "      <td>0</td>\n",
       "      <td>In what industry is your current employer/contract (or your most recent employer if retired)? - Selected Choice</td>\n",
       "      <td>[Q20]</td>\n",
       "      <td>NaN</td>\n",
       "    </tr>\n",
       "    <tr>\n",
       "      <th>39</th>\n",
       "      <td>Time from Start to Finish (seconds)</td>\n",
       "      <td>1</td>\n",
       "      <td>0</td>\n",
       "      <td>Duration (in seconds)</td>\n",
       "      <td>[Time from Start to Finish (seconds)]</td>\n",
       "      <td>NaN</td>\n",
       "    </tr>\n",
       "    <tr>\n",
       "      <th>40</th>\n",
       "      <td>-</td>\n",
       "      <td>1</td>\n",
       "      <td>0</td>\n",
       "      <td>Year</td>\n",
       "      <td>[-]</td>\n",
       "      <td>NaN</td>\n",
       "    </tr>\n",
       "  </tbody>\n",
       "</table>\n",
       "</div>"
      ],
      "text/plain": [
       "                                      Q max_response_count  \\\n",
       "0                                    32                 30   \n",
       "1                                    34                 28   \n",
       "2                                    27                 24   \n",
       "3                                    38                 20   \n",
       "4                                    36                 16   \n",
       "5                                    16                 16   \n",
       "6                                    10                 14   \n",
       "7                                     7                 13   \n",
       "8                                    14                 12   \n",
       "9                                    42                 12   \n",
       "10                                   37                 12   \n",
       "11                                   40                 12   \n",
       "12                                   17                 12   \n",
       "13                                    9                 11   \n",
       "14                                   39                 10   \n",
       "15                                   24                  8   \n",
       "16                                   18                  7   \n",
       "17                                   19                  6   \n",
       "18                                   12                  5   \n",
       "19                                   31                  4   \n",
       "20                                    8                  1   \n",
       "21                                   41                  1   \n",
       "22                                    1                  1   \n",
       "23                                    2                  1   \n",
       "24                                    3                  1   \n",
       "25                                    4                  1   \n",
       "26                                    5                  1   \n",
       "27                                   35                  1   \n",
       "28                                    6                  1   \n",
       "29                                   33                  1   \n",
       "30                                   15                  1   \n",
       "31                                   13                  1   \n",
       "32                                   11                  1   \n",
       "33                                   26                  1   \n",
       "34                                   25                  1   \n",
       "35                                   23                  1   \n",
       "36                                   22                  1   \n",
       "37                                   21                  1   \n",
       "38                                   20                  1   \n",
       "39  Time from Start to Finish (seconds)                  1   \n",
       "40                                    -                  1   \n",
       "\n",
       "   multiple_options_selectable  \\\n",
       "0                            1   \n",
       "1                            1   \n",
       "2                            1   \n",
       "3                            1   \n",
       "4                            1   \n",
       "5                            1   \n",
       "6                            1   \n",
       "7                            1   \n",
       "8                            1   \n",
       "9                            1   \n",
       "10                           1   \n",
       "11                           1   \n",
       "12                           1   \n",
       "13                           1   \n",
       "14                           1   \n",
       "15                           1   \n",
       "16                           1   \n",
       "17                           1   \n",
       "18                           1   \n",
       "19                           1   \n",
       "20                           0   \n",
       "21                           0   \n",
       "22                           0   \n",
       "23                           0   \n",
       "24                           0   \n",
       "25                           0   \n",
       "26                           0   \n",
       "27                           0   \n",
       "28                           0   \n",
       "29                           0   \n",
       "30                           0   \n",
       "31                           0   \n",
       "32                           0   \n",
       "33                           0   \n",
       "34                           0   \n",
       "35                           0   \n",
       "36                           0   \n",
       "37                           0   \n",
       "38                           0   \n",
       "39                           0   \n",
       "40                           0   \n",
       "\n",
       "                                                                                                                                                                       question  \\\n",
       "0                                       Which of the following big data products (relational databases, data warehouses, data lakes, or similar) do you use on a regular basis?   \n",
       "1                                                                                             Which of the following business intelligence tools do you use on a regular basis?   \n",
       "2                                                                                               Which of the following cloud computing platforms do you use on a regular basis?   \n",
       "3                                                                                                             Do you use any tools to help manage machine learning experiments?   \n",
       "4                                                                                 Do you use any automated machine learning tools (or partial AutoML tools) on a regular basis?   \n",
       "5                                                                                             Which of the following machine learning frameworks do you use on a regular basis?   \n",
       "6                                                                                                Which of the following hosted notebook products do you use on a regular basis?   \n",
       "7                                                                                                                     What programming languages do you use on a regular basis?   \n",
       "8                                                                                                     What data visualization libraries or tools do you use on a regular basis?   \n",
       "9                                                                                                  Who/what are your favorite media sources that report on data science topics?   \n",
       "10                                                             Which of the following automated machine learning tools (or partial AutoML tools) do you use on a regular basis?   \n",
       "11                                                                                                         On which platforms have you begun or completed data science courses?   \n",
       "12                                                                                                          Which of the following ML algorithms do you use on a regular basis?   \n",
       "13                                                                            Which of the following integrated development environments (IDE's) do you use on a regular basis?   \n",
       "14                                                                                             Where do you publicly share your data analysis or machine learning applications?   \n",
       "15                                                                                                   Select any activities that make up an important part of your role at work:   \n",
       "16                                                                                                   Which categories of computer vision methods do you use on a regular basis?   \n",
       "17                                                                              Which of the following natural language processing (NLP) methods do you use on a regular basis?   \n",
       "18                                                                                                           Which types of specialized hardware do you use on a regular basis?   \n",
       "19                                                                                        Do you use any of the following managed machine learning products on a regular basis?   \n",
       "20                                                                   What programming language would you recommend an aspiring data scientist to learn first? - Selected Choice   \n",
       "21                                                           What is the primary tool that you use at work or school to analyze data? (Include text response) - Selected Choice   \n",
       "22                                                                                                                                                  What is your age (# years)?   \n",
       "23                                                                                                                                       What is your gender? - Selected Choice   \n",
       "24                                                                                                                                    In which country do you currently reside?   \n",
       "25                                                              What is the highest level of formal education that you have attained or plan to attain within the next 2 years?   \n",
       "26                                                                      Select the title most similar to your current role (or most recent title if retired): - Selected Choice   \n",
       "27                                                                                  Which of the following business intelligence tools do you use most often? - Selected Choice   \n",
       "28                                                                                                            For how many years have you been writing code and/or programming?   \n",
       "29                               Which of the following big data products (relational database, data warehouse, data lake, or similar) do you use most often? - Selected Choice   \n",
       "30                                                                                                                   For how many years have you used machine learning methods?   \n",
       "31                                                                                                   Approximately how many times have you used a TPU (tensor processing unit)?   \n",
       "32                                                                      What type of computing platform do you use most often for your data science projects? - Selected Choice   \n",
       "33  Approximately how much money have you (or your team) spent on machine learning and/or cloud computing services at home (or at work) in the past 5 years (approximate $USD)?   \n",
       "34                                                                                                                 What is your current yearly compensation (approximate $USD)?   \n",
       "35                                                                                         Does your current employer incorporate machine learning methods into their business?   \n",
       "36                                                                     Approximately how many individuals are responsible for data science workloads at your place of business?   \n",
       "37                                                                                                                      What is the size of the company where you are employed?   \n",
       "38                                                              In what industry is your current employer/contract (or your most recent employer if retired)? - Selected Choice   \n",
       "39                                                                                                                                                        Duration (in seconds)   \n",
       "40                                                                                                                                                                         Year   \n",
       "\n",
       "                                                                                                                                                                                                                                                                                                                                                                                                                                           columns  \\\n",
       "0   [Q32_A_Part_1, Q32_A_Part_2, Q32_A_Part_3, Q32_A_Part_4, Q32_A_Part_5, Q32_A_Part_6, Q32_A_Part_7, Q32_A_Part_8, Q32_A_Part_11, Q32_A_Part_14, Q32_A_Part_15, Q32_A_Part_16, Q32_A_Part_17, Q32_A_Part_20, Q32_A_OTHER, Q32_B_Part_1, Q32_B_Part_2, Q32_B_Part_3, Q32_B_Part_4, Q32_B_Part_5, Q32_B_Part_6, Q32_B_Part_7, Q32_B_Part_8, Q32_B_Part_11, Q32_B_Part_13, Q32_B_Part_15, Q32_B_Part_16, Q32_B_Part_17, Q32_B_Part_20, Q32_B_OTHER]   \n",
       "1                                 [Q34_A_Part_1, Q34_A_Part_2, Q34_A_Part_3, Q34_A_Part_4, Q34_A_Part_5, Q34_A_Part_6, Q34_A_Part_8, Q34_A_Part_9, Q34_A_Part_10, Q34_A_Part_11, Q34_A_Part_12, Q34_A_Part_13, Q34_A_Part_16, Q34_A_OTHER, Q34_B_Part_1, Q34_B_Part_2, Q34_B_Part_3, Q34_B_Part_4, Q34_B_Part_5, Q34_B_Part_6, Q34_B_Part_8, Q34_B_Part_9, Q34_B_Part_10, Q34_B_Part_11, Q34_B_Part_12, Q34_B_Part_13, Q34_B_Part_16, Q34_B_OTHER]   \n",
       "2                                                                                               [Q27_A_Part_1, Q27_A_Part_2, Q27_A_Part_3, Q27_A_Part_4, Q27_A_Part_5, Q27_A_Part_6, Q27_A_Part_7, Q27_A_Part_8, Q27_A_Part_9, Q27_A_Part_10, Q27_A_Part_11, Q27_A_OTHER, Q27_B_Part_1, Q27_B_Part_2, Q27_B_Part_3, Q27_B_Part_4, Q27_B_Part_5, Q27_B_Part_6, Q27_B_Part_7, Q27_B_Part_8, Q27_B_Part_9, Q27_B_Part_10, Q27_B_Part_11, Q27_B_OTHER]   \n",
       "3                                                                                                                                                         [Q38_A_Part_1, Q38_A_Part_2, Q38_A_Part_3, Q38_A_Part_4, Q38_A_Part_5, Q38_A_Part_6, Q38_A_Part_7, Q38_A_Part_9, Q38_A_Part_11, Q38_A_OTHER, Q38_B_Part_1, Q38_B_Part_2, Q38_B_Part_3, Q38_B_Part_4, Q38_B_Part_5, Q38_B_Part_6, Q38_B_Part_7, Q38_B_Part_9, Q38_B_Part_11, Q38_B_OTHER]   \n",
       "4                                                                                                                                                                                                                   [Q36_A_Part_1, Q36_A_Part_2, Q36_A_Part_3, Q36_A_Part_4, Q36_A_Part_5, Q36_A_Part_6, Q36_A_Part_7, Q36_A_OTHER, Q36_B_Part_1, Q36_B_Part_2, Q36_B_Part_3, Q36_B_Part_4, Q36_B_Part_5, Q36_B_Part_6, Q36_B_Part_7, Q36_B_OTHER]   \n",
       "5                                                                                                                                                                                                                                            [Q16_Part_1, Q16_Part_2, Q16_Part_3, Q16_Part_4, Q16_Part_5, Q16_Part_6, Q16_Part_7, Q16_Part_8, Q16_Part_9, Q16_Part_10, Q16_Part_11, Q16_Part_12, Q16_Part_13, Q16_Part_14, Q16_Part_17, Q16_OTHER]   \n",
       "6                                                                                                                                                                                                                                                                      [Q10_Part_1, Q10_Part_2, Q10_Part_3, Q10_Part_4, Q10_Part_5, Q10_Part_6, Q10_Part_7, Q10_Part_8, Q10_Part_9, Q10_Part_10, Q10_Part_11, Q10_Part_12, Q10_Part_16, Q10_OTHER]   \n",
       "7                                                                                                                                                                                                                                                                                                [Q7_Part_1, Q7_Part_2, Q7_Part_3, Q7_Part_4, Q7_Part_5, Q7_Part_6, Q7_Part_7, Q7_Part_8, Q7_Part_9, Q7_Part_10, Q7_Part_11, Q7_Part_12, Q7_OTHER]   \n",
       "8                                                                                                                                                                                                                                                                                                [Q14_Part_1, Q14_Part_2, Q14_Part_3, Q14_Part_4, Q14_Part_5, Q14_Part_6, Q14_Part_7, Q14_Part_8, Q14_Part_9, Q14_Part_10, Q14_Part_11, Q14_OTHER]   \n",
       "9                                                                                                                                                                                                                                                                                                [Q42_Part_1, Q42_Part_2, Q42_Part_3, Q42_Part_4, Q42_Part_5, Q42_Part_6, Q42_Part_7, Q42_Part_8, Q42_Part_9, Q42_Part_10, Q42_Part_11, Q42_OTHER]   \n",
       "10                                                                                                                                                                                                                                                                          [Q37_A_Part_1, Q37_A_Part_2, Q37_A_Part_3, Q37_A_Part_4, Q37_A_Part_7, Q37_A_OTHER, Q37_B_Part_1, Q37_B_Part_2, Q37_B_Part_3, Q37_B_Part_4, Q37_B_Part_7, Q37_B_OTHER]   \n",
       "11                                                                                                                                                                                                                                                                                               [Q40_Part_1, Q40_Part_2, Q40_Part_3, Q40_Part_4, Q40_Part_5, Q40_Part_6, Q40_Part_7, Q40_Part_8, Q40_Part_9, Q40_Part_10, Q40_Part_11, Q40_OTHER]   \n",
       "12                                                                                                                                                                                                                                                                                               [Q17_Part_1, Q17_Part_2, Q17_Part_3, Q17_Part_4, Q17_Part_5, Q17_Part_6, Q17_Part_7, Q17_Part_8, Q17_Part_9, Q17_Part_10, Q17_Part_11, Q17_OTHER]   \n",
       "13                                                                                                                                                                                                                                                                                                                      [Q9_Part_1, Q9_Part_2, Q9_Part_3, Q9_Part_5, Q9_Part_6, Q9_Part_7, Q9_Part_8, Q9_Part_9, Q9_Part_10, Q9_Part_12, Q9_OTHER]   \n",
       "14                                                                                                                                                                                                                                                                                                                         [Q39_Part_1, Q39_Part_2, Q39_Part_3, Q39_Part_4, Q39_Part_5, Q39_Part_6, Q39_Part_7, Q39_Part_8, Q39_Part_9, Q39_OTHER]   \n",
       "15                                                                                                                                                                                                                                                                                                                                                 [Q24_Part_1, Q24_Part_2, Q24_Part_3, Q24_Part_4, Q24_Part_5, Q24_Part_6, Q24_Part_7, Q24_OTHER]   \n",
       "16                                                                                                                                                                                                                                                                                                                                                             [Q18_Part_1, Q18_Part_2, Q18_Part_3, Q18_Part_4, Q18_Part_5, Q18_Part_6, Q18_OTHER]   \n",
       "17                                                                                                                                                                                                                                                                                                                                                                         [Q19_Part_1, Q19_Part_2, Q19_Part_3, Q19_Part_4, Q19_Part_5, Q19_OTHER]   \n",
       "18                                                                                                                                                                                                                                                                                                                                                                                         [Q12new, Q12_Part_1, Q12_Part_2, Q12_Part_5, Q12_OTHER]   \n",
       "19                                                                                                                                                                                                                                                                                                                                                                                         [Q31_A_Part_1, Q31_A_Part_2, Q31_A_Part_9, Q31_A_OTHER]   \n",
       "20                                                                                                                                                                                                                                                                                                                                                                                                                                            [Q8]   \n",
       "21                                                                                                                                                                                                                                                                                                                                                                                                                                           [Q41]   \n",
       "22                                                                                                                                                                                                                                                                                                                                                                                                                                            [Q1]   \n",
       "23                                                                                                                                                                                                                                                                                                                                                                                                                                            [Q2]   \n",
       "24                                                                                                                                                                                                                                                                                                                                                                                                                                            [Q3]   \n",
       "25                                                                                                                                                                                                                                                                                                                                                                                                                                            [Q4]   \n",
       "26                                                                                                                                                                                                                                                                                                                                                                                                                                            [Q5]   \n",
       "27                                                                                                                                                                                                                                                                                                                                                                                                                                           [Q35]   \n",
       "28                                                                                                                                                                                                                                                                                                                                                                                                                                            [Q6]   \n",
       "29                                                                                                                                                                                                                                                                                                                                                                                                                                           [Q33]   \n",
       "30                                                                                                                                                                                                                                                                                                                                                                                                                                           [Q15]   \n",
       "31                                                                                                                                                                                                                                                                                                                                                                                                                                           [Q13]   \n",
       "32                                                                                                                                                                                                                                                                                                                                                                                                                                           [Q11]   \n",
       "33                                                                                                                                                                                                                                                                                                                                                                                                                                           [Q26]   \n",
       "34                                                                                                                                                                                                                                                                                                                                                                                                                                           [Q25]   \n",
       "35                                                                                                                                                                                                                                                                                                                                                                                                                                           [Q23]   \n",
       "36                                                                                                                                                                                                                                                                                                                                                                                                                                           [Q22]   \n",
       "37                                                                                                                                                                                                                                                                                                                                                                                                                                           [Q21]   \n",
       "38                                                                                                                                                                                                                                                                                                                                                                                                                                           [Q20]   \n",
       "39                                                                                                                                                                                                                                                                                                                                                                                                           [Time from Start to Finish (seconds)]   \n",
       "40                                                                                                                                                                                                                                                                                                                                                                                                                                             [-]   \n",
       "\n",
       "                                                                                                                                                                                                                                                                                                                                                                                                                                                                                                                                                                                                                                                                                                                                                                                                                    choices  \n",
       "0                                                                                                                                                                                                                                                                                                                                                                                            [MySQL, PostgreSQL, SQLite, Oracle Database, MongoDB, Snowflake, IBM Db2, Microsoft SQL Server, Amazon Redshift, Amazon DynamoDB, Google Cloud BigQuery, Google Cloud SQL, Google Cloud Firestore, None, Other, MySQL, PostgreSQL, SQLite, Oracle Database, MongoDB, Snowflake, IBM Db2, Microsoft SQL Server, Amazon Redshift, Amazon DynamoDB, Google Cloud BigQuery, Google Cloud SQL, Google Cloud Firestore, None, Other]  \n",
       "1                                                                                                                                                                                                                                                                                                                                                                                                                                                                          [Amazon QuickSight, Microsoft Power BI, Google Data Studio, Looker, Tableau, Salesforce, Qlik, Domo, TIBCO Spotfire, Alteryx, Sisense, SAP Analytics Cloud, None, Other, Microsoft Power BI, Amazon QuickSight, Google Data Studio, Looker, Tableau, Salesforce, Qlik, Domo, TIBCO Spotfire, Alteryx, Sisense, SAP Analytics Cloud, None, Other]  \n",
       "2                                                                                                                                                                                                                                                                                                                                                                                                                                                                                                                                                                                                                        [Amazon Web Services (AWS), Microsoft Azure, Google Cloud Platform (GCP), IBM Cloud / Red Hat, Oracle Cloud, SAP Cloud, Salesforce Cloud, VMware Cloud, Alibaba Cloud, Tencent Cloud, None, Other]  \n",
       "3                                                                                                                                                                                                                                                                                                                                                                                                                                                                                                                                                     [Neptune.ai, Weights & Biases, Comet.ml, Sacred + Omniboard, TensorBoard, Guild.ai, Polyaxon, Domino Model Monitor, No / None, Other, Neptune.ai, Weights & Biases, Comet.ml, Sacred + Omniboard, TensorBoard, Guild.ai, Polyaxon, Domino Model Monitor, None, Other]  \n",
       "4   [Automated data augmentation (e.g. imgaug, albumentations), Automated feature engineering/selection (e.g. tpot, boruta_py), Automated model selection (e.g. auto-sklearn, xcessiv), Automated model architecture searches (e.g. darts, enas), Automated hyperparameter tuning (e.g. hyperopt, ray.tune, Vizier), Automation of full ML pipelines (e.g. Google AutoML, H2O Driverless AI), No / None, Other, Automated data augmentation (e.g. imgaug, albumentations), Automated feature engineering/selection (e.g. tpot, boruta_py), Automated model selection (e.g. auto-sklearn, xcessiv), Automated model architecture searches (e.g. darts, enas), Automated hyperparameter tuning (e.g. hyperopt, ray.tune, Vizier), Automation of full ML pipelines (e.g. Google Cloud AutoML, H2O Driverless AI), None, Other]  \n",
       "5                                                                                                                                                                                                                                                                                                                                                                                                                                                                                                                                                                                                                                                                              [Scikit-learn, TensorFlow, Keras, PyTorch, Fast.ai, MXNet, Xgboost, LightGBM, CatBoost, Prophet, H2O 3, Caret, Tidymodels, JAX, None, Other]  \n",
       "6                                                                                                                                                                                                                                                                                                                                                                                                                                                                                                         [Kaggle Notebooks, Colab Notebooks, Azure Notebooks, Paperspace / Gradient, Binder / JupyterHub, Code Ocean, IBM Watson Studio, Amazon Sagemaker Studio Notebooks, Amazon EMR Notebooks, Google Cloud Notebooks (AI Platform / Vertex AI), Google Cloud Datalab, Databricks Collaborative Notebooks, None, Other]  \n",
       "7                                                                                                                                                                                                                                                                                                                                                                                                                                                                                                                                                                                                                                                                                                                                       [Python, R, SQL, C, C++, Java, Javascript, Julia, Swift, Bash, MATLAB, None, Other]  \n",
       "8                                                                                                                                                                                                                                                                                                                                                                                                                                                                                                                                                                                                                                                                                  [Matplotlib, Seaborn, Plotly / Plotly Express, Ggplot / ggplot2, Shiny, D3 js, Altair, Bokeh, Geoplotlib, Leaflet / Folium, None, Other]  \n",
       "9                                                                                                                                                                                                                                                                                      [Twitter (data science influencers), Email newsletters (Data Elixir, O'Reilly Data & AI, etc), Reddit (r/machinelearning, etc), Kaggle (notebooks, forums, etc), Course Forums (forums.fast.ai, Coursera forums, etc), YouTube (Kaggle YouTube, Cloud AI Adventures, etc), Podcasts (Chai Time Data Science, Oâ€™Reilly Data Show, etc), Blogs (Towards Data Science, Analytics Vidhya, etc), Journal Publications (peer-reviewed journals, conference proceedings, etc), Slack Communities (ods.ai, kagglenoobs, etc), None, Other]  \n",
       "10                                                                                                                                                                                                                                                                                                                                                                                                                                                                                                                                                                                                                                [Google Cloud AutoML, H2O Driverless AI, Databricks AutoML, DataRobot AutoML, No / None, Other, Google Cloud AutoML, H2O Driverless AI, Databricks AutoML, DataRobot AutoML, None, Other]  \n",
       "11                                                                                                                                                                                                                                                                                                                                                                                                                                                                                                                                                                                  [Coursera, edX, Kaggle Learn Courses, DataCamp, Fast.ai, Udacity, Udemy, LinkedIn Learning, Cloud-certification programs (direct from AWS, Azure, GCP, or similar), University Courses (resulting in a university degree), None, Other]  \n",
       "12                                                                                                                                                                                                                                                                                                                                                                                                                                                                 [Linear or Logistic Regression, Decision Trees or Random Forests, Gradient Boosting Machines (xgboost, lightgbm, etc), Bayesian Approaches, Evolutionary Approaches, Dense Neural Networks (MLPs, etc), Convolutional Neural Networks, Generative Adversarial Networks, Recurrent Neural Networks, Transformer Networks (BERT, gpt-3, etc), None, Other]  \n",
       "13                                                                                                                                                                                                                                                                                                                                                                                                                                                                                                                                                                                                                                                  [Jupyter (JupyterLab, Jupyter Notebooks, etc), RStudio, Visual Studio / Visual Studio Code, PyCharm, Spyder, Notepad++, Sublime Text, Vim / Emacs, MATLAB, None, Other]  \n",
       "14                                                                                                                                                                                                                                                                                                                                                                                                                                                                                                                                                                                                                                                                                                  [Plotly Dash, Streamlit, NBViewer, GitHub, Personal blog, Kaggle, Colab, Shiny, I do not share my work publicly, Other]  \n",
       "15                                                                                                                                                                                                                                               [Analyze and understand data to influence product or business decisions, Build and/or run the data infrastructure that my business uses for storing, analyzing, and operationalizing data, Build prototypes to explore applying machine learning to new areas, Build and/or run a machine learning service that operationally improves my product or workflows, Experimentation and iteration to improve existing ML models, Do research that advances the state of the art of machine learning, None of these activities are an important part of my role at work, Other]  \n",
       "16                                                                                                                                                                                                                                                                                                                                                                                                                                                                             [General purpose image/video tools (PIL, cv2, skimage, etc), Image segmentation methods (U-Net, Mask R-CNN, etc), Object detection methods (YOLOv3, RetinaNet, etc), Image classification and other general purpose networks (VGG, Inception, ResNet, ResNeXt, NASNet, EfficientNet, etc), Generative Networks (GAN, VAE, etc), None, Other]  \n",
       "17                                                                                                                                                                                                                                                                                                                                                                                                                                                                                                                                                                                               [Word embeddings/vectors (GLoVe, fastText, word2vec), Encoder-decorder models (seq2seq, vanilla transformers), Contextualized embeddings (ELMo, CoVe), Transformer language models (GPT-3, BERT, XLnet, etc), None, Other]  \n",
       "18                                                                                                                                                                                                                                                                                                                                                                                                                                                                                                                                                                                                                                                                                                                                                                      [CPUs, NVIDIA GPUs, Google Cloud TPUs, None, Other]  \n",
       "19                                                                                                                                                                                                                                                                                                                                                                                                                                                                                                                                                                                                                                                                                                                                                      [Amazon SageMaker, Azure Machine Learning Studio, No / None, Other]  \n",
       "20                                                                                                                                                                                                                                                                                                                                                                                                                                                                                                                                                                                                                                                                                                                                                                                                                      NaN  \n",
       "21                                                                                                                                                                                                                                                                                                                                                                                                                                                                                                                                                                                                                                                                                                                                                                                                                      NaN  \n",
       "22                                                                                                                                                                                                                                                                                                                                                                                                                                                                                                                                                                                                                                                                                                                                                                                                                      NaN  \n",
       "23                                                                                                                                                                                                                                                                                                                                                                                                                                                                                                                                                                                                                                                                                                                                                                                                                      NaN  \n",
       "24                                                                                                                                                                                                                                                                                                                                                                                                                                                                                                                                                                                                                                                                                                                                                                                                                      NaN  \n",
       "25                                                                                                                                                                                                                                                                                                                                                                                                                                                                                                                                                                                                                                                                                                                                                                                                                      NaN  \n",
       "26                                                                                                                                                                                                                                                                                                                                                                                                                                                                                                                                                                                                                                                                                                                                                                                                                      NaN  \n",
       "27                                                                                                                                                                                                                                                                                                                                                                                                                                                                                                                                                                                                                                                                                                                                                                                                                      NaN  \n",
       "28                                                                                                                                                                                                                                                                                                                                                                                                                                                                                                                                                                                                                                                                                                                                                                                                                      NaN  \n",
       "29                                                                                                                                                                                                                                                                                                                                                                                                                                                                                                                                                                                                                                                                                                                                                                                                                      NaN  \n",
       "30                                                                                                                                                                                                                                                                                                                                                                                                                                                                                                                                                                                                                                                                                                                                                                                                                      NaN  \n",
       "31                                                                                                                                                                                                                                                                                                                                                                                                                                                                                                                                                                                                                                                                                                                                                                                                                      NaN  \n",
       "32                                                                                                                                                                                                                                                                                                                                                                                                                                                                                                                                                                                                                                                                                                                                                                                                                      NaN  \n",
       "33                                                                                                                                                                                                                                                                                                                                                                                                                                                                                                                                                                                                                                                                                                                                                                                                                      NaN  \n",
       "34                                                                                                                                                                                                                                                                                                                                                                                                                                                                                                                                                                                                                                                                                                                                                                                                                      NaN  \n",
       "35                                                                                                                                                                                                                                                                                                                                                                                                                                                                                                                                                                                                                                                                                                                                                                                                                      NaN  \n",
       "36                                                                                                                                                                                                                                                                                                                                                                                                                                                                                                                                                                                                                                                                                                                                                                                                                      NaN  \n",
       "37                                                                                                                                                                                                                                                                                                                                                                                                                                                                                                                                                                                                                                                                                                                                                                                                                      NaN  \n",
       "38                                                                                                                                                                                                                                                                                                                                                                                                                                                                                                                                                                                                                                                                                                                                                                                                                      NaN  \n",
       "39                                                                                                                                                                                                                                                                                                                                                                                                                                                                                                                                                                                                                                                                                                                                                                                                                      NaN  \n",
       "40                                                                                                                                                                                                                                                                                                                                                                                                                                                                                                                                                                                                                                                                                                                                                                                                                      NaN  "
      ]
     },
     "execution_count": 357,
     "metadata": {},
     "output_type": "execute_result"
    }
   ],
   "source": [
    "questionnaire = pd.DataFrame(question_to_response_and_topic).T\n",
    "questionnaire = questionnaire.sort_values(by='max_response_count', ascending=False).reset_index().rename({'index':'Q'}, axis=1)\n",
    "# Display the DataFrame with expanded column width\n",
    "pd.set_option('display.max_colwidth', None)\n",
    "questionnaire"
   ]
  },
  {
   "cell_type": "markdown",
   "metadata": {},
   "source": [
    "## 0.1 : Grouping Survey Topic for a systematic understanding"
   ]
  },
  {
   "cell_type": "code",
   "execution_count": 363,
   "metadata": {},
   "outputs": [],
   "source": [
    "# we want to further group the questions into similar topic.\n",
    "# a json of the question groupings that we will perform the exploration of data in\n",
    "questions_grouping = {\n",
    "  \"Data Infrastructure and Tools\": [\n",
    "    \"Which of the following big data products (relational databases, data warehouses, data lakes, or similar) do you use on a regular basis?\",\n",
    "    \"Which of the following business intelligence tools do you use on a regular basis?\",\n",
    "    \"Which of the following cloud computing platforms do you use on a regular basis?\",\n",
    "    \"Which of the following hosted notebook products do you use on a regular basis?\",\n",
    "    \"What programming languages do you use on a regular basis?\",\n",
    "    \"What data visualization libraries or tools do you use on a regular basis?\",\n",
    "    \"What programming language would you recommend an aspiring data scientist to learn first? - Selected Choice\",\n",
    "    \"What is the primary tool that you use at work or school to analyze data? (Include text response) - Selected Choice\",\n",
    "    \"Which of the following business intelligence tools do you use most often? - Selected Choice\",\n",
    "    \"Which of the following big data products (relational database, data warehouse, data lake, or similar) do you use most often? - Selected Choice\",\n",
    "    \"What type of computing platform do you use most often for your data science projects? - Selected Choice\"\n",
    "  ],\n",
    "  \"Machine Learning and AI Tools\": [\n",
    "    \"Do you use any tools to help manage machine learning experiments?\",\n",
    "    \"Do you use any automated machine learning tools (or partial AutoML tools) on a regular basis?\",\n",
    "    \"Which of the following machine learning frameworks do you use on a regular basis?\",\n",
    "    \"Which of the following ML algorithms do you use on a regular basis?\",\n",
    "    \"Which categories of computer vision methods do you use on a regular basis?\",\n",
    "    \"Which of the following natural language processing (NLP) methods do you use on a regular basis?\",\n",
    "    \"Which types of specialized hardware do you use on a regular basis?\",\n",
    "    \"Do you use any of the following managed machine learning products on a regular basis?\",\n",
    "    \"Approximately how many times have you used a TPU (tensor processing unit)?\",\n",
    "    \"For how many years have you used machine learning methods?\"\n",
    "  ],\n",
    "  \"Demographics and Work Information\": [\n",
    "    \"What is your age (# years)?\",\n",
    "    \"What is your gender? - Selected Choice\",\n",
    "    \"In which country do you currently reside?\",\n",
    "    \"What is the highest level of formal education that you have attained or plan to attain within the next 2 years?\",\n",
    "    \"Select the title most similar to your current role (or most recent title if retired): - Selected Choice\",\n",
    "    \"For how many years have you been writing code and/or programming?\",\n",
    "    \"Approximately how much money have you (or your team) spent on machine learning and/or cloud computing services at home (or at work) in the past 5 years (approximate $USD)?\",\n",
    "    \"What is your current yearly compensation (approximate $USD)?\",\n",
    "    \"Does your current employer incorporate machine learning methods into their business?\",\n",
    "    \"Approximately how many individuals are responsible for data science workloads at your place of business?\",\n",
    "    \"What is the size of the company where you are employed?\",\n",
    "    \"In what industry is your current employer/contract (or your most recent employer if retired)? - Selected Choice\"\n",
    "  ],\n",
    "  \"Other\": [\n",
    "    \"Who/what are your favorite media sources that report on data science topics?\",\n",
    "    \"On which platforms have you begun or completed data science courses?\",\n",
    "    \"Duration (in seconds)\",\n",
    "    \"Year\"\n",
    "  ],\n",
    "  \"Role and Responsibilities\": [\n",
    "    \"Select any activities that make up an important part of your role at work:\"\n",
    "  ]\n",
    "}\n",
    "for group_name, list_of_questions in questions_grouping.items():\n",
    "    questionnaire.loc[questionnaire['question'].isin(list_of_questions), 'question_group'] = group_name"
   ]
  },
  {
   "cell_type": "code",
   "execution_count": 364,
   "metadata": {},
   "outputs": [
    {
     "data": {
      "text/html": [
       "<div>\n",
       "<style scoped>\n",
       "    .dataframe tbody tr th:only-of-type {\n",
       "        vertical-align: middle;\n",
       "    }\n",
       "\n",
       "    .dataframe tbody tr th {\n",
       "        vertical-align: top;\n",
       "    }\n",
       "\n",
       "    .dataframe thead th {\n",
       "        text-align: right;\n",
       "    }\n",
       "</style>\n",
       "<table border=\"1\" class=\"dataframe\">\n",
       "  <thead>\n",
       "    <tr style=\"text-align: right;\">\n",
       "      <th></th>\n",
       "      <th>Q</th>\n",
       "      <th>max_response_count</th>\n",
       "      <th>multiple_options_selectable</th>\n",
       "      <th>question</th>\n",
       "      <th>columns</th>\n",
       "      <th>choices</th>\n",
       "      <th>question_group</th>\n",
       "    </tr>\n",
       "  </thead>\n",
       "  <tbody>\n",
       "    <tr>\n",
       "      <th>0</th>\n",
       "      <td>32</td>\n",
       "      <td>30</td>\n",
       "      <td>1</td>\n",
       "      <td>Which of the following big data products (relational databases, data warehouses, data lakes, or similar) do you use on a regular basis?</td>\n",
       "      <td>[Q32_A_Part_1, Q32_A_Part_2, Q32_A_Part_3, Q32_A_Part_4, Q32_A_Part_5, Q32_A_Part_6, Q32_A_Part_7, Q32_A_Part_8, Q32_A_Part_11, Q32_A_Part_14, Q32_A_Part_15, Q32_A_Part_16, Q32_A_Part_17, Q32_A_Part_20, Q32_A_OTHER, Q32_B_Part_1, Q32_B_Part_2, Q32_B_Part_3, Q32_B_Part_4, Q32_B_Part_5, Q32_B_Part_6, Q32_B_Part_7, Q32_B_Part_8, Q32_B_Part_11, Q32_B_Part_13, Q32_B_Part_15, Q32_B_Part_16, Q32_B_Part_17, Q32_B_Part_20, Q32_B_OTHER]</td>\n",
       "      <td>[MySQL, PostgreSQL, SQLite, Oracle Database, MongoDB, Snowflake, IBM Db2, Microsoft SQL Server, Amazon Redshift, Amazon DynamoDB, Google Cloud BigQuery, Google Cloud SQL, Google Cloud Firestore, None, Other, MySQL, PostgreSQL, SQLite, Oracle Database, MongoDB, Snowflake, IBM Db2, Microsoft SQL Server, Amazon Redshift, Amazon DynamoDB, Google Cloud BigQuery, Google Cloud SQL, Google Cloud Firestore, None, Other]</td>\n",
       "      <td>Data Infrastructure and Tools</td>\n",
       "    </tr>\n",
       "    <tr>\n",
       "      <th>1</th>\n",
       "      <td>34</td>\n",
       "      <td>28</td>\n",
       "      <td>1</td>\n",
       "      <td>Which of the following business intelligence tools do you use on a regular basis?</td>\n",
       "      <td>[Q34_A_Part_1, Q34_A_Part_2, Q34_A_Part_3, Q34_A_Part_4, Q34_A_Part_5, Q34_A_Part_6, Q34_A_Part_8, Q34_A_Part_9, Q34_A_Part_10, Q34_A_Part_11, Q34_A_Part_12, Q34_A_Part_13, Q34_A_Part_16, Q34_A_OTHER, Q34_B_Part_1, Q34_B_Part_2, Q34_B_Part_3, Q34_B_Part_4, Q34_B_Part_5, Q34_B_Part_6, Q34_B_Part_8, Q34_B_Part_9, Q34_B_Part_10, Q34_B_Part_11, Q34_B_Part_12, Q34_B_Part_13, Q34_B_Part_16, Q34_B_OTHER]</td>\n",
       "      <td>[Amazon QuickSight, Microsoft Power BI, Google Data Studio, Looker, Tableau, Salesforce, Qlik, Domo, TIBCO Spotfire, Alteryx, Sisense, SAP Analytics Cloud, None, Other, Microsoft Power BI, Amazon QuickSight, Google Data Studio, Looker, Tableau, Salesforce, Qlik, Domo, TIBCO Spotfire, Alteryx, Sisense, SAP Analytics Cloud, None, Other]</td>\n",
       "      <td>Data Infrastructure and Tools</td>\n",
       "    </tr>\n",
       "    <tr>\n",
       "      <th>2</th>\n",
       "      <td>27</td>\n",
       "      <td>24</td>\n",
       "      <td>1</td>\n",
       "      <td>Which of the following cloud computing platforms do you use on a regular basis?</td>\n",
       "      <td>[Q27_A_Part_1, Q27_A_Part_2, Q27_A_Part_3, Q27_A_Part_4, Q27_A_Part_5, Q27_A_Part_6, Q27_A_Part_7, Q27_A_Part_8, Q27_A_Part_9, Q27_A_Part_10, Q27_A_Part_11, Q27_A_OTHER, Q27_B_Part_1, Q27_B_Part_2, Q27_B_Part_3, Q27_B_Part_4, Q27_B_Part_5, Q27_B_Part_6, Q27_B_Part_7, Q27_B_Part_8, Q27_B_Part_9, Q27_B_Part_10, Q27_B_Part_11, Q27_B_OTHER]</td>\n",
       "      <td>[Amazon Web Services (AWS), Microsoft Azure, Google Cloud Platform (GCP), IBM Cloud / Red Hat, Oracle Cloud, SAP Cloud, Salesforce Cloud, VMware Cloud, Alibaba Cloud, Tencent Cloud, None, Other]</td>\n",
       "      <td>Data Infrastructure and Tools</td>\n",
       "    </tr>\n",
       "    <tr>\n",
       "      <th>3</th>\n",
       "      <td>38</td>\n",
       "      <td>20</td>\n",
       "      <td>1</td>\n",
       "      <td>Do you use any tools to help manage machine learning experiments?</td>\n",
       "      <td>[Q38_A_Part_1, Q38_A_Part_2, Q38_A_Part_3, Q38_A_Part_4, Q38_A_Part_5, Q38_A_Part_6, Q38_A_Part_7, Q38_A_Part_9, Q38_A_Part_11, Q38_A_OTHER, Q38_B_Part_1, Q38_B_Part_2, Q38_B_Part_3, Q38_B_Part_4, Q38_B_Part_5, Q38_B_Part_6, Q38_B_Part_7, Q38_B_Part_9, Q38_B_Part_11, Q38_B_OTHER]</td>\n",
       "      <td>[Neptune.ai, Weights &amp; Biases, Comet.ml, Sacred + Omniboard, TensorBoard, Guild.ai, Polyaxon, Domino Model Monitor, No / None, Other, Neptune.ai, Weights &amp; Biases, Comet.ml, Sacred + Omniboard, TensorBoard, Guild.ai, Polyaxon, Domino Model Monitor, None, Other]</td>\n",
       "      <td>Machine Learning and AI Tools</td>\n",
       "    </tr>\n",
       "    <tr>\n",
       "      <th>4</th>\n",
       "      <td>36</td>\n",
       "      <td>16</td>\n",
       "      <td>1</td>\n",
       "      <td>Do you use any automated machine learning tools (or partial AutoML tools) on a regular basis?</td>\n",
       "      <td>[Q36_A_Part_1, Q36_A_Part_2, Q36_A_Part_3, Q36_A_Part_4, Q36_A_Part_5, Q36_A_Part_6, Q36_A_Part_7, Q36_A_OTHER, Q36_B_Part_1, Q36_B_Part_2, Q36_B_Part_3, Q36_B_Part_4, Q36_B_Part_5, Q36_B_Part_6, Q36_B_Part_7, Q36_B_OTHER]</td>\n",
       "      <td>[Automated data augmentation (e.g. imgaug, albumentations), Automated feature engineering/selection (e.g. tpot, boruta_py), Automated model selection (e.g. auto-sklearn, xcessiv), Automated model architecture searches (e.g. darts, enas), Automated hyperparameter tuning (e.g. hyperopt, ray.tune, Vizier), Automation of full ML pipelines (e.g. Google AutoML, H2O Driverless AI), No / None, Other, Automated data augmentation (e.g. imgaug, albumentations), Automated feature engineering/selection (e.g. tpot, boruta_py), Automated model selection (e.g. auto-sklearn, xcessiv), Automated model architecture searches (e.g. darts, enas), Automated hyperparameter tuning (e.g. hyperopt, ray.tune, Vizier), Automation of full ML pipelines (e.g. Google Cloud AutoML, H2O Driverless AI), None, Other]</td>\n",
       "      <td>Machine Learning and AI Tools</td>\n",
       "    </tr>\n",
       "    <tr>\n",
       "      <th>5</th>\n",
       "      <td>16</td>\n",
       "      <td>16</td>\n",
       "      <td>1</td>\n",
       "      <td>Which of the following machine learning frameworks do you use on a regular basis?</td>\n",
       "      <td>[Q16_Part_1, Q16_Part_2, Q16_Part_3, Q16_Part_4, Q16_Part_5, Q16_Part_6, Q16_Part_7, Q16_Part_8, Q16_Part_9, Q16_Part_10, Q16_Part_11, Q16_Part_12, Q16_Part_13, Q16_Part_14, Q16_Part_17, Q16_OTHER]</td>\n",
       "      <td>[Scikit-learn, TensorFlow, Keras, PyTorch, Fast.ai, MXNet, Xgboost, LightGBM, CatBoost, Prophet, H2O 3, Caret, Tidymodels, JAX, None, Other]</td>\n",
       "      <td>Machine Learning and AI Tools</td>\n",
       "    </tr>\n",
       "    <tr>\n",
       "      <th>6</th>\n",
       "      <td>10</td>\n",
       "      <td>14</td>\n",
       "      <td>1</td>\n",
       "      <td>Which of the following hosted notebook products do you use on a regular basis?</td>\n",
       "      <td>[Q10_Part_1, Q10_Part_2, Q10_Part_3, Q10_Part_4, Q10_Part_5, Q10_Part_6, Q10_Part_7, Q10_Part_8, Q10_Part_9, Q10_Part_10, Q10_Part_11, Q10_Part_12, Q10_Part_16, Q10_OTHER]</td>\n",
       "      <td>[Kaggle Notebooks, Colab Notebooks, Azure Notebooks, Paperspace / Gradient, Binder / JupyterHub, Code Ocean, IBM Watson Studio, Amazon Sagemaker Studio Notebooks, Amazon EMR Notebooks, Google Cloud Notebooks (AI Platform / Vertex AI), Google Cloud Datalab, Databricks Collaborative Notebooks, None, Other]</td>\n",
       "      <td>Data Infrastructure and Tools</td>\n",
       "    </tr>\n",
       "    <tr>\n",
       "      <th>7</th>\n",
       "      <td>7</td>\n",
       "      <td>13</td>\n",
       "      <td>1</td>\n",
       "      <td>What programming languages do you use on a regular basis?</td>\n",
       "      <td>[Q7_Part_1, Q7_Part_2, Q7_Part_3, Q7_Part_4, Q7_Part_5, Q7_Part_6, Q7_Part_7, Q7_Part_8, Q7_Part_9, Q7_Part_10, Q7_Part_11, Q7_Part_12, Q7_OTHER]</td>\n",
       "      <td>[Python, R, SQL, C, C++, Java, Javascript, Julia, Swift, Bash, MATLAB, None, Other]</td>\n",
       "      <td>Data Infrastructure and Tools</td>\n",
       "    </tr>\n",
       "    <tr>\n",
       "      <th>8</th>\n",
       "      <td>14</td>\n",
       "      <td>12</td>\n",
       "      <td>1</td>\n",
       "      <td>What data visualization libraries or tools do you use on a regular basis?</td>\n",
       "      <td>[Q14_Part_1, Q14_Part_2, Q14_Part_3, Q14_Part_4, Q14_Part_5, Q14_Part_6, Q14_Part_7, Q14_Part_8, Q14_Part_9, Q14_Part_10, Q14_Part_11, Q14_OTHER]</td>\n",
       "      <td>[Matplotlib, Seaborn, Plotly / Plotly Express, Ggplot / ggplot2, Shiny, D3 js, Altair, Bokeh, Geoplotlib, Leaflet / Folium, None, Other]</td>\n",
       "      <td>Data Infrastructure and Tools</td>\n",
       "    </tr>\n",
       "    <tr>\n",
       "      <th>9</th>\n",
       "      <td>42</td>\n",
       "      <td>12</td>\n",
       "      <td>1</td>\n",
       "      <td>Who/what are your favorite media sources that report on data science topics?</td>\n",
       "      <td>[Q42_Part_1, Q42_Part_2, Q42_Part_3, Q42_Part_4, Q42_Part_5, Q42_Part_6, Q42_Part_7, Q42_Part_8, Q42_Part_9, Q42_Part_10, Q42_Part_11, Q42_OTHER]</td>\n",
       "      <td>[Twitter (data science influencers), Email newsletters (Data Elixir, O'Reilly Data &amp; AI, etc), Reddit (r/machinelearning, etc), Kaggle (notebooks, forums, etc), Course Forums (forums.fast.ai, Coursera forums, etc), YouTube (Kaggle YouTube, Cloud AI Adventures, etc), Podcasts (Chai Time Data Science, Oâ€™Reilly Data Show, etc), Blogs (Towards Data Science, Analytics Vidhya, etc), Journal Publications (peer-reviewed journals, conference proceedings, etc), Slack Communities (ods.ai, kagglenoobs, etc), None, Other]</td>\n",
       "      <td>Other</td>\n",
       "    </tr>\n",
       "    <tr>\n",
       "      <th>10</th>\n",
       "      <td>37</td>\n",
       "      <td>12</td>\n",
       "      <td>1</td>\n",
       "      <td>Which of the following automated machine learning tools (or partial AutoML tools) do you use on a regular basis?</td>\n",
       "      <td>[Q37_A_Part_1, Q37_A_Part_2, Q37_A_Part_3, Q37_A_Part_4, Q37_A_Part_7, Q37_A_OTHER, Q37_B_Part_1, Q37_B_Part_2, Q37_B_Part_3, Q37_B_Part_4, Q37_B_Part_7, Q37_B_OTHER]</td>\n",
       "      <td>[Google Cloud AutoML, H2O Driverless AI, Databricks AutoML, DataRobot AutoML, No / None, Other, Google Cloud AutoML, H2O Driverless AI, Databricks AutoML, DataRobot AutoML, None, Other]</td>\n",
       "      <td>NaN</td>\n",
       "    </tr>\n",
       "    <tr>\n",
       "      <th>11</th>\n",
       "      <td>40</td>\n",
       "      <td>12</td>\n",
       "      <td>1</td>\n",
       "      <td>On which platforms have you begun or completed data science courses?</td>\n",
       "      <td>[Q40_Part_1, Q40_Part_2, Q40_Part_3, Q40_Part_4, Q40_Part_5, Q40_Part_6, Q40_Part_7, Q40_Part_8, Q40_Part_9, Q40_Part_10, Q40_Part_11, Q40_OTHER]</td>\n",
       "      <td>[Coursera, edX, Kaggle Learn Courses, DataCamp, Fast.ai, Udacity, Udemy, LinkedIn Learning, Cloud-certification programs (direct from AWS, Azure, GCP, or similar), University Courses (resulting in a university degree), None, Other]</td>\n",
       "      <td>Other</td>\n",
       "    </tr>\n",
       "    <tr>\n",
       "      <th>12</th>\n",
       "      <td>17</td>\n",
       "      <td>12</td>\n",
       "      <td>1</td>\n",
       "      <td>Which of the following ML algorithms do you use on a regular basis?</td>\n",
       "      <td>[Q17_Part_1, Q17_Part_2, Q17_Part_3, Q17_Part_4, Q17_Part_5, Q17_Part_6, Q17_Part_7, Q17_Part_8, Q17_Part_9, Q17_Part_10, Q17_Part_11, Q17_OTHER]</td>\n",
       "      <td>[Linear or Logistic Regression, Decision Trees or Random Forests, Gradient Boosting Machines (xgboost, lightgbm, etc), Bayesian Approaches, Evolutionary Approaches, Dense Neural Networks (MLPs, etc), Convolutional Neural Networks, Generative Adversarial Networks, Recurrent Neural Networks, Transformer Networks (BERT, gpt-3, etc), None, Other]</td>\n",
       "      <td>Machine Learning and AI Tools</td>\n",
       "    </tr>\n",
       "    <tr>\n",
       "      <th>13</th>\n",
       "      <td>9</td>\n",
       "      <td>11</td>\n",
       "      <td>1</td>\n",
       "      <td>Which of the following integrated development environments (IDE's) do you use on a regular basis?</td>\n",
       "      <td>[Q9_Part_1, Q9_Part_2, Q9_Part_3, Q9_Part_5, Q9_Part_6, Q9_Part_7, Q9_Part_8, Q9_Part_9, Q9_Part_10, Q9_Part_12, Q9_OTHER]</td>\n",
       "      <td>[Jupyter (JupyterLab, Jupyter Notebooks, etc), RStudio, Visual Studio / Visual Studio Code, PyCharm, Spyder, Notepad++, Sublime Text, Vim / Emacs, MATLAB, None, Other]</td>\n",
       "      <td>NaN</td>\n",
       "    </tr>\n",
       "    <tr>\n",
       "      <th>14</th>\n",
       "      <td>39</td>\n",
       "      <td>10</td>\n",
       "      <td>1</td>\n",
       "      <td>Where do you publicly share your data analysis or machine learning applications?</td>\n",
       "      <td>[Q39_Part_1, Q39_Part_2, Q39_Part_3, Q39_Part_4, Q39_Part_5, Q39_Part_6, Q39_Part_7, Q39_Part_8, Q39_Part_9, Q39_OTHER]</td>\n",
       "      <td>[Plotly Dash, Streamlit, NBViewer, GitHub, Personal blog, Kaggle, Colab, Shiny, I do not share my work publicly, Other]</td>\n",
       "      <td>NaN</td>\n",
       "    </tr>\n",
       "    <tr>\n",
       "      <th>15</th>\n",
       "      <td>24</td>\n",
       "      <td>8</td>\n",
       "      <td>1</td>\n",
       "      <td>Select any activities that make up an important part of your role at work:</td>\n",
       "      <td>[Q24_Part_1, Q24_Part_2, Q24_Part_3, Q24_Part_4, Q24_Part_5, Q24_Part_6, Q24_Part_7, Q24_OTHER]</td>\n",
       "      <td>[Analyze and understand data to influence product or business decisions, Build and/or run the data infrastructure that my business uses for storing, analyzing, and operationalizing data, Build prototypes to explore applying machine learning to new areas, Build and/or run a machine learning service that operationally improves my product or workflows, Experimentation and iteration to improve existing ML models, Do research that advances the state of the art of machine learning, None of these activities are an important part of my role at work, Other]</td>\n",
       "      <td>Role and Responsibilities</td>\n",
       "    </tr>\n",
       "    <tr>\n",
       "      <th>16</th>\n",
       "      <td>18</td>\n",
       "      <td>7</td>\n",
       "      <td>1</td>\n",
       "      <td>Which categories of computer vision methods do you use on a regular basis?</td>\n",
       "      <td>[Q18_Part_1, Q18_Part_2, Q18_Part_3, Q18_Part_4, Q18_Part_5, Q18_Part_6, Q18_OTHER]</td>\n",
       "      <td>[General purpose image/video tools (PIL, cv2, skimage, etc), Image segmentation methods (U-Net, Mask R-CNN, etc), Object detection methods (YOLOv3, RetinaNet, etc), Image classification and other general purpose networks (VGG, Inception, ResNet, ResNeXt, NASNet, EfficientNet, etc), Generative Networks (GAN, VAE, etc), None, Other]</td>\n",
       "      <td>Machine Learning and AI Tools</td>\n",
       "    </tr>\n",
       "    <tr>\n",
       "      <th>17</th>\n",
       "      <td>19</td>\n",
       "      <td>6</td>\n",
       "      <td>1</td>\n",
       "      <td>Which of the following natural language processing (NLP) methods do you use on a regular basis?</td>\n",
       "      <td>[Q19_Part_1, Q19_Part_2, Q19_Part_3, Q19_Part_4, Q19_Part_5, Q19_OTHER]</td>\n",
       "      <td>[Word embeddings/vectors (GLoVe, fastText, word2vec), Encoder-decorder models (seq2seq, vanilla transformers), Contextualized embeddings (ELMo, CoVe), Transformer language models (GPT-3, BERT, XLnet, etc), None, Other]</td>\n",
       "      <td>Machine Learning and AI Tools</td>\n",
       "    </tr>\n",
       "    <tr>\n",
       "      <th>18</th>\n",
       "      <td>12</td>\n",
       "      <td>5</td>\n",
       "      <td>1</td>\n",
       "      <td>Which types of specialized hardware do you use on a regular basis?</td>\n",
       "      <td>[Q12new, Q12_Part_1, Q12_Part_2, Q12_Part_5, Q12_OTHER]</td>\n",
       "      <td>[CPUs, NVIDIA GPUs, Google Cloud TPUs, None, Other]</td>\n",
       "      <td>Machine Learning and AI Tools</td>\n",
       "    </tr>\n",
       "    <tr>\n",
       "      <th>19</th>\n",
       "      <td>31</td>\n",
       "      <td>4</td>\n",
       "      <td>1</td>\n",
       "      <td>Do you use any of the following managed machine learning products on a regular basis?</td>\n",
       "      <td>[Q31_A_Part_1, Q31_A_Part_2, Q31_A_Part_9, Q31_A_OTHER]</td>\n",
       "      <td>[Amazon SageMaker, Azure Machine Learning Studio, No / None, Other]</td>\n",
       "      <td>Machine Learning and AI Tools</td>\n",
       "    </tr>\n",
       "    <tr>\n",
       "      <th>20</th>\n",
       "      <td>8</td>\n",
       "      <td>1</td>\n",
       "      <td>0</td>\n",
       "      <td>What programming language would you recommend an aspiring data scientist to learn first? - Selected Choice</td>\n",
       "      <td>[Q8]</td>\n",
       "      <td>NaN</td>\n",
       "      <td>Data Infrastructure and Tools</td>\n",
       "    </tr>\n",
       "    <tr>\n",
       "      <th>21</th>\n",
       "      <td>41</td>\n",
       "      <td>1</td>\n",
       "      <td>0</td>\n",
       "      <td>What is the primary tool that you use at work or school to analyze data? (Include text response) - Selected Choice</td>\n",
       "      <td>[Q41]</td>\n",
       "      <td>NaN</td>\n",
       "      <td>Data Infrastructure and Tools</td>\n",
       "    </tr>\n",
       "    <tr>\n",
       "      <th>22</th>\n",
       "      <td>1</td>\n",
       "      <td>1</td>\n",
       "      <td>0</td>\n",
       "      <td>What is your age (# years)?</td>\n",
       "      <td>[Q1]</td>\n",
       "      <td>NaN</td>\n",
       "      <td>Demographics and Work Information</td>\n",
       "    </tr>\n",
       "    <tr>\n",
       "      <th>23</th>\n",
       "      <td>2</td>\n",
       "      <td>1</td>\n",
       "      <td>0</td>\n",
       "      <td>What is your gender? - Selected Choice</td>\n",
       "      <td>[Q2]</td>\n",
       "      <td>NaN</td>\n",
       "      <td>Demographics and Work Information</td>\n",
       "    </tr>\n",
       "    <tr>\n",
       "      <th>24</th>\n",
       "      <td>3</td>\n",
       "      <td>1</td>\n",
       "      <td>0</td>\n",
       "      <td>In which country do you currently reside?</td>\n",
       "      <td>[Q3]</td>\n",
       "      <td>NaN</td>\n",
       "      <td>Demographics and Work Information</td>\n",
       "    </tr>\n",
       "    <tr>\n",
       "      <th>25</th>\n",
       "      <td>4</td>\n",
       "      <td>1</td>\n",
       "      <td>0</td>\n",
       "      <td>What is the highest level of formal education that you have attained or plan to attain within the next 2 years?</td>\n",
       "      <td>[Q4]</td>\n",
       "      <td>NaN</td>\n",
       "      <td>Demographics and Work Information</td>\n",
       "    </tr>\n",
       "    <tr>\n",
       "      <th>26</th>\n",
       "      <td>5</td>\n",
       "      <td>1</td>\n",
       "      <td>0</td>\n",
       "      <td>Select the title most similar to your current role (or most recent title if retired): - Selected Choice</td>\n",
       "      <td>[Q5]</td>\n",
       "      <td>NaN</td>\n",
       "      <td>Demographics and Work Information</td>\n",
       "    </tr>\n",
       "    <tr>\n",
       "      <th>27</th>\n",
       "      <td>35</td>\n",
       "      <td>1</td>\n",
       "      <td>0</td>\n",
       "      <td>Which of the following business intelligence tools do you use most often? - Selected Choice</td>\n",
       "      <td>[Q35]</td>\n",
       "      <td>NaN</td>\n",
       "      <td>Data Infrastructure and Tools</td>\n",
       "    </tr>\n",
       "    <tr>\n",
       "      <th>28</th>\n",
       "      <td>6</td>\n",
       "      <td>1</td>\n",
       "      <td>0</td>\n",
       "      <td>For how many years have you been writing code and/or programming?</td>\n",
       "      <td>[Q6]</td>\n",
       "      <td>NaN</td>\n",
       "      <td>Demographics and Work Information</td>\n",
       "    </tr>\n",
       "    <tr>\n",
       "      <th>29</th>\n",
       "      <td>33</td>\n",
       "      <td>1</td>\n",
       "      <td>0</td>\n",
       "      <td>Which of the following big data products (relational database, data warehouse, data lake, or similar) do you use most often? - Selected Choice</td>\n",
       "      <td>[Q33]</td>\n",
       "      <td>NaN</td>\n",
       "      <td>Data Infrastructure and Tools</td>\n",
       "    </tr>\n",
       "    <tr>\n",
       "      <th>30</th>\n",
       "      <td>15</td>\n",
       "      <td>1</td>\n",
       "      <td>0</td>\n",
       "      <td>For how many years have you used machine learning methods?</td>\n",
       "      <td>[Q15]</td>\n",
       "      <td>NaN</td>\n",
       "      <td>Machine Learning and AI Tools</td>\n",
       "    </tr>\n",
       "    <tr>\n",
       "      <th>31</th>\n",
       "      <td>13</td>\n",
       "      <td>1</td>\n",
       "      <td>0</td>\n",
       "      <td>Approximately how many times have you used a TPU (tensor processing unit)?</td>\n",
       "      <td>[Q13]</td>\n",
       "      <td>NaN</td>\n",
       "      <td>Machine Learning and AI Tools</td>\n",
       "    </tr>\n",
       "    <tr>\n",
       "      <th>32</th>\n",
       "      <td>11</td>\n",
       "      <td>1</td>\n",
       "      <td>0</td>\n",
       "      <td>What type of computing platform do you use most often for your data science projects? - Selected Choice</td>\n",
       "      <td>[Q11]</td>\n",
       "      <td>NaN</td>\n",
       "      <td>Data Infrastructure and Tools</td>\n",
       "    </tr>\n",
       "    <tr>\n",
       "      <th>33</th>\n",
       "      <td>26</td>\n",
       "      <td>1</td>\n",
       "      <td>0</td>\n",
       "      <td>Approximately how much money have you (or your team) spent on machine learning and/or cloud computing services at home (or at work) in the past 5 years (approximate $USD)?</td>\n",
       "      <td>[Q26]</td>\n",
       "      <td>NaN</td>\n",
       "      <td>Demographics and Work Information</td>\n",
       "    </tr>\n",
       "    <tr>\n",
       "      <th>34</th>\n",
       "      <td>25</td>\n",
       "      <td>1</td>\n",
       "      <td>0</td>\n",
       "      <td>What is your current yearly compensation (approximate $USD)?</td>\n",
       "      <td>[Q25]</td>\n",
       "      <td>NaN</td>\n",
       "      <td>Demographics and Work Information</td>\n",
       "    </tr>\n",
       "    <tr>\n",
       "      <th>35</th>\n",
       "      <td>23</td>\n",
       "      <td>1</td>\n",
       "      <td>0</td>\n",
       "      <td>Does your current employer incorporate machine learning methods into their business?</td>\n",
       "      <td>[Q23]</td>\n",
       "      <td>NaN</td>\n",
       "      <td>Demographics and Work Information</td>\n",
       "    </tr>\n",
       "    <tr>\n",
       "      <th>36</th>\n",
       "      <td>22</td>\n",
       "      <td>1</td>\n",
       "      <td>0</td>\n",
       "      <td>Approximately how many individuals are responsible for data science workloads at your place of business?</td>\n",
       "      <td>[Q22]</td>\n",
       "      <td>NaN</td>\n",
       "      <td>Demographics and Work Information</td>\n",
       "    </tr>\n",
       "    <tr>\n",
       "      <th>37</th>\n",
       "      <td>21</td>\n",
       "      <td>1</td>\n",
       "      <td>0</td>\n",
       "      <td>What is the size of the company where you are employed?</td>\n",
       "      <td>[Q21]</td>\n",
       "      <td>NaN</td>\n",
       "      <td>Demographics and Work Information</td>\n",
       "    </tr>\n",
       "    <tr>\n",
       "      <th>38</th>\n",
       "      <td>20</td>\n",
       "      <td>1</td>\n",
       "      <td>0</td>\n",
       "      <td>In what industry is your current employer/contract (or your most recent employer if retired)? - Selected Choice</td>\n",
       "      <td>[Q20]</td>\n",
       "      <td>NaN</td>\n",
       "      <td>Demographics and Work Information</td>\n",
       "    </tr>\n",
       "    <tr>\n",
       "      <th>39</th>\n",
       "      <td>Time from Start to Finish (seconds)</td>\n",
       "      <td>1</td>\n",
       "      <td>0</td>\n",
       "      <td>Duration (in seconds)</td>\n",
       "      <td>[Time from Start to Finish (seconds)]</td>\n",
       "      <td>NaN</td>\n",
       "      <td>Other</td>\n",
       "    </tr>\n",
       "    <tr>\n",
       "      <th>40</th>\n",
       "      <td>-</td>\n",
       "      <td>1</td>\n",
       "      <td>0</td>\n",
       "      <td>Year</td>\n",
       "      <td>[-]</td>\n",
       "      <td>NaN</td>\n",
       "      <td>Other</td>\n",
       "    </tr>\n",
       "  </tbody>\n",
       "</table>\n",
       "</div>"
      ],
      "text/plain": [
       "                                      Q max_response_count  \\\n",
       "0                                    32                 30   \n",
       "1                                    34                 28   \n",
       "2                                    27                 24   \n",
       "3                                    38                 20   \n",
       "4                                    36                 16   \n",
       "5                                    16                 16   \n",
       "6                                    10                 14   \n",
       "7                                     7                 13   \n",
       "8                                    14                 12   \n",
       "9                                    42                 12   \n",
       "10                                   37                 12   \n",
       "11                                   40                 12   \n",
       "12                                   17                 12   \n",
       "13                                    9                 11   \n",
       "14                                   39                 10   \n",
       "15                                   24                  8   \n",
       "16                                   18                  7   \n",
       "17                                   19                  6   \n",
       "18                                   12                  5   \n",
       "19                                   31                  4   \n",
       "20                                    8                  1   \n",
       "21                                   41                  1   \n",
       "22                                    1                  1   \n",
       "23                                    2                  1   \n",
       "24                                    3                  1   \n",
       "25                                    4                  1   \n",
       "26                                    5                  1   \n",
       "27                                   35                  1   \n",
       "28                                    6                  1   \n",
       "29                                   33                  1   \n",
       "30                                   15                  1   \n",
       "31                                   13                  1   \n",
       "32                                   11                  1   \n",
       "33                                   26                  1   \n",
       "34                                   25                  1   \n",
       "35                                   23                  1   \n",
       "36                                   22                  1   \n",
       "37                                   21                  1   \n",
       "38                                   20                  1   \n",
       "39  Time from Start to Finish (seconds)                  1   \n",
       "40                                    -                  1   \n",
       "\n",
       "   multiple_options_selectable  \\\n",
       "0                            1   \n",
       "1                            1   \n",
       "2                            1   \n",
       "3                            1   \n",
       "4                            1   \n",
       "5                            1   \n",
       "6                            1   \n",
       "7                            1   \n",
       "8                            1   \n",
       "9                            1   \n",
       "10                           1   \n",
       "11                           1   \n",
       "12                           1   \n",
       "13                           1   \n",
       "14                           1   \n",
       "15                           1   \n",
       "16                           1   \n",
       "17                           1   \n",
       "18                           1   \n",
       "19                           1   \n",
       "20                           0   \n",
       "21                           0   \n",
       "22                           0   \n",
       "23                           0   \n",
       "24                           0   \n",
       "25                           0   \n",
       "26                           0   \n",
       "27                           0   \n",
       "28                           0   \n",
       "29                           0   \n",
       "30                           0   \n",
       "31                           0   \n",
       "32                           0   \n",
       "33                           0   \n",
       "34                           0   \n",
       "35                           0   \n",
       "36                           0   \n",
       "37                           0   \n",
       "38                           0   \n",
       "39                           0   \n",
       "40                           0   \n",
       "\n",
       "                                                                                                                                                                       question  \\\n",
       "0                                       Which of the following big data products (relational databases, data warehouses, data lakes, or similar) do you use on a regular basis?   \n",
       "1                                                                                             Which of the following business intelligence tools do you use on a regular basis?   \n",
       "2                                                                                               Which of the following cloud computing platforms do you use on a regular basis?   \n",
       "3                                                                                                             Do you use any tools to help manage machine learning experiments?   \n",
       "4                                                                                 Do you use any automated machine learning tools (or partial AutoML tools) on a regular basis?   \n",
       "5                                                                                             Which of the following machine learning frameworks do you use on a regular basis?   \n",
       "6                                                                                                Which of the following hosted notebook products do you use on a regular basis?   \n",
       "7                                                                                                                     What programming languages do you use on a regular basis?   \n",
       "8                                                                                                     What data visualization libraries or tools do you use on a regular basis?   \n",
       "9                                                                                                  Who/what are your favorite media sources that report on data science topics?   \n",
       "10                                                             Which of the following automated machine learning tools (or partial AutoML tools) do you use on a regular basis?   \n",
       "11                                                                                                         On which platforms have you begun or completed data science courses?   \n",
       "12                                                                                                          Which of the following ML algorithms do you use on a regular basis?   \n",
       "13                                                                            Which of the following integrated development environments (IDE's) do you use on a regular basis?   \n",
       "14                                                                                             Where do you publicly share your data analysis or machine learning applications?   \n",
       "15                                                                                                   Select any activities that make up an important part of your role at work:   \n",
       "16                                                                                                   Which categories of computer vision methods do you use on a regular basis?   \n",
       "17                                                                              Which of the following natural language processing (NLP) methods do you use on a regular basis?   \n",
       "18                                                                                                           Which types of specialized hardware do you use on a regular basis?   \n",
       "19                                                                                        Do you use any of the following managed machine learning products on a regular basis?   \n",
       "20                                                                   What programming language would you recommend an aspiring data scientist to learn first? - Selected Choice   \n",
       "21                                                           What is the primary tool that you use at work or school to analyze data? (Include text response) - Selected Choice   \n",
       "22                                                                                                                                                  What is your age (# years)?   \n",
       "23                                                                                                                                       What is your gender? - Selected Choice   \n",
       "24                                                                                                                                    In which country do you currently reside?   \n",
       "25                                                              What is the highest level of formal education that you have attained or plan to attain within the next 2 years?   \n",
       "26                                                                      Select the title most similar to your current role (or most recent title if retired): - Selected Choice   \n",
       "27                                                                                  Which of the following business intelligence tools do you use most often? - Selected Choice   \n",
       "28                                                                                                            For how many years have you been writing code and/or programming?   \n",
       "29                               Which of the following big data products (relational database, data warehouse, data lake, or similar) do you use most often? - Selected Choice   \n",
       "30                                                                                                                   For how many years have you used machine learning methods?   \n",
       "31                                                                                                   Approximately how many times have you used a TPU (tensor processing unit)?   \n",
       "32                                                                      What type of computing platform do you use most often for your data science projects? - Selected Choice   \n",
       "33  Approximately how much money have you (or your team) spent on machine learning and/or cloud computing services at home (or at work) in the past 5 years (approximate $USD)?   \n",
       "34                                                                                                                 What is your current yearly compensation (approximate $USD)?   \n",
       "35                                                                                         Does your current employer incorporate machine learning methods into their business?   \n",
       "36                                                                     Approximately how many individuals are responsible for data science workloads at your place of business?   \n",
       "37                                                                                                                      What is the size of the company where you are employed?   \n",
       "38                                                              In what industry is your current employer/contract (or your most recent employer if retired)? - Selected Choice   \n",
       "39                                                                                                                                                        Duration (in seconds)   \n",
       "40                                                                                                                                                                         Year   \n",
       "\n",
       "                                                                                                                                                                                                                                                                                                                                                                                                                                           columns  \\\n",
       "0   [Q32_A_Part_1, Q32_A_Part_2, Q32_A_Part_3, Q32_A_Part_4, Q32_A_Part_5, Q32_A_Part_6, Q32_A_Part_7, Q32_A_Part_8, Q32_A_Part_11, Q32_A_Part_14, Q32_A_Part_15, Q32_A_Part_16, Q32_A_Part_17, Q32_A_Part_20, Q32_A_OTHER, Q32_B_Part_1, Q32_B_Part_2, Q32_B_Part_3, Q32_B_Part_4, Q32_B_Part_5, Q32_B_Part_6, Q32_B_Part_7, Q32_B_Part_8, Q32_B_Part_11, Q32_B_Part_13, Q32_B_Part_15, Q32_B_Part_16, Q32_B_Part_17, Q32_B_Part_20, Q32_B_OTHER]   \n",
       "1                                 [Q34_A_Part_1, Q34_A_Part_2, Q34_A_Part_3, Q34_A_Part_4, Q34_A_Part_5, Q34_A_Part_6, Q34_A_Part_8, Q34_A_Part_9, Q34_A_Part_10, Q34_A_Part_11, Q34_A_Part_12, Q34_A_Part_13, Q34_A_Part_16, Q34_A_OTHER, Q34_B_Part_1, Q34_B_Part_2, Q34_B_Part_3, Q34_B_Part_4, Q34_B_Part_5, Q34_B_Part_6, Q34_B_Part_8, Q34_B_Part_9, Q34_B_Part_10, Q34_B_Part_11, Q34_B_Part_12, Q34_B_Part_13, Q34_B_Part_16, Q34_B_OTHER]   \n",
       "2                                                                                               [Q27_A_Part_1, Q27_A_Part_2, Q27_A_Part_3, Q27_A_Part_4, Q27_A_Part_5, Q27_A_Part_6, Q27_A_Part_7, Q27_A_Part_8, Q27_A_Part_9, Q27_A_Part_10, Q27_A_Part_11, Q27_A_OTHER, Q27_B_Part_1, Q27_B_Part_2, Q27_B_Part_3, Q27_B_Part_4, Q27_B_Part_5, Q27_B_Part_6, Q27_B_Part_7, Q27_B_Part_8, Q27_B_Part_9, Q27_B_Part_10, Q27_B_Part_11, Q27_B_OTHER]   \n",
       "3                                                                                                                                                         [Q38_A_Part_1, Q38_A_Part_2, Q38_A_Part_3, Q38_A_Part_4, Q38_A_Part_5, Q38_A_Part_6, Q38_A_Part_7, Q38_A_Part_9, Q38_A_Part_11, Q38_A_OTHER, Q38_B_Part_1, Q38_B_Part_2, Q38_B_Part_3, Q38_B_Part_4, Q38_B_Part_5, Q38_B_Part_6, Q38_B_Part_7, Q38_B_Part_9, Q38_B_Part_11, Q38_B_OTHER]   \n",
       "4                                                                                                                                                                                                                   [Q36_A_Part_1, Q36_A_Part_2, Q36_A_Part_3, Q36_A_Part_4, Q36_A_Part_5, Q36_A_Part_6, Q36_A_Part_7, Q36_A_OTHER, Q36_B_Part_1, Q36_B_Part_2, Q36_B_Part_3, Q36_B_Part_4, Q36_B_Part_5, Q36_B_Part_6, Q36_B_Part_7, Q36_B_OTHER]   \n",
       "5                                                                                                                                                                                                                                            [Q16_Part_1, Q16_Part_2, Q16_Part_3, Q16_Part_4, Q16_Part_5, Q16_Part_6, Q16_Part_7, Q16_Part_8, Q16_Part_9, Q16_Part_10, Q16_Part_11, Q16_Part_12, Q16_Part_13, Q16_Part_14, Q16_Part_17, Q16_OTHER]   \n",
       "6                                                                                                                                                                                                                                                                      [Q10_Part_1, Q10_Part_2, Q10_Part_3, Q10_Part_4, Q10_Part_5, Q10_Part_6, Q10_Part_7, Q10_Part_8, Q10_Part_9, Q10_Part_10, Q10_Part_11, Q10_Part_12, Q10_Part_16, Q10_OTHER]   \n",
       "7                                                                                                                                                                                                                                                                                                [Q7_Part_1, Q7_Part_2, Q7_Part_3, Q7_Part_4, Q7_Part_5, Q7_Part_6, Q7_Part_7, Q7_Part_8, Q7_Part_9, Q7_Part_10, Q7_Part_11, Q7_Part_12, Q7_OTHER]   \n",
       "8                                                                                                                                                                                                                                                                                                [Q14_Part_1, Q14_Part_2, Q14_Part_3, Q14_Part_4, Q14_Part_5, Q14_Part_6, Q14_Part_7, Q14_Part_8, Q14_Part_9, Q14_Part_10, Q14_Part_11, Q14_OTHER]   \n",
       "9                                                                                                                                                                                                                                                                                                [Q42_Part_1, Q42_Part_2, Q42_Part_3, Q42_Part_4, Q42_Part_5, Q42_Part_6, Q42_Part_7, Q42_Part_8, Q42_Part_9, Q42_Part_10, Q42_Part_11, Q42_OTHER]   \n",
       "10                                                                                                                                                                                                                                                                          [Q37_A_Part_1, Q37_A_Part_2, Q37_A_Part_3, Q37_A_Part_4, Q37_A_Part_7, Q37_A_OTHER, Q37_B_Part_1, Q37_B_Part_2, Q37_B_Part_3, Q37_B_Part_4, Q37_B_Part_7, Q37_B_OTHER]   \n",
       "11                                                                                                                                                                                                                                                                                               [Q40_Part_1, Q40_Part_2, Q40_Part_3, Q40_Part_4, Q40_Part_5, Q40_Part_6, Q40_Part_7, Q40_Part_8, Q40_Part_9, Q40_Part_10, Q40_Part_11, Q40_OTHER]   \n",
       "12                                                                                                                                                                                                                                                                                               [Q17_Part_1, Q17_Part_2, Q17_Part_3, Q17_Part_4, Q17_Part_5, Q17_Part_6, Q17_Part_7, Q17_Part_8, Q17_Part_9, Q17_Part_10, Q17_Part_11, Q17_OTHER]   \n",
       "13                                                                                                                                                                                                                                                                                                                      [Q9_Part_1, Q9_Part_2, Q9_Part_3, Q9_Part_5, Q9_Part_6, Q9_Part_7, Q9_Part_8, Q9_Part_9, Q9_Part_10, Q9_Part_12, Q9_OTHER]   \n",
       "14                                                                                                                                                                                                                                                                                                                         [Q39_Part_1, Q39_Part_2, Q39_Part_3, Q39_Part_4, Q39_Part_5, Q39_Part_6, Q39_Part_7, Q39_Part_8, Q39_Part_9, Q39_OTHER]   \n",
       "15                                                                                                                                                                                                                                                                                                                                                 [Q24_Part_1, Q24_Part_2, Q24_Part_3, Q24_Part_4, Q24_Part_5, Q24_Part_6, Q24_Part_7, Q24_OTHER]   \n",
       "16                                                                                                                                                                                                                                                                                                                                                             [Q18_Part_1, Q18_Part_2, Q18_Part_3, Q18_Part_4, Q18_Part_5, Q18_Part_6, Q18_OTHER]   \n",
       "17                                                                                                                                                                                                                                                                                                                                                                         [Q19_Part_1, Q19_Part_2, Q19_Part_3, Q19_Part_4, Q19_Part_5, Q19_OTHER]   \n",
       "18                                                                                                                                                                                                                                                                                                                                                                                         [Q12new, Q12_Part_1, Q12_Part_2, Q12_Part_5, Q12_OTHER]   \n",
       "19                                                                                                                                                                                                                                                                                                                                                                                         [Q31_A_Part_1, Q31_A_Part_2, Q31_A_Part_9, Q31_A_OTHER]   \n",
       "20                                                                                                                                                                                                                                                                                                                                                                                                                                            [Q8]   \n",
       "21                                                                                                                                                                                                                                                                                                                                                                                                                                           [Q41]   \n",
       "22                                                                                                                                                                                                                                                                                                                                                                                                                                            [Q1]   \n",
       "23                                                                                                                                                                                                                                                                                                                                                                                                                                            [Q2]   \n",
       "24                                                                                                                                                                                                                                                                                                                                                                                                                                            [Q3]   \n",
       "25                                                                                                                                                                                                                                                                                                                                                                                                                                            [Q4]   \n",
       "26                                                                                                                                                                                                                                                                                                                                                                                                                                            [Q5]   \n",
       "27                                                                                                                                                                                                                                                                                                                                                                                                                                           [Q35]   \n",
       "28                                                                                                                                                                                                                                                                                                                                                                                                                                            [Q6]   \n",
       "29                                                                                                                                                                                                                                                                                                                                                                                                                                           [Q33]   \n",
       "30                                                                                                                                                                                                                                                                                                                                                                                                                                           [Q15]   \n",
       "31                                                                                                                                                                                                                                                                                                                                                                                                                                           [Q13]   \n",
       "32                                                                                                                                                                                                                                                                                                                                                                                                                                           [Q11]   \n",
       "33                                                                                                                                                                                                                                                                                                                                                                                                                                           [Q26]   \n",
       "34                                                                                                                                                                                                                                                                                                                                                                                                                                           [Q25]   \n",
       "35                                                                                                                                                                                                                                                                                                                                                                                                                                           [Q23]   \n",
       "36                                                                                                                                                                                                                                                                                                                                                                                                                                           [Q22]   \n",
       "37                                                                                                                                                                                                                                                                                                                                                                                                                                           [Q21]   \n",
       "38                                                                                                                                                                                                                                                                                                                                                                                                                                           [Q20]   \n",
       "39                                                                                                                                                                                                                                                                                                                                                                                                           [Time from Start to Finish (seconds)]   \n",
       "40                                                                                                                                                                                                                                                                                                                                                                                                                                             [-]   \n",
       "\n",
       "                                                                                                                                                                                                                                                                                                                                                                                                                                                                                                                                                                                                                                                                                                                                                                                                                    choices  \\\n",
       "0                                                                                                                                                                                                                                                                                                                                                                                            [MySQL, PostgreSQL, SQLite, Oracle Database, MongoDB, Snowflake, IBM Db2, Microsoft SQL Server, Amazon Redshift, Amazon DynamoDB, Google Cloud BigQuery, Google Cloud SQL, Google Cloud Firestore, None, Other, MySQL, PostgreSQL, SQLite, Oracle Database, MongoDB, Snowflake, IBM Db2, Microsoft SQL Server, Amazon Redshift, Amazon DynamoDB, Google Cloud BigQuery, Google Cloud SQL, Google Cloud Firestore, None, Other]   \n",
       "1                                                                                                                                                                                                                                                                                                                                                                                                                                                                          [Amazon QuickSight, Microsoft Power BI, Google Data Studio, Looker, Tableau, Salesforce, Qlik, Domo, TIBCO Spotfire, Alteryx, Sisense, SAP Analytics Cloud, None, Other, Microsoft Power BI, Amazon QuickSight, Google Data Studio, Looker, Tableau, Salesforce, Qlik, Domo, TIBCO Spotfire, Alteryx, Sisense, SAP Analytics Cloud, None, Other]   \n",
       "2                                                                                                                                                                                                                                                                                                                                                                                                                                                                                                                                                                                                                        [Amazon Web Services (AWS), Microsoft Azure, Google Cloud Platform (GCP), IBM Cloud / Red Hat, Oracle Cloud, SAP Cloud, Salesforce Cloud, VMware Cloud, Alibaba Cloud, Tencent Cloud, None, Other]   \n",
       "3                                                                                                                                                                                                                                                                                                                                                                                                                                                                                                                                                     [Neptune.ai, Weights & Biases, Comet.ml, Sacred + Omniboard, TensorBoard, Guild.ai, Polyaxon, Domino Model Monitor, No / None, Other, Neptune.ai, Weights & Biases, Comet.ml, Sacred + Omniboard, TensorBoard, Guild.ai, Polyaxon, Domino Model Monitor, None, Other]   \n",
       "4   [Automated data augmentation (e.g. imgaug, albumentations), Automated feature engineering/selection (e.g. tpot, boruta_py), Automated model selection (e.g. auto-sklearn, xcessiv), Automated model architecture searches (e.g. darts, enas), Automated hyperparameter tuning (e.g. hyperopt, ray.tune, Vizier), Automation of full ML pipelines (e.g. Google AutoML, H2O Driverless AI), No / None, Other, Automated data augmentation (e.g. imgaug, albumentations), Automated feature engineering/selection (e.g. tpot, boruta_py), Automated model selection (e.g. auto-sklearn, xcessiv), Automated model architecture searches (e.g. darts, enas), Automated hyperparameter tuning (e.g. hyperopt, ray.tune, Vizier), Automation of full ML pipelines (e.g. Google Cloud AutoML, H2O Driverless AI), None, Other]   \n",
       "5                                                                                                                                                                                                                                                                                                                                                                                                                                                                                                                                                                                                                                                                              [Scikit-learn, TensorFlow, Keras, PyTorch, Fast.ai, MXNet, Xgboost, LightGBM, CatBoost, Prophet, H2O 3, Caret, Tidymodels, JAX, None, Other]   \n",
       "6                                                                                                                                                                                                                                                                                                                                                                                                                                                                                                         [Kaggle Notebooks, Colab Notebooks, Azure Notebooks, Paperspace / Gradient, Binder / JupyterHub, Code Ocean, IBM Watson Studio, Amazon Sagemaker Studio Notebooks, Amazon EMR Notebooks, Google Cloud Notebooks (AI Platform / Vertex AI), Google Cloud Datalab, Databricks Collaborative Notebooks, None, Other]   \n",
       "7                                                                                                                                                                                                                                                                                                                                                                                                                                                                                                                                                                                                                                                                                                                                       [Python, R, SQL, C, C++, Java, Javascript, Julia, Swift, Bash, MATLAB, None, Other]   \n",
       "8                                                                                                                                                                                                                                                                                                                                                                                                                                                                                                                                                                                                                                                                                  [Matplotlib, Seaborn, Plotly / Plotly Express, Ggplot / ggplot2, Shiny, D3 js, Altair, Bokeh, Geoplotlib, Leaflet / Folium, None, Other]   \n",
       "9                                                                                                                                                                                                                                                                                      [Twitter (data science influencers), Email newsletters (Data Elixir, O'Reilly Data & AI, etc), Reddit (r/machinelearning, etc), Kaggle (notebooks, forums, etc), Course Forums (forums.fast.ai, Coursera forums, etc), YouTube (Kaggle YouTube, Cloud AI Adventures, etc), Podcasts (Chai Time Data Science, Oâ€™Reilly Data Show, etc), Blogs (Towards Data Science, Analytics Vidhya, etc), Journal Publications (peer-reviewed journals, conference proceedings, etc), Slack Communities (ods.ai, kagglenoobs, etc), None, Other]   \n",
       "10                                                                                                                                                                                                                                                                                                                                                                                                                                                                                                                                                                                                                                [Google Cloud AutoML, H2O Driverless AI, Databricks AutoML, DataRobot AutoML, No / None, Other, Google Cloud AutoML, H2O Driverless AI, Databricks AutoML, DataRobot AutoML, None, Other]   \n",
       "11                                                                                                                                                                                                                                                                                                                                                                                                                                                                                                                                                                                  [Coursera, edX, Kaggle Learn Courses, DataCamp, Fast.ai, Udacity, Udemy, LinkedIn Learning, Cloud-certification programs (direct from AWS, Azure, GCP, or similar), University Courses (resulting in a university degree), None, Other]   \n",
       "12                                                                                                                                                                                                                                                                                                                                                                                                                                                                 [Linear or Logistic Regression, Decision Trees or Random Forests, Gradient Boosting Machines (xgboost, lightgbm, etc), Bayesian Approaches, Evolutionary Approaches, Dense Neural Networks (MLPs, etc), Convolutional Neural Networks, Generative Adversarial Networks, Recurrent Neural Networks, Transformer Networks (BERT, gpt-3, etc), None, Other]   \n",
       "13                                                                                                                                                                                                                                                                                                                                                                                                                                                                                                                                                                                                                                                  [Jupyter (JupyterLab, Jupyter Notebooks, etc), RStudio, Visual Studio / Visual Studio Code, PyCharm, Spyder, Notepad++, Sublime Text, Vim / Emacs, MATLAB, None, Other]   \n",
       "14                                                                                                                                                                                                                                                                                                                                                                                                                                                                                                                                                                                                                                                                                                  [Plotly Dash, Streamlit, NBViewer, GitHub, Personal blog, Kaggle, Colab, Shiny, I do not share my work publicly, Other]   \n",
       "15                                                                                                                                                                                                                                               [Analyze and understand data to influence product or business decisions, Build and/or run the data infrastructure that my business uses for storing, analyzing, and operationalizing data, Build prototypes to explore applying machine learning to new areas, Build and/or run a machine learning service that operationally improves my product or workflows, Experimentation and iteration to improve existing ML models, Do research that advances the state of the art of machine learning, None of these activities are an important part of my role at work, Other]   \n",
       "16                                                                                                                                                                                                                                                                                                                                                                                                                                                                             [General purpose image/video tools (PIL, cv2, skimage, etc), Image segmentation methods (U-Net, Mask R-CNN, etc), Object detection methods (YOLOv3, RetinaNet, etc), Image classification and other general purpose networks (VGG, Inception, ResNet, ResNeXt, NASNet, EfficientNet, etc), Generative Networks (GAN, VAE, etc), None, Other]   \n",
       "17                                                                                                                                                                                                                                                                                                                                                                                                                                                                                                                                                                                               [Word embeddings/vectors (GLoVe, fastText, word2vec), Encoder-decorder models (seq2seq, vanilla transformers), Contextualized embeddings (ELMo, CoVe), Transformer language models (GPT-3, BERT, XLnet, etc), None, Other]   \n",
       "18                                                                                                                                                                                                                                                                                                                                                                                                                                                                                                                                                                                                                                                                                                                                                                      [CPUs, NVIDIA GPUs, Google Cloud TPUs, None, Other]   \n",
       "19                                                                                                                                                                                                                                                                                                                                                                                                                                                                                                                                                                                                                                                                                                                                                      [Amazon SageMaker, Azure Machine Learning Studio, No / None, Other]   \n",
       "20                                                                                                                                                                                                                                                                                                                                                                                                                                                                                                                                                                                                                                                                                                                                                                                                                      NaN   \n",
       "21                                                                                                                                                                                                                                                                                                                                                                                                                                                                                                                                                                                                                                                                                                                                                                                                                      NaN   \n",
       "22                                                                                                                                                                                                                                                                                                                                                                                                                                                                                                                                                                                                                                                                                                                                                                                                                      NaN   \n",
       "23                                                                                                                                                                                                                                                                                                                                                                                                                                                                                                                                                                                                                                                                                                                                                                                                                      NaN   \n",
       "24                                                                                                                                                                                                                                                                                                                                                                                                                                                                                                                                                                                                                                                                                                                                                                                                                      NaN   \n",
       "25                                                                                                                                                                                                                                                                                                                                                                                                                                                                                                                                                                                                                                                                                                                                                                                                                      NaN   \n",
       "26                                                                                                                                                                                                                                                                                                                                                                                                                                                                                                                                                                                                                                                                                                                                                                                                                      NaN   \n",
       "27                                                                                                                                                                                                                                                                                                                                                                                                                                                                                                                                                                                                                                                                                                                                                                                                                      NaN   \n",
       "28                                                                                                                                                                                                                                                                                                                                                                                                                                                                                                                                                                                                                                                                                                                                                                                                                      NaN   \n",
       "29                                                                                                                                                                                                                                                                                                                                                                                                                                                                                                                                                                                                                                                                                                                                                                                                                      NaN   \n",
       "30                                                                                                                                                                                                                                                                                                                                                                                                                                                                                                                                                                                                                                                                                                                                                                                                                      NaN   \n",
       "31                                                                                                                                                                                                                                                                                                                                                                                                                                                                                                                                                                                                                                                                                                                                                                                                                      NaN   \n",
       "32                                                                                                                                                                                                                                                                                                                                                                                                                                                                                                                                                                                                                                                                                                                                                                                                                      NaN   \n",
       "33                                                                                                                                                                                                                                                                                                                                                                                                                                                                                                                                                                                                                                                                                                                                                                                                                      NaN   \n",
       "34                                                                                                                                                                                                                                                                                                                                                                                                                                                                                                                                                                                                                                                                                                                                                                                                                      NaN   \n",
       "35                                                                                                                                                                                                                                                                                                                                                                                                                                                                                                                                                                                                                                                                                                                                                                                                                      NaN   \n",
       "36                                                                                                                                                                                                                                                                                                                                                                                                                                                                                                                                                                                                                                                                                                                                                                                                                      NaN   \n",
       "37                                                                                                                                                                                                                                                                                                                                                                                                                                                                                                                                                                                                                                                                                                                                                                                                                      NaN   \n",
       "38                                                                                                                                                                                                                                                                                                                                                                                                                                                                                                                                                                                                                                                                                                                                                                                                                      NaN   \n",
       "39                                                                                                                                                                                                                                                                                                                                                                                                                                                                                                                                                                                                                                                                                                                                                                                                                      NaN   \n",
       "40                                                                                                                                                                                                                                                                                                                                                                                                                                                                                                                                                                                                                                                                                                                                                                                                                      NaN   \n",
       "\n",
       "                       question_group  \n",
       "0       Data Infrastructure and Tools  \n",
       "1       Data Infrastructure and Tools  \n",
       "2       Data Infrastructure and Tools  \n",
       "3       Machine Learning and AI Tools  \n",
       "4       Machine Learning and AI Tools  \n",
       "5       Machine Learning and AI Tools  \n",
       "6       Data Infrastructure and Tools  \n",
       "7       Data Infrastructure and Tools  \n",
       "8       Data Infrastructure and Tools  \n",
       "9                               Other  \n",
       "10                                NaN  \n",
       "11                              Other  \n",
       "12      Machine Learning and AI Tools  \n",
       "13                                NaN  \n",
       "14                                NaN  \n",
       "15          Role and Responsibilities  \n",
       "16      Machine Learning and AI Tools  \n",
       "17      Machine Learning and AI Tools  \n",
       "18      Machine Learning and AI Tools  \n",
       "19      Machine Learning and AI Tools  \n",
       "20      Data Infrastructure and Tools  \n",
       "21      Data Infrastructure and Tools  \n",
       "22  Demographics and Work Information  \n",
       "23  Demographics and Work Information  \n",
       "24  Demographics and Work Information  \n",
       "25  Demographics and Work Information  \n",
       "26  Demographics and Work Information  \n",
       "27      Data Infrastructure and Tools  \n",
       "28  Demographics and Work Information  \n",
       "29      Data Infrastructure and Tools  \n",
       "30      Machine Learning and AI Tools  \n",
       "31      Machine Learning and AI Tools  \n",
       "32      Data Infrastructure and Tools  \n",
       "33  Demographics and Work Information  \n",
       "34  Demographics and Work Information  \n",
       "35  Demographics and Work Information  \n",
       "36  Demographics and Work Information  \n",
       "37  Demographics and Work Information  \n",
       "38  Demographics and Work Information  \n",
       "39                              Other  \n",
       "40                              Other  "
      ]
     },
     "execution_count": 364,
     "metadata": {},
     "output_type": "execute_result"
    }
   ],
   "source": [
    "questionnaire"
   ]
  },
  {
   "cell_type": "code",
   "execution_count": 380,
   "metadata": {},
   "outputs": [],
   "source": [
    "def filter_column_data_with_question_num(question_num):\n",
    "    return df[question_to_response_and_topic[str(question_num)]['columns']]"
   ]
  },
  {
   "cell_type": "markdown",
   "metadata": {},
   "source": [
    "## Topic 1: Demographics and Work Information"
   ]
  },
  {
   "cell_type": "code",
   "execution_count": 366,
   "metadata": {},
   "outputs": [
    {
     "data": {
      "text/html": [
       "<div>\n",
       "<style scoped>\n",
       "    .dataframe tbody tr th:only-of-type {\n",
       "        vertical-align: middle;\n",
       "    }\n",
       "\n",
       "    .dataframe tbody tr th {\n",
       "        vertical-align: top;\n",
       "    }\n",
       "\n",
       "    .dataframe thead th {\n",
       "        text-align: right;\n",
       "    }\n",
       "</style>\n",
       "<table border=\"1\" class=\"dataframe\">\n",
       "  <thead>\n",
       "    <tr style=\"text-align: right;\">\n",
       "      <th></th>\n",
       "      <th>Q</th>\n",
       "      <th>max_response_count</th>\n",
       "      <th>multiple_options_selectable</th>\n",
       "      <th>question</th>\n",
       "      <th>columns</th>\n",
       "      <th>choices</th>\n",
       "      <th>question_group</th>\n",
       "    </tr>\n",
       "  </thead>\n",
       "  <tbody>\n",
       "    <tr>\n",
       "      <th>22</th>\n",
       "      <td>1</td>\n",
       "      <td>1</td>\n",
       "      <td>0</td>\n",
       "      <td>What is your age (# years)?</td>\n",
       "      <td>[Q1]</td>\n",
       "      <td>NaN</td>\n",
       "      <td>Demographics and Work Information</td>\n",
       "    </tr>\n",
       "    <tr>\n",
       "      <th>23</th>\n",
       "      <td>2</td>\n",
       "      <td>1</td>\n",
       "      <td>0</td>\n",
       "      <td>What is your gender? - Selected Choice</td>\n",
       "      <td>[Q2]</td>\n",
       "      <td>NaN</td>\n",
       "      <td>Demographics and Work Information</td>\n",
       "    </tr>\n",
       "    <tr>\n",
       "      <th>24</th>\n",
       "      <td>3</td>\n",
       "      <td>1</td>\n",
       "      <td>0</td>\n",
       "      <td>In which country do you currently reside?</td>\n",
       "      <td>[Q3]</td>\n",
       "      <td>NaN</td>\n",
       "      <td>Demographics and Work Information</td>\n",
       "    </tr>\n",
       "    <tr>\n",
       "      <th>25</th>\n",
       "      <td>4</td>\n",
       "      <td>1</td>\n",
       "      <td>0</td>\n",
       "      <td>What is the highest level of formal education that you have attained or plan to attain within the next 2 years?</td>\n",
       "      <td>[Q4]</td>\n",
       "      <td>NaN</td>\n",
       "      <td>Demographics and Work Information</td>\n",
       "    </tr>\n",
       "    <tr>\n",
       "      <th>26</th>\n",
       "      <td>5</td>\n",
       "      <td>1</td>\n",
       "      <td>0</td>\n",
       "      <td>Select the title most similar to your current role (or most recent title if retired): - Selected Choice</td>\n",
       "      <td>[Q5]</td>\n",
       "      <td>NaN</td>\n",
       "      <td>Demographics and Work Information</td>\n",
       "    </tr>\n",
       "    <tr>\n",
       "      <th>28</th>\n",
       "      <td>6</td>\n",
       "      <td>1</td>\n",
       "      <td>0</td>\n",
       "      <td>For how many years have you been writing code and/or programming?</td>\n",
       "      <td>[Q6]</td>\n",
       "      <td>NaN</td>\n",
       "      <td>Demographics and Work Information</td>\n",
       "    </tr>\n",
       "    <tr>\n",
       "      <th>33</th>\n",
       "      <td>26</td>\n",
       "      <td>1</td>\n",
       "      <td>0</td>\n",
       "      <td>Approximately how much money have you (or your team) spent on machine learning and/or cloud computing services at home (or at work) in the past 5 years (approximate $USD)?</td>\n",
       "      <td>[Q26]</td>\n",
       "      <td>NaN</td>\n",
       "      <td>Demographics and Work Information</td>\n",
       "    </tr>\n",
       "    <tr>\n",
       "      <th>34</th>\n",
       "      <td>25</td>\n",
       "      <td>1</td>\n",
       "      <td>0</td>\n",
       "      <td>What is your current yearly compensation (approximate $USD)?</td>\n",
       "      <td>[Q25]</td>\n",
       "      <td>NaN</td>\n",
       "      <td>Demographics and Work Information</td>\n",
       "    </tr>\n",
       "    <tr>\n",
       "      <th>35</th>\n",
       "      <td>23</td>\n",
       "      <td>1</td>\n",
       "      <td>0</td>\n",
       "      <td>Does your current employer incorporate machine learning methods into their business?</td>\n",
       "      <td>[Q23]</td>\n",
       "      <td>NaN</td>\n",
       "      <td>Demographics and Work Information</td>\n",
       "    </tr>\n",
       "    <tr>\n",
       "      <th>36</th>\n",
       "      <td>22</td>\n",
       "      <td>1</td>\n",
       "      <td>0</td>\n",
       "      <td>Approximately how many individuals are responsible for data science workloads at your place of business?</td>\n",
       "      <td>[Q22]</td>\n",
       "      <td>NaN</td>\n",
       "      <td>Demographics and Work Information</td>\n",
       "    </tr>\n",
       "    <tr>\n",
       "      <th>37</th>\n",
       "      <td>21</td>\n",
       "      <td>1</td>\n",
       "      <td>0</td>\n",
       "      <td>What is the size of the company where you are employed?</td>\n",
       "      <td>[Q21]</td>\n",
       "      <td>NaN</td>\n",
       "      <td>Demographics and Work Information</td>\n",
       "    </tr>\n",
       "    <tr>\n",
       "      <th>38</th>\n",
       "      <td>20</td>\n",
       "      <td>1</td>\n",
       "      <td>0</td>\n",
       "      <td>In what industry is your current employer/contract (or your most recent employer if retired)? - Selected Choice</td>\n",
       "      <td>[Q20]</td>\n",
       "      <td>NaN</td>\n",
       "      <td>Demographics and Work Information</td>\n",
       "    </tr>\n",
       "  </tbody>\n",
       "</table>\n",
       "</div>"
      ],
      "text/plain": [
       "     Q max_response_count multiple_options_selectable  \\\n",
       "22   1                  1                           0   \n",
       "23   2                  1                           0   \n",
       "24   3                  1                           0   \n",
       "25   4                  1                           0   \n",
       "26   5                  1                           0   \n",
       "28   6                  1                           0   \n",
       "33  26                  1                           0   \n",
       "34  25                  1                           0   \n",
       "35  23                  1                           0   \n",
       "36  22                  1                           0   \n",
       "37  21                  1                           0   \n",
       "38  20                  1                           0   \n",
       "\n",
       "                                                                                                                                                                       question  \\\n",
       "22                                                                                                                                                  What is your age (# years)?   \n",
       "23                                                                                                                                       What is your gender? - Selected Choice   \n",
       "24                                                                                                                                    In which country do you currently reside?   \n",
       "25                                                              What is the highest level of formal education that you have attained or plan to attain within the next 2 years?   \n",
       "26                                                                      Select the title most similar to your current role (or most recent title if retired): - Selected Choice   \n",
       "28                                                                                                            For how many years have you been writing code and/or programming?   \n",
       "33  Approximately how much money have you (or your team) spent on machine learning and/or cloud computing services at home (or at work) in the past 5 years (approximate $USD)?   \n",
       "34                                                                                                                 What is your current yearly compensation (approximate $USD)?   \n",
       "35                                                                                         Does your current employer incorporate machine learning methods into their business?   \n",
       "36                                                                     Approximately how many individuals are responsible for data science workloads at your place of business?   \n",
       "37                                                                                                                      What is the size of the company where you are employed?   \n",
       "38                                                              In what industry is your current employer/contract (or your most recent employer if retired)? - Selected Choice   \n",
       "\n",
       "   columns choices                     question_group  \n",
       "22    [Q1]     NaN  Demographics and Work Information  \n",
       "23    [Q2]     NaN  Demographics and Work Information  \n",
       "24    [Q3]     NaN  Demographics and Work Information  \n",
       "25    [Q4]     NaN  Demographics and Work Information  \n",
       "26    [Q5]     NaN  Demographics and Work Information  \n",
       "28    [Q6]     NaN  Demographics and Work Information  \n",
       "33   [Q26]     NaN  Demographics and Work Information  \n",
       "34   [Q25]     NaN  Demographics and Work Information  \n",
       "35   [Q23]     NaN  Demographics and Work Information  \n",
       "36   [Q22]     NaN  Demographics and Work Information  \n",
       "37   [Q21]     NaN  Demographics and Work Information  \n",
       "38   [Q20]     NaN  Demographics and Work Information  "
      ]
     },
     "execution_count": 366,
     "metadata": {},
     "output_type": "execute_result"
    }
   ],
   "source": [
    "questionnaire[questionnaire['question_group'] == 'Demographics and Work Information']"
   ]
  },
  {
   "cell_type": "code",
   "execution_count": 371,
   "metadata": {},
   "outputs": [],
   "source": [
    "column_list = questionnaire[questionnaire['question_group'] == 'Demographics and Work Information']['columns'].to_list()\n",
    "c_list = []\n",
    "for each in column_list:\n",
    "    c_list += each"
   ]
  },
  {
   "cell_type": "code",
   "execution_count": 373,
   "metadata": {},
   "outputs": [
    {
     "data": {
      "text/html": [
       "<div>\n",
       "<style scoped>\n",
       "    .dataframe tbody tr th:only-of-type {\n",
       "        vertical-align: middle;\n",
       "    }\n",
       "\n",
       "    .dataframe tbody tr th {\n",
       "        vertical-align: top;\n",
       "    }\n",
       "\n",
       "    .dataframe thead tr th {\n",
       "        text-align: left;\n",
       "    }\n",
       "</style>\n",
       "<table border=\"1\" class=\"dataframe\">\n",
       "  <thead>\n",
       "    <tr>\n",
       "      <th></th>\n",
       "      <th>Q1</th>\n",
       "      <th>Q2</th>\n",
       "      <th>Q3</th>\n",
       "      <th>Q4</th>\n",
       "      <th>Q5</th>\n",
       "      <th>Q6</th>\n",
       "      <th>Q26</th>\n",
       "      <th>Q25</th>\n",
       "      <th>Q23</th>\n",
       "      <th>Q22</th>\n",
       "      <th>Q21</th>\n",
       "      <th>Q20</th>\n",
       "    </tr>\n",
       "    <tr>\n",
       "      <th></th>\n",
       "      <th>What is your age (# years)?</th>\n",
       "      <th>What is your gender? - Selected Choice</th>\n",
       "      <th>In which country do you currently reside?</th>\n",
       "      <th>What is the highest level of formal education that you have attained or plan to attain within the next 2 years?</th>\n",
       "      <th>Select the title most similar to your current role (or most recent title if retired): - Selected Choice</th>\n",
       "      <th>For how many years have you been writing code and/or programming?</th>\n",
       "      <th>Approximately how much money have you (or your team) spent on machine learning and/or cloud computing services at home (or at work) in the past 5 years (approximate $USD)?</th>\n",
       "      <th>What is your current yearly compensation (approximate $USD)?</th>\n",
       "      <th>Does your current employer incorporate machine learning methods into their business?</th>\n",
       "      <th>Approximately how many individuals are responsible for data science workloads at your place of business?</th>\n",
       "      <th>What is the size of the company where you are employed?</th>\n",
       "      <th>In what industry is your current employer/contract (or your most recent employer if retired)? - Selected Choice</th>\n",
       "    </tr>\n",
       "  </thead>\n",
       "  <tbody>\n",
       "    <tr>\n",
       "      <th>0</th>\n",
       "      <td>50-54</td>\n",
       "      <td>Man</td>\n",
       "      <td>India</td>\n",
       "      <td>Bachelorâ€™s degree</td>\n",
       "      <td>Other</td>\n",
       "      <td>5-10 years</td>\n",
       "      <td>$100-$999</td>\n",
       "      <td>25,000-29,999</td>\n",
       "      <td>No (we do not use ML methods)</td>\n",
       "      <td>4-Mar</td>\n",
       "      <td>50-249 employees</td>\n",
       "      <td>Manufacturing/Fabrication</td>\n",
       "    </tr>\n",
       "    <tr>\n",
       "      <th>1</th>\n",
       "      <td>50-54</td>\n",
       "      <td>Man</td>\n",
       "      <td>Indonesia</td>\n",
       "      <td>Masterâ€™s degree</td>\n",
       "      <td>Program/Project Manager</td>\n",
       "      <td>20+ years</td>\n",
       "      <td>$0 ($USD)</td>\n",
       "      <td>60,000-69,999</td>\n",
       "      <td>We are exploring ML methods (and may one day put a model into production)</td>\n",
       "      <td>2-Jan</td>\n",
       "      <td>1000-9,999 employees</td>\n",
       "      <td>Manufacturing/Fabrication</td>\n",
       "    </tr>\n",
       "    <tr>\n",
       "      <th>2</th>\n",
       "      <td>22-24</td>\n",
       "      <td>Man</td>\n",
       "      <td>Pakistan</td>\n",
       "      <td>Masterâ€™s degree</td>\n",
       "      <td>Software Engineer</td>\n",
       "      <td>1-3 years</td>\n",
       "      <td>$0 ($USD)</td>\n",
       "      <td>$0-999</td>\n",
       "      <td>I do not know</td>\n",
       "      <td>0</td>\n",
       "      <td>1000-9,999 employees</td>\n",
       "      <td>Academics/Education</td>\n",
       "    </tr>\n",
       "    <tr>\n",
       "      <th>3</th>\n",
       "      <td>45-49</td>\n",
       "      <td>Man</td>\n",
       "      <td>Mexico</td>\n",
       "      <td>Doctoral degree</td>\n",
       "      <td>Research Scientist</td>\n",
       "      <td>20+ years</td>\n",
       "      <td>$0 ($USD)</td>\n",
       "      <td>30,000-39,999</td>\n",
       "      <td>I do not know</td>\n",
       "      <td>0</td>\n",
       "      <td>1000-9,999 employees</td>\n",
       "      <td>Academics/Education</td>\n",
       "    </tr>\n",
       "    <tr>\n",
       "      <th>4</th>\n",
       "      <td>45-49</td>\n",
       "      <td>Man</td>\n",
       "      <td>India</td>\n",
       "      <td>Doctoral degree</td>\n",
       "      <td>Other</td>\n",
       "      <td>&lt; 1 years</td>\n",
       "      <td>$1000-$9,999</td>\n",
       "      <td>30,000-39,999</td>\n",
       "      <td>We use ML methods for generating insights (but do not put working models into production)</td>\n",
       "      <td>9-May</td>\n",
       "      <td>50-249 employees</td>\n",
       "      <td>Academics/Education</td>\n",
       "    </tr>\n",
       "    <tr>\n",
       "      <th>...</th>\n",
       "      <td>...</td>\n",
       "      <td>...</td>\n",
       "      <td>...</td>\n",
       "      <td>...</td>\n",
       "      <td>...</td>\n",
       "      <td>...</td>\n",
       "      <td>...</td>\n",
       "      <td>...</td>\n",
       "      <td>...</td>\n",
       "      <td>...</td>\n",
       "      <td>...</td>\n",
       "      <td>...</td>\n",
       "    </tr>\n",
       "    <tr>\n",
       "      <th>106296</th>\n",
       "      <td>22-24</td>\n",
       "      <td>Female</td>\n",
       "      <td>Other</td>\n",
       "      <td>Master's degree</td>\n",
       "      <td>NaN</td>\n",
       "      <td>Less than a year</td>\n",
       "      <td>NaN</td>\n",
       "      <td>NaN</td>\n",
       "      <td>NaN</td>\n",
       "      <td>NaN</td>\n",
       "      <td>NaN</td>\n",
       "      <td>NaN</td>\n",
       "    </tr>\n",
       "    <tr>\n",
       "      <th>106297</th>\n",
       "      <td>25-29</td>\n",
       "      <td>Male</td>\n",
       "      <td>Indonesia</td>\n",
       "      <td>Bachelor's degree</td>\n",
       "      <td>Programmer</td>\n",
       "      <td>1 to 2 years</td>\n",
       "      <td>NaN</td>\n",
       "      <td>NaN</td>\n",
       "      <td>NaN</td>\n",
       "      <td>NaN</td>\n",
       "      <td>NaN</td>\n",
       "      <td>NaN</td>\n",
       "    </tr>\n",
       "    <tr>\n",
       "      <th>106298</th>\n",
       "      <td>25-29</td>\n",
       "      <td>Female</td>\n",
       "      <td>Taiwan</td>\n",
       "      <td>NaN</td>\n",
       "      <td>NaN</td>\n",
       "      <td>NaN</td>\n",
       "      <td>NaN</td>\n",
       "      <td>NaN</td>\n",
       "      <td>NaN</td>\n",
       "      <td>NaN</td>\n",
       "      <td>NaN</td>\n",
       "      <td>NaN</td>\n",
       "    </tr>\n",
       "    <tr>\n",
       "      <th>106299</th>\n",
       "      <td>NaN</td>\n",
       "      <td>Female</td>\n",
       "      <td>Singapore</td>\n",
       "      <td>I prefer not to answer</td>\n",
       "      <td>NaN</td>\n",
       "      <td>NaN</td>\n",
       "      <td>NaN</td>\n",
       "      <td>NaN</td>\n",
       "      <td>NaN</td>\n",
       "      <td>NaN</td>\n",
       "      <td>NaN</td>\n",
       "      <td>NaN</td>\n",
       "    </tr>\n",
       "    <tr>\n",
       "      <th>106300</th>\n",
       "      <td>25-29</td>\n",
       "      <td>Male</td>\n",
       "      <td>Japan</td>\n",
       "      <td>I did not complete any formal education past high school</td>\n",
       "      <td>Programmer</td>\n",
       "      <td>NaN</td>\n",
       "      <td>NaN</td>\n",
       "      <td>NaN</td>\n",
       "      <td>NaN</td>\n",
       "      <td>NaN</td>\n",
       "      <td>NaN</td>\n",
       "      <td>NaN</td>\n",
       "    </tr>\n",
       "  </tbody>\n",
       "</table>\n",
       "<p>106301 rows × 12 columns</p>\n",
       "</div>"
      ],
      "text/plain": [
       "                                Q1                                     Q2  \\\n",
       "       What is your age (# years)? What is your gender? - Selected Choice   \n",
       "0                            50-54                                    Man   \n",
       "1                            50-54                                    Man   \n",
       "2                            22-24                                    Man   \n",
       "3                            45-49                                    Man   \n",
       "4                            45-49                                    Man   \n",
       "...                            ...                                    ...   \n",
       "106296                       22-24                                 Female   \n",
       "106297                       25-29                                   Male   \n",
       "106298                       25-29                                 Female   \n",
       "106299                         NaN                                 Female   \n",
       "106300                       25-29                                   Male   \n",
       "\n",
       "                                              Q3  \\\n",
       "       In which country do you currently reside?   \n",
       "0                                          India   \n",
       "1                                      Indonesia   \n",
       "2                                       Pakistan   \n",
       "3                                         Mexico   \n",
       "4                                          India   \n",
       "...                                          ...   \n",
       "106296                                     Other   \n",
       "106297                                 Indonesia   \n",
       "106298                                    Taiwan   \n",
       "106299                                 Singapore   \n",
       "106300                                     Japan   \n",
       "\n",
       "                                                                                                                    Q4  \\\n",
       "       What is the highest level of formal education that you have attained or plan to attain within the next 2 years?   \n",
       "0                                                                                                  Bachelorâ€™s degree   \n",
       "1                                                                                                    Masterâ€™s degree   \n",
       "2                                                                                                    Masterâ€™s degree   \n",
       "3                                                                                                      Doctoral degree   \n",
       "4                                                                                                      Doctoral degree   \n",
       "...                                                                                                                ...   \n",
       "106296                                                                                                 Master's degree   \n",
       "106297                                                                                               Bachelor's degree   \n",
       "106298                                                                                                             NaN   \n",
       "106299                                                                                          I prefer not to answer   \n",
       "106300                                                        I did not complete any formal education past high school   \n",
       "\n",
       "                                                                                                            Q5  \\\n",
       "       Select the title most similar to your current role (or most recent title if retired): - Selected Choice   \n",
       "0                                                                                                        Other   \n",
       "1                                                                                      Program/Project Manager   \n",
       "2                                                                                            Software Engineer   \n",
       "3                                                                                           Research Scientist   \n",
       "4                                                                                                        Other   \n",
       "...                                                                                                        ...   \n",
       "106296                                                                                                     NaN   \n",
       "106297                                                                                              Programmer   \n",
       "106298                                                                                                     NaN   \n",
       "106299                                                                                                     NaN   \n",
       "106300                                                                                              Programmer   \n",
       "\n",
       "                                                                      Q6  \\\n",
       "       For how many years have you been writing code and/or programming?   \n",
       "0                                                             5-10 years   \n",
       "1                                                              20+ years   \n",
       "2                                                              1-3 years   \n",
       "3                                                              20+ years   \n",
       "4                                                              < 1 years   \n",
       "...                                                                  ...   \n",
       "106296                                                  Less than a year   \n",
       "106297                                                      1 to 2 years   \n",
       "106298                                                               NaN   \n",
       "106299                                                               NaN   \n",
       "106300                                                               NaN   \n",
       "\n",
       "                                                                                                                                                                               Q26  \\\n",
       "       Approximately how much money have you (or your team) spent on machine learning and/or cloud computing services at home (or at work) in the past 5 years (approximate $USD)?   \n",
       "0                                                                                                                                                                        $100-$999   \n",
       "1                                                                                                                                                                        $0 ($USD)   \n",
       "2                                                                                                                                                                        $0 ($USD)   \n",
       "3                                                                                                                                                                        $0 ($USD)   \n",
       "4                                                                                                                                                                     $1000-$9,999   \n",
       "...                                                                                                                                                                            ...   \n",
       "106296                                                                                                                                                                         NaN   \n",
       "106297                                                                                                                                                                         NaN   \n",
       "106298                                                                                                                                                                         NaN   \n",
       "106299                                                                                                                                                                         NaN   \n",
       "106300                                                                                                                                                                         NaN   \n",
       "\n",
       "                                                                Q25  \\\n",
       "       What is your current yearly compensation (approximate $USD)?   \n",
       "0                                                     25,000-29,999   \n",
       "1                                                     60,000-69,999   \n",
       "2                                                            $0-999   \n",
       "3                                                     30,000-39,999   \n",
       "4                                                     30,000-39,999   \n",
       "...                                                             ...   \n",
       "106296                                                          NaN   \n",
       "106297                                                          NaN   \n",
       "106298                                                          NaN   \n",
       "106299                                                          NaN   \n",
       "106300                                                          NaN   \n",
       "\n",
       "                                                                                              Q23  \\\n",
       "             Does your current employer incorporate machine learning methods into their business?   \n",
       "0                                                                   No (we do not use ML methods)   \n",
       "1                       We are exploring ML methods (and may one day put a model into production)   \n",
       "2                                                                                   I do not know   \n",
       "3                                                                                   I do not know   \n",
       "4       We use ML methods for generating insights (but do not put working models into production)   \n",
       "...                                                                                           ...   \n",
       "106296                                                                                        NaN   \n",
       "106297                                                                                        NaN   \n",
       "106298                                                                                        NaN   \n",
       "106299                                                                                        NaN   \n",
       "106300                                                                                        NaN   \n",
       "\n",
       "                                                                                                            Q22  \\\n",
       "       Approximately how many individuals are responsible for data science workloads at your place of business?   \n",
       "0                                                                                                         4-Mar   \n",
       "1                                                                                                         2-Jan   \n",
       "2                                                                                                             0   \n",
       "3                                                                                                             0   \n",
       "4                                                                                                         9-May   \n",
       "...                                                                                                         ...   \n",
       "106296                                                                                                      NaN   \n",
       "106297                                                                                                      NaN   \n",
       "106298                                                                                                      NaN   \n",
       "106299                                                                                                      NaN   \n",
       "106300                                                                                                      NaN   \n",
       "\n",
       "                                                           Q21  \\\n",
       "       What is the size of the company where you are employed?   \n",
       "0                                             50-249 employees   \n",
       "1                                         1000-9,999 employees   \n",
       "2                                         1000-9,999 employees   \n",
       "3                                         1000-9,999 employees   \n",
       "4                                             50-249 employees   \n",
       "...                                                        ...   \n",
       "106296                                                     NaN   \n",
       "106297                                                     NaN   \n",
       "106298                                                     NaN   \n",
       "106299                                                     NaN   \n",
       "106300                                                     NaN   \n",
       "\n",
       "                                                                                                                   Q20  \n",
       "       In what industry is your current employer/contract (or your most recent employer if retired)? - Selected Choice  \n",
       "0                                                                                            Manufacturing/Fabrication  \n",
       "1                                                                                            Manufacturing/Fabrication  \n",
       "2                                                                                                  Academics/Education  \n",
       "3                                                                                                  Academics/Education  \n",
       "4                                                                                                  Academics/Education  \n",
       "...                                                                                                                ...  \n",
       "106296                                                                                                             NaN  \n",
       "106297                                                                                                             NaN  \n",
       "106298                                                                                                             NaN  \n",
       "106299                                                                                                             NaN  \n",
       "106300                                                                                                             NaN  \n",
       "\n",
       "[106301 rows x 12 columns]"
      ]
     },
     "execution_count": 373,
     "metadata": {},
     "output_type": "execute_result"
    }
   ],
   "source": [
    "topic_1_df = df.loc[:, c_list]\n",
    "topic_1_df"
   ]
  },
  {
   "cell_type": "markdown",
   "metadata": {},
   "source": [
    "#### 1. Global Distribution: Country of residence of the survey participant (Q3)"
   ]
  },
  {
   "cell_type": "code",
   "execution_count": 382,
   "metadata": {},
   "outputs": [
    {
     "data": {
      "text/html": [
       "<div>\n",
       "<style scoped>\n",
       "    .dataframe tbody tr th:only-of-type {\n",
       "        vertical-align: middle;\n",
       "    }\n",
       "\n",
       "    .dataframe tbody tr th {\n",
       "        vertical-align: top;\n",
       "    }\n",
       "\n",
       "    .dataframe thead th {\n",
       "        text-align: right;\n",
       "    }\n",
       "</style>\n",
       "<table border=\"1\" class=\"dataframe\">\n",
       "  <thead>\n",
       "    <tr style=\"text-align: right;\">\n",
       "      <th></th>\n",
       "      <th>Country</th>\n",
       "      <th>Count</th>\n",
       "    </tr>\n",
       "  </thead>\n",
       "  <tbody>\n",
       "    <tr>\n",
       "      <th>0</th>\n",
       "      <td>India</td>\n",
       "      <td>25192</td>\n",
       "    </tr>\n",
       "    <tr>\n",
       "      <th>1</th>\n",
       "      <td>United States of America</td>\n",
       "      <td>12688</td>\n",
       "    </tr>\n",
       "    <tr>\n",
       "      <th>2</th>\n",
       "      <td>Other</td>\n",
       "      <td>5771</td>\n",
       "    </tr>\n",
       "    <tr>\n",
       "      <th>3</th>\n",
       "      <td>United States</td>\n",
       "      <td>4197</td>\n",
       "    </tr>\n",
       "    <tr>\n",
       "      <th>4</th>\n",
       "      <td>China</td>\n",
       "      <td>3506</td>\n",
       "    </tr>\n",
       "    <tr>\n",
       "      <th>...</th>\n",
       "      <td>...</td>\n",
       "      <td>...</td>\n",
       "    </tr>\n",
       "    <tr>\n",
       "      <th>72</th>\n",
       "      <td>Ecuador</td>\n",
       "      <td>50</td>\n",
       "    </tr>\n",
       "    <tr>\n",
       "      <th>73</th>\n",
       "      <td>Uganda</td>\n",
       "      <td>47</td>\n",
       "    </tr>\n",
       "    <tr>\n",
       "      <th>74</th>\n",
       "      <td>Kazakhstan</td>\n",
       "      <td>45</td>\n",
       "    </tr>\n",
       "    <tr>\n",
       "      <th>75</th>\n",
       "      <td>Iraq</td>\n",
       "      <td>43</td>\n",
       "    </tr>\n",
       "    <tr>\n",
       "      <th>76</th>\n",
       "      <td>Ethiopia</td>\n",
       "      <td>43</td>\n",
       "    </tr>\n",
       "  </tbody>\n",
       "</table>\n",
       "<p>77 rows × 2 columns</p>\n",
       "</div>"
      ],
      "text/plain": [
       "                     Country  Count\n",
       "0                      India  25192\n",
       "1   United States of America  12688\n",
       "2                      Other   5771\n",
       "3              United States   4197\n",
       "4                      China   3506\n",
       "..                       ...    ...\n",
       "72                   Ecuador     50\n",
       "73                    Uganda     47\n",
       "74                Kazakhstan     45\n",
       "75                      Iraq     43\n",
       "76                  Ethiopia     43\n",
       "\n",
       "[77 rows x 2 columns]"
      ]
     },
     "execution_count": 382,
     "metadata": {},
     "output_type": "execute_result"
    }
   ],
   "source": [
    "country_counts = filter_column_data_with_question_num(3).value_counts().reset_index()\n",
    "country_counts.columns = ['Country', 'Count']\n",
    "country_counts"
   ]
  },
  {
   "cell_type": "markdown",
   "metadata": {},
   "source": [
    "- 77 Countries participated in this survey.\n",
    "- India has the highest number of participant"
   ]
  },
  {
   "cell_type": "code",
   "execution_count": 260,
   "metadata": {},
   "outputs": [
    {
     "data": {
      "text/html": [
       "<div>\n",
       "<style scoped>\n",
       "    .dataframe tbody tr th:only-of-type {\n",
       "        vertical-align: middle;\n",
       "    }\n",
       "\n",
       "    .dataframe tbody tr th {\n",
       "        vertical-align: top;\n",
       "    }\n",
       "\n",
       "    .dataframe thead th {\n",
       "        text-align: right;\n",
       "    }\n",
       "</style>\n",
       "<table border=\"1\" class=\"dataframe\">\n",
       "  <thead>\n",
       "    <tr style=\"text-align: right;\">\n",
       "      <th></th>\n",
       "      <th>Country</th>\n",
       "      <th>Count</th>\n",
       "    </tr>\n",
       "  </thead>\n",
       "  <tbody>\n",
       "    <tr>\n",
       "      <th>0</th>\n",
       "      <td>India</td>\n",
       "      <td>25192</td>\n",
       "    </tr>\n",
       "    <tr>\n",
       "      <th>1</th>\n",
       "      <td>United States of America</td>\n",
       "      <td>12688</td>\n",
       "    </tr>\n",
       "    <tr>\n",
       "      <th>2</th>\n",
       "      <td>Other</td>\n",
       "      <td>5771</td>\n",
       "    </tr>\n",
       "    <tr>\n",
       "      <th>3</th>\n",
       "      <td>United States</td>\n",
       "      <td>4197</td>\n",
       "    </tr>\n",
       "    <tr>\n",
       "      <th>4</th>\n",
       "      <td>China</td>\n",
       "      <td>3506</td>\n",
       "    </tr>\n",
       "    <tr>\n",
       "      <th>...</th>\n",
       "      <td>...</td>\n",
       "      <td>...</td>\n",
       "    </tr>\n",
       "    <tr>\n",
       "      <th>72</th>\n",
       "      <td>Ecuador</td>\n",
       "      <td>50</td>\n",
       "    </tr>\n",
       "    <tr>\n",
       "      <th>73</th>\n",
       "      <td>Uganda</td>\n",
       "      <td>47</td>\n",
       "    </tr>\n",
       "    <tr>\n",
       "      <th>74</th>\n",
       "      <td>Kazakhstan</td>\n",
       "      <td>45</td>\n",
       "    </tr>\n",
       "    <tr>\n",
       "      <th>75</th>\n",
       "      <td>Iraq</td>\n",
       "      <td>43</td>\n",
       "    </tr>\n",
       "    <tr>\n",
       "      <th>76</th>\n",
       "      <td>Ethiopia</td>\n",
       "      <td>43</td>\n",
       "    </tr>\n",
       "  </tbody>\n",
       "</table>\n",
       "<p>77 rows × 2 columns</p>\n",
       "</div>"
      ],
      "text/plain": [
       "                     Country  Count\n",
       "0                      India  25192\n",
       "1   United States of America  12688\n",
       "2                      Other   5771\n",
       "3              United States   4197\n",
       "4                      China   3506\n",
       "..                       ...    ...\n",
       "72                   Ecuador     50\n",
       "73                    Uganda     47\n",
       "74                Kazakhstan     45\n",
       "75                      Iraq     43\n",
       "76                  Ethiopia     43\n",
       "\n",
       "[77 rows x 2 columns]"
      ]
     },
     "execution_count": 260,
     "metadata": {},
     "output_type": "execute_result"
    }
   ],
   "source": [
    "country_counts"
   ]
  },
  {
   "cell_type": "code",
   "execution_count": 261,
   "metadata": {},
   "outputs": [
    {
     "data": {
      "text/plain": [
       "['India',\n",
       " 'United States of America',\n",
       " 'Other',\n",
       " 'United States',\n",
       " 'China',\n",
       " 'Russia',\n",
       " 'Brazil',\n",
       " 'Japan',\n",
       " 'Germany',\n",
       " 'United Kingdom of Great Britain and Northern Ireland',\n",
       " 'France',\n",
       " 'Canada',\n",
       " 'Spain',\n",
       " 'Nigeria',\n",
       " 'Turkey',\n",
       " 'Australia',\n",
       " 'Italy',\n",
       " 'Pakistan',\n",
       " 'Indonesia',\n",
       " 'Taiwan',\n",
       " 'South Korea',\n",
       " 'Poland',\n",
       " 'Mexico',\n",
       " 'Ukraine',\n",
       " 'Egypt',\n",
       " 'Netherlands',\n",
       " 'Singapore',\n",
       " 'Colombia',\n",
       " 'Bangladesh',\n",
       " 'Viet Nam',\n",
       " 'South Africa',\n",
       " 'Kenya',\n",
       " 'Argentina',\n",
       " 'Israel',\n",
       " 'Portugal',\n",
       " 'Iran, Islamic Republic of...',\n",
       " 'Malaysia',\n",
       " 'United Kingdom',\n",
       " 'Switzerland',\n",
       " 'Greece',\n",
       " 'Sweden',\n",
       " \"People 's Republic of China\",\n",
       " 'Morocco',\n",
       " 'I do not wish to disclose my location',\n",
       " 'Philippines',\n",
       " 'Ireland',\n",
       " 'Chile',\n",
       " 'Belgium',\n",
       " 'Thailand',\n",
       " 'Peru',\n",
       " 'Tunisia',\n",
       " 'Belarus',\n",
       " 'Romania',\n",
       " 'Denmark',\n",
       " 'Czech Republic',\n",
       " 'Norway',\n",
       " 'Republic of Korea',\n",
       " 'Hong Kong (S.A.R.)',\n",
       " 'Saudi Arabia',\n",
       " 'Hungary',\n",
       " 'New Zealand',\n",
       " 'Sri Lanka',\n",
       " 'United Arab Emirates',\n",
       " 'Austria',\n",
       " 'Ghana',\n",
       " 'Finland',\n",
       " 'Nepal',\n",
       " 'Iran',\n",
       " 'Algeria',\n",
       " 'Vietnam',\n",
       " 'Republic of China',\n",
       " 'Hong Kong',\n",
       " 'Ecuador',\n",
       " 'Uganda',\n",
       " 'Kazakhstan',\n",
       " 'Iraq',\n",
       " 'Ethiopia']"
      ]
     },
     "execution_count": 261,
     "metadata": {},
     "output_type": "execute_result"
    }
   ],
   "source": [
    "country_counts['Country'].to_list()"
   ]
  },
  {
   "cell_type": "code",
   "execution_count": 262,
   "metadata": {},
   "outputs": [
    {
     "data": {
      "text/html": [
       "<div>\n",
       "<style scoped>\n",
       "    .dataframe tbody tr th:only-of-type {\n",
       "        vertical-align: middle;\n",
       "    }\n",
       "\n",
       "    .dataframe tbody tr th {\n",
       "        vertical-align: top;\n",
       "    }\n",
       "\n",
       "    .dataframe thead th {\n",
       "        text-align: right;\n",
       "    }\n",
       "</style>\n",
       "<table border=\"1\" class=\"dataframe\">\n",
       "  <thead>\n",
       "    <tr style=\"text-align: right;\">\n",
       "      <th></th>\n",
       "      <th>Country</th>\n",
       "      <th>Count</th>\n",
       "    </tr>\n",
       "  </thead>\n",
       "  <tbody>\n",
       "    <tr>\n",
       "      <th>43</th>\n",
       "      <td>I do not wish to disclose my location</td>\n",
       "      <td>463</td>\n",
       "    </tr>\n",
       "  </tbody>\n",
       "</table>\n",
       "</div>"
      ],
      "text/plain": [
       "                                  Country  Count\n",
       "43  I do not wish to disclose my location    463"
      ]
     },
     "execution_count": 262,
     "metadata": {},
     "output_type": "execute_result"
    }
   ],
   "source": [
    "undisclosed_location_participants = country_counts[country_counts['Country'] ==  'I do not wish to disclose my location']\n",
    "undisclosed_location_participants"
   ]
  },
  {
   "cell_type": "code",
   "execution_count": 263,
   "metadata": {},
   "outputs": [
    {
     "name": "stdout",
     "output_type": "stream",
     "text": [
      "0.44 % of participants did not disclose their locations\n"
     ]
    }
   ],
   "source": [
    "print(f\"{round(463/df.shape[0] * 100, 2)} % of participants did not disclose their locations\")"
   ]
  },
  {
   "cell_type": "code",
   "execution_count": 264,
   "metadata": {},
   "outputs": [
    {
     "data": {
      "application/vnd.plotly.v1+json": {
       "config": {
        "plotlyServerURL": "https://plot.ly"
       },
       "data": [
        {
         "geo": "geo",
         "hovertemplate": "<b>%{hovertext}</b><br><br>Count=%{marker.color}<br>Country=%{location}<extra></extra>",
         "hovertext": [
          "India",
          "United States of America",
          "Other",
          "United States",
          "China",
          "Russia",
          "Brazil",
          "Japan",
          "Germany",
          "United Kingdom of Great Britain and Northern Ireland",
          "France",
          "Canada",
          "Spain",
          "Nigeria",
          "Turkey",
          "Australia",
          "Italy",
          "Pakistan",
          "Indonesia",
          "Taiwan"
         ],
         "legendgroup": "",
         "locationmode": "country names",
         "locations": [
          "India",
          "United States of America",
          "Other",
          "United States",
          "China",
          "Russia",
          "Brazil",
          "Japan",
          "Germany",
          "United Kingdom of Great Britain and Northern Ireland",
          "France",
          "Canada",
          "Spain",
          "Nigeria",
          "Turkey",
          "Australia",
          "Italy",
          "Pakistan",
          "Indonesia",
          "Taiwan"
         ],
         "marker": {
          "color": [
           25192,
           12688,
           5771,
           4197,
           3506,
           3407,
           3374,
           3106,
           2599,
           2223,
           2164,
           2126,
           1994,
           1854,
           1519,
           1515,
           1442,
           1345,
           1203,
           1156
          ],
          "coloraxis": "coloraxis",
          "opacity": 0.7,
          "size": [
           25192,
           12688,
           5771,
           4197,
           3506,
           3407,
           3374,
           3106,
           2599,
           2223,
           2164,
           2126,
           1994,
           1854,
           1519,
           1515,
           1442,
           1345,
           1203,
           1156
          ],
          "sizemode": "area",
          "sizeref": 3.93625,
          "symbol": "circle"
         },
         "mode": "markers",
         "name": "",
         "showlegend": false,
         "type": "scattergeo"
        }
       ],
       "layout": {
        "coloraxis": {
         "colorbar": {
          "title": {
           "text": "Count"
          }
         },
         "colorscale": [
          [
           0,
           "#0d0887"
          ],
          [
           0.1111111111111111,
           "#46039f"
          ],
          [
           0.2222222222222222,
           "#7201a8"
          ],
          [
           0.3333333333333333,
           "#9c179e"
          ],
          [
           0.4444444444444444,
           "#bd3786"
          ],
          [
           0.5555555555555556,
           "#d8576b"
          ],
          [
           0.6666666666666666,
           "#ed7953"
          ],
          [
           0.7777777777777778,
           "#fb9f3a"
          ],
          [
           0.8888888888888888,
           "#fdca26"
          ],
          [
           1,
           "#f0f921"
          ]
         ]
        },
        "geo": {
         "center": {},
         "domain": {
          "x": [
           0,
           1
          ],
          "y": [
           0,
           1
          ]
         },
         "projection": {
          "type": "natural earth"
         }
        },
        "legend": {
         "itemsizing": "constant",
         "tracegroupgap": 0
        },
        "template": {
         "data": {
          "bar": [
           {
            "error_x": {
             "color": "#2a3f5f"
            },
            "error_y": {
             "color": "#2a3f5f"
            },
            "marker": {
             "line": {
              "color": "#E5ECF6",
              "width": 0.5
             },
             "pattern": {
              "fillmode": "overlay",
              "size": 10,
              "solidity": 0.2
             }
            },
            "type": "bar"
           }
          ],
          "barpolar": [
           {
            "marker": {
             "line": {
              "color": "#E5ECF6",
              "width": 0.5
             },
             "pattern": {
              "fillmode": "overlay",
              "size": 10,
              "solidity": 0.2
             }
            },
            "type": "barpolar"
           }
          ],
          "carpet": [
           {
            "aaxis": {
             "endlinecolor": "#2a3f5f",
             "gridcolor": "white",
             "linecolor": "white",
             "minorgridcolor": "white",
             "startlinecolor": "#2a3f5f"
            },
            "baxis": {
             "endlinecolor": "#2a3f5f",
             "gridcolor": "white",
             "linecolor": "white",
             "minorgridcolor": "white",
             "startlinecolor": "#2a3f5f"
            },
            "type": "carpet"
           }
          ],
          "choropleth": [
           {
            "colorbar": {
             "outlinewidth": 0,
             "ticks": ""
            },
            "type": "choropleth"
           }
          ],
          "contour": [
           {
            "colorbar": {
             "outlinewidth": 0,
             "ticks": ""
            },
            "colorscale": [
             [
              0,
              "#0d0887"
             ],
             [
              0.1111111111111111,
              "#46039f"
             ],
             [
              0.2222222222222222,
              "#7201a8"
             ],
             [
              0.3333333333333333,
              "#9c179e"
             ],
             [
              0.4444444444444444,
              "#bd3786"
             ],
             [
              0.5555555555555556,
              "#d8576b"
             ],
             [
              0.6666666666666666,
              "#ed7953"
             ],
             [
              0.7777777777777778,
              "#fb9f3a"
             ],
             [
              0.8888888888888888,
              "#fdca26"
             ],
             [
              1,
              "#f0f921"
             ]
            ],
            "type": "contour"
           }
          ],
          "contourcarpet": [
           {
            "colorbar": {
             "outlinewidth": 0,
             "ticks": ""
            },
            "type": "contourcarpet"
           }
          ],
          "heatmap": [
           {
            "colorbar": {
             "outlinewidth": 0,
             "ticks": ""
            },
            "colorscale": [
             [
              0,
              "#0d0887"
             ],
             [
              0.1111111111111111,
              "#46039f"
             ],
             [
              0.2222222222222222,
              "#7201a8"
             ],
             [
              0.3333333333333333,
              "#9c179e"
             ],
             [
              0.4444444444444444,
              "#bd3786"
             ],
             [
              0.5555555555555556,
              "#d8576b"
             ],
             [
              0.6666666666666666,
              "#ed7953"
             ],
             [
              0.7777777777777778,
              "#fb9f3a"
             ],
             [
              0.8888888888888888,
              "#fdca26"
             ],
             [
              1,
              "#f0f921"
             ]
            ],
            "type": "heatmap"
           }
          ],
          "heatmapgl": [
           {
            "colorbar": {
             "outlinewidth": 0,
             "ticks": ""
            },
            "colorscale": [
             [
              0,
              "#0d0887"
             ],
             [
              0.1111111111111111,
              "#46039f"
             ],
             [
              0.2222222222222222,
              "#7201a8"
             ],
             [
              0.3333333333333333,
              "#9c179e"
             ],
             [
              0.4444444444444444,
              "#bd3786"
             ],
             [
              0.5555555555555556,
              "#d8576b"
             ],
             [
              0.6666666666666666,
              "#ed7953"
             ],
             [
              0.7777777777777778,
              "#fb9f3a"
             ],
             [
              0.8888888888888888,
              "#fdca26"
             ],
             [
              1,
              "#f0f921"
             ]
            ],
            "type": "heatmapgl"
           }
          ],
          "histogram": [
           {
            "marker": {
             "pattern": {
              "fillmode": "overlay",
              "size": 10,
              "solidity": 0.2
             }
            },
            "type": "histogram"
           }
          ],
          "histogram2d": [
           {
            "colorbar": {
             "outlinewidth": 0,
             "ticks": ""
            },
            "colorscale": [
             [
              0,
              "#0d0887"
             ],
             [
              0.1111111111111111,
              "#46039f"
             ],
             [
              0.2222222222222222,
              "#7201a8"
             ],
             [
              0.3333333333333333,
              "#9c179e"
             ],
             [
              0.4444444444444444,
              "#bd3786"
             ],
             [
              0.5555555555555556,
              "#d8576b"
             ],
             [
              0.6666666666666666,
              "#ed7953"
             ],
             [
              0.7777777777777778,
              "#fb9f3a"
             ],
             [
              0.8888888888888888,
              "#fdca26"
             ],
             [
              1,
              "#f0f921"
             ]
            ],
            "type": "histogram2d"
           }
          ],
          "histogram2dcontour": [
           {
            "colorbar": {
             "outlinewidth": 0,
             "ticks": ""
            },
            "colorscale": [
             [
              0,
              "#0d0887"
             ],
             [
              0.1111111111111111,
              "#46039f"
             ],
             [
              0.2222222222222222,
              "#7201a8"
             ],
             [
              0.3333333333333333,
              "#9c179e"
             ],
             [
              0.4444444444444444,
              "#bd3786"
             ],
             [
              0.5555555555555556,
              "#d8576b"
             ],
             [
              0.6666666666666666,
              "#ed7953"
             ],
             [
              0.7777777777777778,
              "#fb9f3a"
             ],
             [
              0.8888888888888888,
              "#fdca26"
             ],
             [
              1,
              "#f0f921"
             ]
            ],
            "type": "histogram2dcontour"
           }
          ],
          "mesh3d": [
           {
            "colorbar": {
             "outlinewidth": 0,
             "ticks": ""
            },
            "type": "mesh3d"
           }
          ],
          "parcoords": [
           {
            "line": {
             "colorbar": {
              "outlinewidth": 0,
              "ticks": ""
             }
            },
            "type": "parcoords"
           }
          ],
          "pie": [
           {
            "automargin": true,
            "type": "pie"
           }
          ],
          "scatter": [
           {
            "fillpattern": {
             "fillmode": "overlay",
             "size": 10,
             "solidity": 0.2
            },
            "type": "scatter"
           }
          ],
          "scatter3d": [
           {
            "line": {
             "colorbar": {
              "outlinewidth": 0,
              "ticks": ""
             }
            },
            "marker": {
             "colorbar": {
              "outlinewidth": 0,
              "ticks": ""
             }
            },
            "type": "scatter3d"
           }
          ],
          "scattercarpet": [
           {
            "marker": {
             "colorbar": {
              "outlinewidth": 0,
              "ticks": ""
             }
            },
            "type": "scattercarpet"
           }
          ],
          "scattergeo": [
           {
            "marker": {
             "colorbar": {
              "outlinewidth": 0,
              "ticks": ""
             }
            },
            "type": "scattergeo"
           }
          ],
          "scattergl": [
           {
            "marker": {
             "colorbar": {
              "outlinewidth": 0,
              "ticks": ""
             }
            },
            "type": "scattergl"
           }
          ],
          "scattermapbox": [
           {
            "marker": {
             "colorbar": {
              "outlinewidth": 0,
              "ticks": ""
             }
            },
            "type": "scattermapbox"
           }
          ],
          "scatterpolar": [
           {
            "marker": {
             "colorbar": {
              "outlinewidth": 0,
              "ticks": ""
             }
            },
            "type": "scatterpolar"
           }
          ],
          "scatterpolargl": [
           {
            "marker": {
             "colorbar": {
              "outlinewidth": 0,
              "ticks": ""
             }
            },
            "type": "scatterpolargl"
           }
          ],
          "scatterternary": [
           {
            "marker": {
             "colorbar": {
              "outlinewidth": 0,
              "ticks": ""
             }
            },
            "type": "scatterternary"
           }
          ],
          "surface": [
           {
            "colorbar": {
             "outlinewidth": 0,
             "ticks": ""
            },
            "colorscale": [
             [
              0,
              "#0d0887"
             ],
             [
              0.1111111111111111,
              "#46039f"
             ],
             [
              0.2222222222222222,
              "#7201a8"
             ],
             [
              0.3333333333333333,
              "#9c179e"
             ],
             [
              0.4444444444444444,
              "#bd3786"
             ],
             [
              0.5555555555555556,
              "#d8576b"
             ],
             [
              0.6666666666666666,
              "#ed7953"
             ],
             [
              0.7777777777777778,
              "#fb9f3a"
             ],
             [
              0.8888888888888888,
              "#fdca26"
             ],
             [
              1,
              "#f0f921"
             ]
            ],
            "type": "surface"
           }
          ],
          "table": [
           {
            "cells": {
             "fill": {
              "color": "#EBF0F8"
             },
             "line": {
              "color": "white"
             }
            },
            "header": {
             "fill": {
              "color": "#C8D4E3"
             },
             "line": {
              "color": "white"
             }
            },
            "type": "table"
           }
          ]
         },
         "layout": {
          "annotationdefaults": {
           "arrowcolor": "#2a3f5f",
           "arrowhead": 0,
           "arrowwidth": 1
          },
          "autotypenumbers": "strict",
          "coloraxis": {
           "colorbar": {
            "outlinewidth": 0,
            "ticks": ""
           }
          },
          "colorscale": {
           "diverging": [
            [
             0,
             "#8e0152"
            ],
            [
             0.1,
             "#c51b7d"
            ],
            [
             0.2,
             "#de77ae"
            ],
            [
             0.3,
             "#f1b6da"
            ],
            [
             0.4,
             "#fde0ef"
            ],
            [
             0.5,
             "#f7f7f7"
            ],
            [
             0.6,
             "#e6f5d0"
            ],
            [
             0.7,
             "#b8e186"
            ],
            [
             0.8,
             "#7fbc41"
            ],
            [
             0.9,
             "#4d9221"
            ],
            [
             1,
             "#276419"
            ]
           ],
           "sequential": [
            [
             0,
             "#0d0887"
            ],
            [
             0.1111111111111111,
             "#46039f"
            ],
            [
             0.2222222222222222,
             "#7201a8"
            ],
            [
             0.3333333333333333,
             "#9c179e"
            ],
            [
             0.4444444444444444,
             "#bd3786"
            ],
            [
             0.5555555555555556,
             "#d8576b"
            ],
            [
             0.6666666666666666,
             "#ed7953"
            ],
            [
             0.7777777777777778,
             "#fb9f3a"
            ],
            [
             0.8888888888888888,
             "#fdca26"
            ],
            [
             1,
             "#f0f921"
            ]
           ],
           "sequentialminus": [
            [
             0,
             "#0d0887"
            ],
            [
             0.1111111111111111,
             "#46039f"
            ],
            [
             0.2222222222222222,
             "#7201a8"
            ],
            [
             0.3333333333333333,
             "#9c179e"
            ],
            [
             0.4444444444444444,
             "#bd3786"
            ],
            [
             0.5555555555555556,
             "#d8576b"
            ],
            [
             0.6666666666666666,
             "#ed7953"
            ],
            [
             0.7777777777777778,
             "#fb9f3a"
            ],
            [
             0.8888888888888888,
             "#fdca26"
            ],
            [
             1,
             "#f0f921"
            ]
           ]
          },
          "colorway": [
           "#636efa",
           "#EF553B",
           "#00cc96",
           "#ab63fa",
           "#FFA15A",
           "#19d3f3",
           "#FF6692",
           "#B6E880",
           "#FF97FF",
           "#FECB52"
          ],
          "font": {
           "color": "#2a3f5f"
          },
          "geo": {
           "bgcolor": "white",
           "lakecolor": "white",
           "landcolor": "#E5ECF6",
           "showlakes": true,
           "showland": true,
           "subunitcolor": "white"
          },
          "hoverlabel": {
           "align": "left"
          },
          "hovermode": "closest",
          "mapbox": {
           "style": "light"
          },
          "paper_bgcolor": "white",
          "plot_bgcolor": "#E5ECF6",
          "polar": {
           "angularaxis": {
            "gridcolor": "white",
            "linecolor": "white",
            "ticks": ""
           },
           "bgcolor": "#E5ECF6",
           "radialaxis": {
            "gridcolor": "white",
            "linecolor": "white",
            "ticks": ""
           }
          },
          "scene": {
           "xaxis": {
            "backgroundcolor": "#E5ECF6",
            "gridcolor": "white",
            "gridwidth": 2,
            "linecolor": "white",
            "showbackground": true,
            "ticks": "",
            "zerolinecolor": "white"
           },
           "yaxis": {
            "backgroundcolor": "#E5ECF6",
            "gridcolor": "white",
            "gridwidth": 2,
            "linecolor": "white",
            "showbackground": true,
            "ticks": "",
            "zerolinecolor": "white"
           },
           "zaxis": {
            "backgroundcolor": "#E5ECF6",
            "gridcolor": "white",
            "gridwidth": 2,
            "linecolor": "white",
            "showbackground": true,
            "ticks": "",
            "zerolinecolor": "white"
           }
          },
          "shapedefaults": {
           "line": {
            "color": "#2a3f5f"
           }
          },
          "ternary": {
           "aaxis": {
            "gridcolor": "white",
            "linecolor": "white",
            "ticks": ""
           },
           "baxis": {
            "gridcolor": "white",
            "linecolor": "white",
            "ticks": ""
           },
           "bgcolor": "#E5ECF6",
           "caxis": {
            "gridcolor": "white",
            "linecolor": "white",
            "ticks": ""
           }
          },
          "title": {
           "x": 0.05
          },
          "xaxis": {
           "automargin": true,
           "gridcolor": "white",
           "linecolor": "white",
           "ticks": "",
           "title": {
            "standoff": 15
           },
           "zerolinecolor": "white",
           "zerolinewidth": 2
          },
          "yaxis": {
           "automargin": true,
           "gridcolor": "white",
           "linecolor": "white",
           "ticks": "",
           "title": {
            "standoff": 15
           },
           "zerolinecolor": "white",
           "zerolinewidth": 2
          }
         }
        },
        "title": {
         "text": "Top 20 Countries of Survey Participants"
        }
       }
      }
     },
     "metadata": {},
     "output_type": "display_data"
    }
   ],
   "source": [
    "top_countries = country_counts.head(20)\n",
    "\n",
    "fig = px.scatter_geo(top_countries, locations=\"Country\", locationmode='country names', color=\"Count\",\n",
    "                     hover_name=\"Country\", size=\"Count\", projection=\"natural earth\",\n",
    "                     title='Top 20 Countries of Survey Participants', opacity=0.7,\n",
    "                     template=\"plotly\", size_max=80)\n",
    "fig.show()"
   ]
  },
  {
   "cell_type": "code",
   "execution_count": 265,
   "metadata": {},
   "outputs": [
    {
     "data": {
      "application/vnd.plotly.v1+json": {
       "config": {
        "plotlyServerURL": "https://plot.ly"
       },
       "data": [
        {
         "geo": "geo",
         "hovertemplate": "<b>%{hovertext}</b><br><br>Count=%{marker.color}<br>Country=%{location}<extra></extra>",
         "hovertext": [
          "Hong Kong (S.A.R.)",
          "Saudi Arabia",
          "Hungary",
          "New Zealand",
          "Sri Lanka",
          "United Arab Emirates",
          "Austria",
          "Ghana",
          "Finland",
          "Nepal",
          "Iran",
          "Algeria",
          "Vietnam",
          "Republic of China",
          "Hong Kong",
          "Ecuador",
          "Uganda",
          "Kazakhstan",
          "Iraq",
          "Ethiopia"
         ],
         "legendgroup": "",
         "locationmode": "country names",
         "locations": [
          "Hong Kong (S.A.R.)",
          "Saudi Arabia",
          "Hungary",
          "New Zealand",
          "Sri Lanka",
          "United Arab Emirates",
          "Austria",
          "Ghana",
          "Finland",
          "Nepal",
          "Iran",
          "Algeria",
          "Vietnam",
          "Republic of China",
          "Hong Kong",
          "Ecuador",
          "Uganda",
          "Kazakhstan",
          "Iraq",
          "Ethiopia"
         ],
         "marker": {
          "color": [
           219,
           215,
           215,
           202,
           178,
           170,
           166,
           151,
           146,
           137,
           112,
           102,
           71,
           67,
           65,
           50,
           47,
           45,
           43,
           43
          ],
          "coloraxis": "coloraxis",
          "opacity": 0.7,
          "size": [
           219,
           215,
           215,
           202,
           178,
           170,
           166,
           151,
           146,
           137,
           112,
           102,
           71,
           67,
           65,
           50,
           47,
           45,
           43,
           43
          ],
          "sizemode": "area",
          "sizeref": 0.0876,
          "symbol": "circle"
         },
         "mode": "markers",
         "name": "",
         "showlegend": false,
         "type": "scattergeo"
        }
       ],
       "layout": {
        "coloraxis": {
         "colorbar": {
          "title": {
           "text": "Count"
          }
         },
         "colorscale": [
          [
           0,
           "#0d0887"
          ],
          [
           0.1111111111111111,
           "#46039f"
          ],
          [
           0.2222222222222222,
           "#7201a8"
          ],
          [
           0.3333333333333333,
           "#9c179e"
          ],
          [
           0.4444444444444444,
           "#bd3786"
          ],
          [
           0.5555555555555556,
           "#d8576b"
          ],
          [
           0.6666666666666666,
           "#ed7953"
          ],
          [
           0.7777777777777778,
           "#fb9f3a"
          ],
          [
           0.8888888888888888,
           "#fdca26"
          ],
          [
           1,
           "#f0f921"
          ]
         ]
        },
        "geo": {
         "center": {},
         "domain": {
          "x": [
           0,
           1
          ],
          "y": [
           0,
           1
          ]
         },
         "projection": {
          "type": "natural earth"
         }
        },
        "legend": {
         "itemsizing": "constant",
         "tracegroupgap": 0
        },
        "template": {
         "data": {
          "bar": [
           {
            "error_x": {
             "color": "#2a3f5f"
            },
            "error_y": {
             "color": "#2a3f5f"
            },
            "marker": {
             "line": {
              "color": "#E5ECF6",
              "width": 0.5
             },
             "pattern": {
              "fillmode": "overlay",
              "size": 10,
              "solidity": 0.2
             }
            },
            "type": "bar"
           }
          ],
          "barpolar": [
           {
            "marker": {
             "line": {
              "color": "#E5ECF6",
              "width": 0.5
             },
             "pattern": {
              "fillmode": "overlay",
              "size": 10,
              "solidity": 0.2
             }
            },
            "type": "barpolar"
           }
          ],
          "carpet": [
           {
            "aaxis": {
             "endlinecolor": "#2a3f5f",
             "gridcolor": "white",
             "linecolor": "white",
             "minorgridcolor": "white",
             "startlinecolor": "#2a3f5f"
            },
            "baxis": {
             "endlinecolor": "#2a3f5f",
             "gridcolor": "white",
             "linecolor": "white",
             "minorgridcolor": "white",
             "startlinecolor": "#2a3f5f"
            },
            "type": "carpet"
           }
          ],
          "choropleth": [
           {
            "colorbar": {
             "outlinewidth": 0,
             "ticks": ""
            },
            "type": "choropleth"
           }
          ],
          "contour": [
           {
            "colorbar": {
             "outlinewidth": 0,
             "ticks": ""
            },
            "colorscale": [
             [
              0,
              "#0d0887"
             ],
             [
              0.1111111111111111,
              "#46039f"
             ],
             [
              0.2222222222222222,
              "#7201a8"
             ],
             [
              0.3333333333333333,
              "#9c179e"
             ],
             [
              0.4444444444444444,
              "#bd3786"
             ],
             [
              0.5555555555555556,
              "#d8576b"
             ],
             [
              0.6666666666666666,
              "#ed7953"
             ],
             [
              0.7777777777777778,
              "#fb9f3a"
             ],
             [
              0.8888888888888888,
              "#fdca26"
             ],
             [
              1,
              "#f0f921"
             ]
            ],
            "type": "contour"
           }
          ],
          "contourcarpet": [
           {
            "colorbar": {
             "outlinewidth": 0,
             "ticks": ""
            },
            "type": "contourcarpet"
           }
          ],
          "heatmap": [
           {
            "colorbar": {
             "outlinewidth": 0,
             "ticks": ""
            },
            "colorscale": [
             [
              0,
              "#0d0887"
             ],
             [
              0.1111111111111111,
              "#46039f"
             ],
             [
              0.2222222222222222,
              "#7201a8"
             ],
             [
              0.3333333333333333,
              "#9c179e"
             ],
             [
              0.4444444444444444,
              "#bd3786"
             ],
             [
              0.5555555555555556,
              "#d8576b"
             ],
             [
              0.6666666666666666,
              "#ed7953"
             ],
             [
              0.7777777777777778,
              "#fb9f3a"
             ],
             [
              0.8888888888888888,
              "#fdca26"
             ],
             [
              1,
              "#f0f921"
             ]
            ],
            "type": "heatmap"
           }
          ],
          "heatmapgl": [
           {
            "colorbar": {
             "outlinewidth": 0,
             "ticks": ""
            },
            "colorscale": [
             [
              0,
              "#0d0887"
             ],
             [
              0.1111111111111111,
              "#46039f"
             ],
             [
              0.2222222222222222,
              "#7201a8"
             ],
             [
              0.3333333333333333,
              "#9c179e"
             ],
             [
              0.4444444444444444,
              "#bd3786"
             ],
             [
              0.5555555555555556,
              "#d8576b"
             ],
             [
              0.6666666666666666,
              "#ed7953"
             ],
             [
              0.7777777777777778,
              "#fb9f3a"
             ],
             [
              0.8888888888888888,
              "#fdca26"
             ],
             [
              1,
              "#f0f921"
             ]
            ],
            "type": "heatmapgl"
           }
          ],
          "histogram": [
           {
            "marker": {
             "pattern": {
              "fillmode": "overlay",
              "size": 10,
              "solidity": 0.2
             }
            },
            "type": "histogram"
           }
          ],
          "histogram2d": [
           {
            "colorbar": {
             "outlinewidth": 0,
             "ticks": ""
            },
            "colorscale": [
             [
              0,
              "#0d0887"
             ],
             [
              0.1111111111111111,
              "#46039f"
             ],
             [
              0.2222222222222222,
              "#7201a8"
             ],
             [
              0.3333333333333333,
              "#9c179e"
             ],
             [
              0.4444444444444444,
              "#bd3786"
             ],
             [
              0.5555555555555556,
              "#d8576b"
             ],
             [
              0.6666666666666666,
              "#ed7953"
             ],
             [
              0.7777777777777778,
              "#fb9f3a"
             ],
             [
              0.8888888888888888,
              "#fdca26"
             ],
             [
              1,
              "#f0f921"
             ]
            ],
            "type": "histogram2d"
           }
          ],
          "histogram2dcontour": [
           {
            "colorbar": {
             "outlinewidth": 0,
             "ticks": ""
            },
            "colorscale": [
             [
              0,
              "#0d0887"
             ],
             [
              0.1111111111111111,
              "#46039f"
             ],
             [
              0.2222222222222222,
              "#7201a8"
             ],
             [
              0.3333333333333333,
              "#9c179e"
             ],
             [
              0.4444444444444444,
              "#bd3786"
             ],
             [
              0.5555555555555556,
              "#d8576b"
             ],
             [
              0.6666666666666666,
              "#ed7953"
             ],
             [
              0.7777777777777778,
              "#fb9f3a"
             ],
             [
              0.8888888888888888,
              "#fdca26"
             ],
             [
              1,
              "#f0f921"
             ]
            ],
            "type": "histogram2dcontour"
           }
          ],
          "mesh3d": [
           {
            "colorbar": {
             "outlinewidth": 0,
             "ticks": ""
            },
            "type": "mesh3d"
           }
          ],
          "parcoords": [
           {
            "line": {
             "colorbar": {
              "outlinewidth": 0,
              "ticks": ""
             }
            },
            "type": "parcoords"
           }
          ],
          "pie": [
           {
            "automargin": true,
            "type": "pie"
           }
          ],
          "scatter": [
           {
            "fillpattern": {
             "fillmode": "overlay",
             "size": 10,
             "solidity": 0.2
            },
            "type": "scatter"
           }
          ],
          "scatter3d": [
           {
            "line": {
             "colorbar": {
              "outlinewidth": 0,
              "ticks": ""
             }
            },
            "marker": {
             "colorbar": {
              "outlinewidth": 0,
              "ticks": ""
             }
            },
            "type": "scatter3d"
           }
          ],
          "scattercarpet": [
           {
            "marker": {
             "colorbar": {
              "outlinewidth": 0,
              "ticks": ""
             }
            },
            "type": "scattercarpet"
           }
          ],
          "scattergeo": [
           {
            "marker": {
             "colorbar": {
              "outlinewidth": 0,
              "ticks": ""
             }
            },
            "type": "scattergeo"
           }
          ],
          "scattergl": [
           {
            "marker": {
             "colorbar": {
              "outlinewidth": 0,
              "ticks": ""
             }
            },
            "type": "scattergl"
           }
          ],
          "scattermapbox": [
           {
            "marker": {
             "colorbar": {
              "outlinewidth": 0,
              "ticks": ""
             }
            },
            "type": "scattermapbox"
           }
          ],
          "scatterpolar": [
           {
            "marker": {
             "colorbar": {
              "outlinewidth": 0,
              "ticks": ""
             }
            },
            "type": "scatterpolar"
           }
          ],
          "scatterpolargl": [
           {
            "marker": {
             "colorbar": {
              "outlinewidth": 0,
              "ticks": ""
             }
            },
            "type": "scatterpolargl"
           }
          ],
          "scatterternary": [
           {
            "marker": {
             "colorbar": {
              "outlinewidth": 0,
              "ticks": ""
             }
            },
            "type": "scatterternary"
           }
          ],
          "surface": [
           {
            "colorbar": {
             "outlinewidth": 0,
             "ticks": ""
            },
            "colorscale": [
             [
              0,
              "#0d0887"
             ],
             [
              0.1111111111111111,
              "#46039f"
             ],
             [
              0.2222222222222222,
              "#7201a8"
             ],
             [
              0.3333333333333333,
              "#9c179e"
             ],
             [
              0.4444444444444444,
              "#bd3786"
             ],
             [
              0.5555555555555556,
              "#d8576b"
             ],
             [
              0.6666666666666666,
              "#ed7953"
             ],
             [
              0.7777777777777778,
              "#fb9f3a"
             ],
             [
              0.8888888888888888,
              "#fdca26"
             ],
             [
              1,
              "#f0f921"
             ]
            ],
            "type": "surface"
           }
          ],
          "table": [
           {
            "cells": {
             "fill": {
              "color": "#EBF0F8"
             },
             "line": {
              "color": "white"
             }
            },
            "header": {
             "fill": {
              "color": "#C8D4E3"
             },
             "line": {
              "color": "white"
             }
            },
            "type": "table"
           }
          ]
         },
         "layout": {
          "annotationdefaults": {
           "arrowcolor": "#2a3f5f",
           "arrowhead": 0,
           "arrowwidth": 1
          },
          "autotypenumbers": "strict",
          "coloraxis": {
           "colorbar": {
            "outlinewidth": 0,
            "ticks": ""
           }
          },
          "colorscale": {
           "diverging": [
            [
             0,
             "#8e0152"
            ],
            [
             0.1,
             "#c51b7d"
            ],
            [
             0.2,
             "#de77ae"
            ],
            [
             0.3,
             "#f1b6da"
            ],
            [
             0.4,
             "#fde0ef"
            ],
            [
             0.5,
             "#f7f7f7"
            ],
            [
             0.6,
             "#e6f5d0"
            ],
            [
             0.7,
             "#b8e186"
            ],
            [
             0.8,
             "#7fbc41"
            ],
            [
             0.9,
             "#4d9221"
            ],
            [
             1,
             "#276419"
            ]
           ],
           "sequential": [
            [
             0,
             "#0d0887"
            ],
            [
             0.1111111111111111,
             "#46039f"
            ],
            [
             0.2222222222222222,
             "#7201a8"
            ],
            [
             0.3333333333333333,
             "#9c179e"
            ],
            [
             0.4444444444444444,
             "#bd3786"
            ],
            [
             0.5555555555555556,
             "#d8576b"
            ],
            [
             0.6666666666666666,
             "#ed7953"
            ],
            [
             0.7777777777777778,
             "#fb9f3a"
            ],
            [
             0.8888888888888888,
             "#fdca26"
            ],
            [
             1,
             "#f0f921"
            ]
           ],
           "sequentialminus": [
            [
             0,
             "#0d0887"
            ],
            [
             0.1111111111111111,
             "#46039f"
            ],
            [
             0.2222222222222222,
             "#7201a8"
            ],
            [
             0.3333333333333333,
             "#9c179e"
            ],
            [
             0.4444444444444444,
             "#bd3786"
            ],
            [
             0.5555555555555556,
             "#d8576b"
            ],
            [
             0.6666666666666666,
             "#ed7953"
            ],
            [
             0.7777777777777778,
             "#fb9f3a"
            ],
            [
             0.8888888888888888,
             "#fdca26"
            ],
            [
             1,
             "#f0f921"
            ]
           ]
          },
          "colorway": [
           "#636efa",
           "#EF553B",
           "#00cc96",
           "#ab63fa",
           "#FFA15A",
           "#19d3f3",
           "#FF6692",
           "#B6E880",
           "#FF97FF",
           "#FECB52"
          ],
          "font": {
           "color": "#2a3f5f"
          },
          "geo": {
           "bgcolor": "white",
           "lakecolor": "white",
           "landcolor": "#E5ECF6",
           "showlakes": true,
           "showland": true,
           "subunitcolor": "white"
          },
          "hoverlabel": {
           "align": "left"
          },
          "hovermode": "closest",
          "mapbox": {
           "style": "light"
          },
          "paper_bgcolor": "white",
          "plot_bgcolor": "#E5ECF6",
          "polar": {
           "angularaxis": {
            "gridcolor": "white",
            "linecolor": "white",
            "ticks": ""
           },
           "bgcolor": "#E5ECF6",
           "radialaxis": {
            "gridcolor": "white",
            "linecolor": "white",
            "ticks": ""
           }
          },
          "scene": {
           "xaxis": {
            "backgroundcolor": "#E5ECF6",
            "gridcolor": "white",
            "gridwidth": 2,
            "linecolor": "white",
            "showbackground": true,
            "ticks": "",
            "zerolinecolor": "white"
           },
           "yaxis": {
            "backgroundcolor": "#E5ECF6",
            "gridcolor": "white",
            "gridwidth": 2,
            "linecolor": "white",
            "showbackground": true,
            "ticks": "",
            "zerolinecolor": "white"
           },
           "zaxis": {
            "backgroundcolor": "#E5ECF6",
            "gridcolor": "white",
            "gridwidth": 2,
            "linecolor": "white",
            "showbackground": true,
            "ticks": "",
            "zerolinecolor": "white"
           }
          },
          "shapedefaults": {
           "line": {
            "color": "#2a3f5f"
           }
          },
          "ternary": {
           "aaxis": {
            "gridcolor": "white",
            "linecolor": "white",
            "ticks": ""
           },
           "baxis": {
            "gridcolor": "white",
            "linecolor": "white",
            "ticks": ""
           },
           "bgcolor": "#E5ECF6",
           "caxis": {
            "gridcolor": "white",
            "linecolor": "white",
            "ticks": ""
           }
          },
          "title": {
           "x": 0.05
          },
          "xaxis": {
           "automargin": true,
           "gridcolor": "white",
           "linecolor": "white",
           "ticks": "",
           "title": {
            "standoff": 15
           },
           "zerolinecolor": "white",
           "zerolinewidth": 2
          },
          "yaxis": {
           "automargin": true,
           "gridcolor": "white",
           "linecolor": "white",
           "ticks": "",
           "title": {
            "standoff": 15
           },
           "zerolinecolor": "white",
           "zerolinewidth": 2
          }
         }
        },
        "title": {
         "text": "Bottom 20 Countries of Survey Participants"
        }
       }
      }
     },
     "metadata": {},
     "output_type": "display_data"
    }
   ],
   "source": [
    "country_counts.columns = ['Country', 'Count']\n",
    "bottom_20 = country_counts.tail(20)\n",
    "\n",
    "fig = px.scatter_geo(bottom_20, locations=\"Country\", locationmode='country names', color=\"Count\",\n",
    "                     hover_name=\"Country\", size=\"Count\", projection=\"natural earth\",\n",
    "                     title='Bottom 20 Countries of Survey Participants', opacity=0.7,\n",
    "                     template=\"plotly\", size_max=50)\n",
    "fig.show()"
   ]
  },
  {
   "cell_type": "markdown",
   "metadata": {},
   "source": [
    "As I want to understand the survey distribution by regions as well, I have gathered the country to region data from the United Nations website.\n",
    "https://unstats.un.org/unsd/methodology/m49/overview/"
   ]
  },
  {
   "cell_type": "code",
   "execution_count": 267,
   "metadata": {},
   "outputs": [
    {
     "data": {
      "text/html": [
       "<div>\n",
       "<style scoped>\n",
       "    .dataframe tbody tr th:only-of-type {\n",
       "        vertical-align: middle;\n",
       "    }\n",
       "\n",
       "    .dataframe tbody tr th {\n",
       "        vertical-align: top;\n",
       "    }\n",
       "\n",
       "    .dataframe thead th {\n",
       "        text-align: right;\n",
       "    }\n",
       "</style>\n",
       "<table border=\"1\" class=\"dataframe\">\n",
       "  <thead>\n",
       "    <tr style=\"text-align: right;\">\n",
       "      <th></th>\n",
       "      <th>Global Code</th>\n",
       "      <th>Global Name</th>\n",
       "      <th>Region Code</th>\n",
       "      <th>Region Name</th>\n",
       "      <th>Sub-region Code</th>\n",
       "      <th>Sub-region Name</th>\n",
       "      <th>Intermediate Region Code</th>\n",
       "      <th>Intermediate Region Name</th>\n",
       "      <th>Country or Area</th>\n",
       "      <th>M49 Code</th>\n",
       "      <th>ISO-alpha2 Code</th>\n",
       "      <th>ISO-alpha3 Code</th>\n",
       "      <th>Least Developed Countries (LDC)</th>\n",
       "      <th>Land Locked Developing Countries (LLDC)</th>\n",
       "      <th>Small Island Developing States (SIDS)</th>\n",
       "    </tr>\n",
       "  </thead>\n",
       "  <tbody>\n",
       "    <tr>\n",
       "      <th>0</th>\n",
       "      <td>1</td>\n",
       "      <td>World</td>\n",
       "      <td>2.0</td>\n",
       "      <td>Africa</td>\n",
       "      <td>15.0</td>\n",
       "      <td>Northern Africa</td>\n",
       "      <td>NaN</td>\n",
       "      <td>NaN</td>\n",
       "      <td>Algeria</td>\n",
       "      <td>12</td>\n",
       "      <td>DZ</td>\n",
       "      <td>DZA</td>\n",
       "      <td>NaN</td>\n",
       "      <td>NaN</td>\n",
       "      <td>NaN</td>\n",
       "    </tr>\n",
       "    <tr>\n",
       "      <th>1</th>\n",
       "      <td>1</td>\n",
       "      <td>World</td>\n",
       "      <td>2.0</td>\n",
       "      <td>Africa</td>\n",
       "      <td>15.0</td>\n",
       "      <td>Northern Africa</td>\n",
       "      <td>NaN</td>\n",
       "      <td>NaN</td>\n",
       "      <td>Egypt</td>\n",
       "      <td>818</td>\n",
       "      <td>EG</td>\n",
       "      <td>EGY</td>\n",
       "      <td>NaN</td>\n",
       "      <td>NaN</td>\n",
       "      <td>NaN</td>\n",
       "    </tr>\n",
       "    <tr>\n",
       "      <th>2</th>\n",
       "      <td>1</td>\n",
       "      <td>World</td>\n",
       "      <td>2.0</td>\n",
       "      <td>Africa</td>\n",
       "      <td>15.0</td>\n",
       "      <td>Northern Africa</td>\n",
       "      <td>NaN</td>\n",
       "      <td>NaN</td>\n",
       "      <td>Libya</td>\n",
       "      <td>434</td>\n",
       "      <td>LY</td>\n",
       "      <td>LBY</td>\n",
       "      <td>NaN</td>\n",
       "      <td>NaN</td>\n",
       "      <td>NaN</td>\n",
       "    </tr>\n",
       "    <tr>\n",
       "      <th>3</th>\n",
       "      <td>1</td>\n",
       "      <td>World</td>\n",
       "      <td>2.0</td>\n",
       "      <td>Africa</td>\n",
       "      <td>15.0</td>\n",
       "      <td>Northern Africa</td>\n",
       "      <td>NaN</td>\n",
       "      <td>NaN</td>\n",
       "      <td>Morocco</td>\n",
       "      <td>504</td>\n",
       "      <td>MA</td>\n",
       "      <td>MAR</td>\n",
       "      <td>NaN</td>\n",
       "      <td>NaN</td>\n",
       "      <td>NaN</td>\n",
       "    </tr>\n",
       "    <tr>\n",
       "      <th>4</th>\n",
       "      <td>1</td>\n",
       "      <td>World</td>\n",
       "      <td>2.0</td>\n",
       "      <td>Africa</td>\n",
       "      <td>15.0</td>\n",
       "      <td>Northern Africa</td>\n",
       "      <td>NaN</td>\n",
       "      <td>NaN</td>\n",
       "      <td>Sudan</td>\n",
       "      <td>729</td>\n",
       "      <td>SD</td>\n",
       "      <td>SDN</td>\n",
       "      <td>x</td>\n",
       "      <td>NaN</td>\n",
       "      <td>NaN</td>\n",
       "    </tr>\n",
       "    <tr>\n",
       "      <th>...</th>\n",
       "      <td>...</td>\n",
       "      <td>...</td>\n",
       "      <td>...</td>\n",
       "      <td>...</td>\n",
       "      <td>...</td>\n",
       "      <td>...</td>\n",
       "      <td>...</td>\n",
       "      <td>...</td>\n",
       "      <td>...</td>\n",
       "      <td>...</td>\n",
       "      <td>...</td>\n",
       "      <td>...</td>\n",
       "      <td>...</td>\n",
       "      <td>...</td>\n",
       "      <td>...</td>\n",
       "    </tr>\n",
       "    <tr>\n",
       "      <th>243</th>\n",
       "      <td>1</td>\n",
       "      <td>World</td>\n",
       "      <td>9.0</td>\n",
       "      <td>Oceania</td>\n",
       "      <td>61.0</td>\n",
       "      <td>Polynesia</td>\n",
       "      <td>NaN</td>\n",
       "      <td>NaN</td>\n",
       "      <td>Samoa</td>\n",
       "      <td>882</td>\n",
       "      <td>WS</td>\n",
       "      <td>WSM</td>\n",
       "      <td>NaN</td>\n",
       "      <td>NaN</td>\n",
       "      <td>x</td>\n",
       "    </tr>\n",
       "    <tr>\n",
       "      <th>244</th>\n",
       "      <td>1</td>\n",
       "      <td>World</td>\n",
       "      <td>9.0</td>\n",
       "      <td>Oceania</td>\n",
       "      <td>61.0</td>\n",
       "      <td>Polynesia</td>\n",
       "      <td>NaN</td>\n",
       "      <td>NaN</td>\n",
       "      <td>Tokelau</td>\n",
       "      <td>772</td>\n",
       "      <td>TK</td>\n",
       "      <td>TKL</td>\n",
       "      <td>NaN</td>\n",
       "      <td>NaN</td>\n",
       "      <td>NaN</td>\n",
       "    </tr>\n",
       "    <tr>\n",
       "      <th>245</th>\n",
       "      <td>1</td>\n",
       "      <td>World</td>\n",
       "      <td>9.0</td>\n",
       "      <td>Oceania</td>\n",
       "      <td>61.0</td>\n",
       "      <td>Polynesia</td>\n",
       "      <td>NaN</td>\n",
       "      <td>NaN</td>\n",
       "      <td>Tonga</td>\n",
       "      <td>776</td>\n",
       "      <td>TO</td>\n",
       "      <td>TON</td>\n",
       "      <td>NaN</td>\n",
       "      <td>NaN</td>\n",
       "      <td>x</td>\n",
       "    </tr>\n",
       "    <tr>\n",
       "      <th>246</th>\n",
       "      <td>1</td>\n",
       "      <td>World</td>\n",
       "      <td>9.0</td>\n",
       "      <td>Oceania</td>\n",
       "      <td>61.0</td>\n",
       "      <td>Polynesia</td>\n",
       "      <td>NaN</td>\n",
       "      <td>NaN</td>\n",
       "      <td>Tuvalu</td>\n",
       "      <td>798</td>\n",
       "      <td>TV</td>\n",
       "      <td>TUV</td>\n",
       "      <td>x</td>\n",
       "      <td>NaN</td>\n",
       "      <td>x</td>\n",
       "    </tr>\n",
       "    <tr>\n",
       "      <th>247</th>\n",
       "      <td>1</td>\n",
       "      <td>World</td>\n",
       "      <td>9.0</td>\n",
       "      <td>Oceania</td>\n",
       "      <td>61.0</td>\n",
       "      <td>Polynesia</td>\n",
       "      <td>NaN</td>\n",
       "      <td>NaN</td>\n",
       "      <td>Wallis and Futuna Islands</td>\n",
       "      <td>876</td>\n",
       "      <td>WF</td>\n",
       "      <td>WLF</td>\n",
       "      <td>NaN</td>\n",
       "      <td>NaN</td>\n",
       "      <td>NaN</td>\n",
       "    </tr>\n",
       "  </tbody>\n",
       "</table>\n",
       "<p>248 rows × 15 columns</p>\n",
       "</div>"
      ],
      "text/plain": [
       "     Global Code Global Name  Region Code Region Name  Sub-region Code  \\\n",
       "0              1       World          2.0      Africa             15.0   \n",
       "1              1       World          2.0      Africa             15.0   \n",
       "2              1       World          2.0      Africa             15.0   \n",
       "3              1       World          2.0      Africa             15.0   \n",
       "4              1       World          2.0      Africa             15.0   \n",
       "..           ...         ...          ...         ...              ...   \n",
       "243            1       World          9.0     Oceania             61.0   \n",
       "244            1       World          9.0     Oceania             61.0   \n",
       "245            1       World          9.0     Oceania             61.0   \n",
       "246            1       World          9.0     Oceania             61.0   \n",
       "247            1       World          9.0     Oceania             61.0   \n",
       "\n",
       "     Sub-region Name  Intermediate Region Code Intermediate Region Name  \\\n",
       "0    Northern Africa                       NaN                      NaN   \n",
       "1    Northern Africa                       NaN                      NaN   \n",
       "2    Northern Africa                       NaN                      NaN   \n",
       "3    Northern Africa                       NaN                      NaN   \n",
       "4    Northern Africa                       NaN                      NaN   \n",
       "..               ...                       ...                      ...   \n",
       "243        Polynesia                       NaN                      NaN   \n",
       "244        Polynesia                       NaN                      NaN   \n",
       "245        Polynesia                       NaN                      NaN   \n",
       "246        Polynesia                       NaN                      NaN   \n",
       "247        Polynesia                       NaN                      NaN   \n",
       "\n",
       "               Country or Area  M49 Code ISO-alpha2 Code ISO-alpha3 Code  \\\n",
       "0                      Algeria        12              DZ             DZA   \n",
       "1                        Egypt       818              EG             EGY   \n",
       "2                        Libya       434              LY             LBY   \n",
       "3                      Morocco       504              MA             MAR   \n",
       "4                        Sudan       729              SD             SDN   \n",
       "..                         ...       ...             ...             ...   \n",
       "243                      Samoa       882              WS             WSM   \n",
       "244                    Tokelau       772              TK             TKL   \n",
       "245                      Tonga       776              TO             TON   \n",
       "246                     Tuvalu       798              TV             TUV   \n",
       "247  Wallis and Futuna Islands       876              WF             WLF   \n",
       "\n",
       "    Least Developed Countries (LDC) Land Locked Developing Countries (LLDC)  \\\n",
       "0                               NaN                                     NaN   \n",
       "1                               NaN                                     NaN   \n",
       "2                               NaN                                     NaN   \n",
       "3                               NaN                                     NaN   \n",
       "4                                 x                                     NaN   \n",
       "..                              ...                                     ...   \n",
       "243                             NaN                                     NaN   \n",
       "244                             NaN                                     NaN   \n",
       "245                             NaN                                     NaN   \n",
       "246                               x                                     NaN   \n",
       "247                             NaN                                     NaN   \n",
       "\n",
       "    Small Island Developing States (SIDS)  \n",
       "0                                     NaN  \n",
       "1                                     NaN  \n",
       "2                                     NaN  \n",
       "3                                     NaN  \n",
       "4                                     NaN  \n",
       "..                                    ...  \n",
       "243                                     x  \n",
       "244                                   NaN  \n",
       "245                                     x  \n",
       "246                                     x  \n",
       "247                                   NaN  \n",
       "\n",
       "[248 rows x 15 columns]"
      ]
     },
     "execution_count": 267,
     "metadata": {},
     "output_type": "execute_result"
    }
   ],
   "source": [
    "country_regions = pd.read_csv('../data/UNSD — Methodology.csv', sep=';')\n",
    "country_regions"
   ]
  },
  {
   "cell_type": "code",
   "execution_count": 268,
   "metadata": {},
   "outputs": [
    {
     "data": {
      "text/html": [
       "<div>\n",
       "<style scoped>\n",
       "    .dataframe tbody tr th:only-of-type {\n",
       "        vertical-align: middle;\n",
       "    }\n",
       "\n",
       "    .dataframe tbody tr th {\n",
       "        vertical-align: top;\n",
       "    }\n",
       "\n",
       "    .dataframe thead th {\n",
       "        text-align: right;\n",
       "    }\n",
       "</style>\n",
       "<table border=\"1\" class=\"dataframe\">\n",
       "  <thead>\n",
       "    <tr style=\"text-align: right;\">\n",
       "      <th></th>\n",
       "      <th>Region Name</th>\n",
       "      <th>Country</th>\n",
       "    </tr>\n",
       "  </thead>\n",
       "  <tbody>\n",
       "    <tr>\n",
       "      <th>0</th>\n",
       "      <td>Africa</td>\n",
       "      <td>Algeria</td>\n",
       "    </tr>\n",
       "    <tr>\n",
       "      <th>1</th>\n",
       "      <td>Africa</td>\n",
       "      <td>Egypt</td>\n",
       "    </tr>\n",
       "    <tr>\n",
       "      <th>2</th>\n",
       "      <td>Africa</td>\n",
       "      <td>Libya</td>\n",
       "    </tr>\n",
       "    <tr>\n",
       "      <th>3</th>\n",
       "      <td>Africa</td>\n",
       "      <td>Morocco</td>\n",
       "    </tr>\n",
       "    <tr>\n",
       "      <th>4</th>\n",
       "      <td>Africa</td>\n",
       "      <td>Sudan</td>\n",
       "    </tr>\n",
       "    <tr>\n",
       "      <th>...</th>\n",
       "      <td>...</td>\n",
       "      <td>...</td>\n",
       "    </tr>\n",
       "    <tr>\n",
       "      <th>243</th>\n",
       "      <td>Oceania</td>\n",
       "      <td>Samoa</td>\n",
       "    </tr>\n",
       "    <tr>\n",
       "      <th>244</th>\n",
       "      <td>Oceania</td>\n",
       "      <td>Tokelau</td>\n",
       "    </tr>\n",
       "    <tr>\n",
       "      <th>245</th>\n",
       "      <td>Oceania</td>\n",
       "      <td>Tonga</td>\n",
       "    </tr>\n",
       "    <tr>\n",
       "      <th>246</th>\n",
       "      <td>Oceania</td>\n",
       "      <td>Tuvalu</td>\n",
       "    </tr>\n",
       "    <tr>\n",
       "      <th>247</th>\n",
       "      <td>Oceania</td>\n",
       "      <td>Wallis and Futuna Islands</td>\n",
       "    </tr>\n",
       "  </tbody>\n",
       "</table>\n",
       "<p>248 rows × 2 columns</p>\n",
       "</div>"
      ],
      "text/plain": [
       "    Region Name                    Country\n",
       "0        Africa                    Algeria\n",
       "1        Africa                      Egypt\n",
       "2        Africa                      Libya\n",
       "3        Africa                    Morocco\n",
       "4        Africa                      Sudan\n",
       "..          ...                        ...\n",
       "243     Oceania                      Samoa\n",
       "244     Oceania                    Tokelau\n",
       "245     Oceania                      Tonga\n",
       "246     Oceania                     Tuvalu\n",
       "247     Oceania  Wallis and Futuna Islands\n",
       "\n",
       "[248 rows x 2 columns]"
      ]
     },
     "execution_count": 268,
     "metadata": {},
     "output_type": "execute_result"
    }
   ],
   "source": [
    "country_regions = country_regions[['Region Name', 'Country or Area']]\n",
    "country_regions = country_regions.rename({'Country or Area':'Country'},axis=1)\n",
    "country_regions"
   ]
  },
  {
   "cell_type": "code",
   "execution_count": 269,
   "metadata": {},
   "outputs": [
    {
     "data": {
      "text/html": [
       "<div>\n",
       "<style scoped>\n",
       "    .dataframe tbody tr th:only-of-type {\n",
       "        vertical-align: middle;\n",
       "    }\n",
       "\n",
       "    .dataframe tbody tr th {\n",
       "        vertical-align: top;\n",
       "    }\n",
       "\n",
       "    .dataframe thead th {\n",
       "        text-align: right;\n",
       "    }\n",
       "</style>\n",
       "<table border=\"1\" class=\"dataframe\">\n",
       "  <thead>\n",
       "    <tr style=\"text-align: right;\">\n",
       "      <th></th>\n",
       "      <th>Country</th>\n",
       "      <th>Count</th>\n",
       "      <th>Region Name</th>\n",
       "    </tr>\n",
       "  </thead>\n",
       "  <tbody>\n",
       "    <tr>\n",
       "      <th>0</th>\n",
       "      <td>India</td>\n",
       "      <td>25192</td>\n",
       "      <td>Asia</td>\n",
       "    </tr>\n",
       "    <tr>\n",
       "      <th>1</th>\n",
       "      <td>United States of America</td>\n",
       "      <td>12688</td>\n",
       "      <td>Americas</td>\n",
       "    </tr>\n",
       "    <tr>\n",
       "      <th>2</th>\n",
       "      <td>Other</td>\n",
       "      <td>5771</td>\n",
       "      <td>NaN</td>\n",
       "    </tr>\n",
       "    <tr>\n",
       "      <th>3</th>\n",
       "      <td>United States</td>\n",
       "      <td>4197</td>\n",
       "      <td>NaN</td>\n",
       "    </tr>\n",
       "    <tr>\n",
       "      <th>4</th>\n",
       "      <td>China</td>\n",
       "      <td>3506</td>\n",
       "      <td>Asia</td>\n",
       "    </tr>\n",
       "    <tr>\n",
       "      <th>...</th>\n",
       "      <td>...</td>\n",
       "      <td>...</td>\n",
       "      <td>...</td>\n",
       "    </tr>\n",
       "    <tr>\n",
       "      <th>72</th>\n",
       "      <td>Ecuador</td>\n",
       "      <td>50</td>\n",
       "      <td>Americas</td>\n",
       "    </tr>\n",
       "    <tr>\n",
       "      <th>73</th>\n",
       "      <td>Uganda</td>\n",
       "      <td>47</td>\n",
       "      <td>Africa</td>\n",
       "    </tr>\n",
       "    <tr>\n",
       "      <th>74</th>\n",
       "      <td>Kazakhstan</td>\n",
       "      <td>45</td>\n",
       "      <td>Asia</td>\n",
       "    </tr>\n",
       "    <tr>\n",
       "      <th>75</th>\n",
       "      <td>Iraq</td>\n",
       "      <td>43</td>\n",
       "      <td>Asia</td>\n",
       "    </tr>\n",
       "    <tr>\n",
       "      <th>76</th>\n",
       "      <td>Ethiopia</td>\n",
       "      <td>43</td>\n",
       "      <td>Africa</td>\n",
       "    </tr>\n",
       "  </tbody>\n",
       "</table>\n",
       "<p>77 rows × 3 columns</p>\n",
       "</div>"
      ],
      "text/plain": [
       "                     Country  Count Region Name\n",
       "0                      India  25192        Asia\n",
       "1   United States of America  12688    Americas\n",
       "2                      Other   5771         NaN\n",
       "3              United States   4197         NaN\n",
       "4                      China   3506        Asia\n",
       "..                       ...    ...         ...\n",
       "72                   Ecuador     50    Americas\n",
       "73                    Uganda     47      Africa\n",
       "74                Kazakhstan     45        Asia\n",
       "75                      Iraq     43        Asia\n",
       "76                  Ethiopia     43      Africa\n",
       "\n",
       "[77 rows x 3 columns]"
      ]
     },
     "execution_count": 269,
     "metadata": {},
     "output_type": "execute_result"
    }
   ],
   "source": [
    "country_counts = country_counts.merge(country_regions, on='Country', how='left')\n",
    "country_counts"
   ]
  },
  {
   "cell_type": "code",
   "execution_count": 270,
   "metadata": {},
   "outputs": [
    {
     "data": {
      "text/html": [
       "<div>\n",
       "<style scoped>\n",
       "    .dataframe tbody tr th:only-of-type {\n",
       "        vertical-align: middle;\n",
       "    }\n",
       "\n",
       "    .dataframe tbody tr th {\n",
       "        vertical-align: top;\n",
       "    }\n",
       "\n",
       "    .dataframe thead th {\n",
       "        text-align: right;\n",
       "    }\n",
       "</style>\n",
       "<table border=\"1\" class=\"dataframe\">\n",
       "  <thead>\n",
       "    <tr style=\"text-align: right;\">\n",
       "      <th></th>\n",
       "      <th>Country</th>\n",
       "      <th>Count</th>\n",
       "      <th>Region Name</th>\n",
       "    </tr>\n",
       "  </thead>\n",
       "  <tbody>\n",
       "    <tr>\n",
       "      <th>2</th>\n",
       "      <td>Other</td>\n",
       "      <td>5771</td>\n",
       "      <td>NaN</td>\n",
       "    </tr>\n",
       "    <tr>\n",
       "      <th>3</th>\n",
       "      <td>United States</td>\n",
       "      <td>4197</td>\n",
       "      <td>NaN</td>\n",
       "    </tr>\n",
       "    <tr>\n",
       "      <th>5</th>\n",
       "      <td>Russia</td>\n",
       "      <td>3407</td>\n",
       "      <td>NaN</td>\n",
       "    </tr>\n",
       "    <tr>\n",
       "      <th>14</th>\n",
       "      <td>Turkey</td>\n",
       "      <td>1519</td>\n",
       "      <td>NaN</td>\n",
       "    </tr>\n",
       "    <tr>\n",
       "      <th>19</th>\n",
       "      <td>Taiwan</td>\n",
       "      <td>1156</td>\n",
       "      <td>NaN</td>\n",
       "    </tr>\n",
       "    <tr>\n",
       "      <th>20</th>\n",
       "      <td>South Korea</td>\n",
       "      <td>1113</td>\n",
       "      <td>NaN</td>\n",
       "    </tr>\n",
       "    <tr>\n",
       "      <th>25</th>\n",
       "      <td>Netherlands</td>\n",
       "      <td>940</td>\n",
       "      <td>NaN</td>\n",
       "    </tr>\n",
       "    <tr>\n",
       "      <th>35</th>\n",
       "      <td>Iran, Islamic Republic of...</td>\n",
       "      <td>566</td>\n",
       "      <td>NaN</td>\n",
       "    </tr>\n",
       "    <tr>\n",
       "      <th>37</th>\n",
       "      <td>United Kingdom</td>\n",
       "      <td>535</td>\n",
       "      <td>NaN</td>\n",
       "    </tr>\n",
       "    <tr>\n",
       "      <th>41</th>\n",
       "      <td>People 's Republic of China</td>\n",
       "      <td>471</td>\n",
       "      <td>NaN</td>\n",
       "    </tr>\n",
       "    <tr>\n",
       "      <th>43</th>\n",
       "      <td>I do not wish to disclose my location</td>\n",
       "      <td>463</td>\n",
       "      <td>NaN</td>\n",
       "    </tr>\n",
       "    <tr>\n",
       "      <th>54</th>\n",
       "      <td>Czech Republic</td>\n",
       "      <td>246</td>\n",
       "      <td>NaN</td>\n",
       "    </tr>\n",
       "    <tr>\n",
       "      <th>57</th>\n",
       "      <td>Hong Kong (S.A.R.)</td>\n",
       "      <td>219</td>\n",
       "      <td>NaN</td>\n",
       "    </tr>\n",
       "    <tr>\n",
       "      <th>67</th>\n",
       "      <td>Iran</td>\n",
       "      <td>112</td>\n",
       "      <td>NaN</td>\n",
       "    </tr>\n",
       "    <tr>\n",
       "      <th>69</th>\n",
       "      <td>Vietnam</td>\n",
       "      <td>71</td>\n",
       "      <td>NaN</td>\n",
       "    </tr>\n",
       "    <tr>\n",
       "      <th>70</th>\n",
       "      <td>Republic of China</td>\n",
       "      <td>67</td>\n",
       "      <td>NaN</td>\n",
       "    </tr>\n",
       "    <tr>\n",
       "      <th>71</th>\n",
       "      <td>Hong Kong</td>\n",
       "      <td>65</td>\n",
       "      <td>NaN</td>\n",
       "    </tr>\n",
       "  </tbody>\n",
       "</table>\n",
       "</div>"
      ],
      "text/plain": [
       "                                  Country  Count Region Name\n",
       "2                                   Other   5771         NaN\n",
       "3                           United States   4197         NaN\n",
       "5                                  Russia   3407         NaN\n",
       "14                                 Turkey   1519         NaN\n",
       "19                                 Taiwan   1156         NaN\n",
       "20                            South Korea   1113         NaN\n",
       "25                            Netherlands    940         NaN\n",
       "35           Iran, Islamic Republic of...    566         NaN\n",
       "37                         United Kingdom    535         NaN\n",
       "41            People 's Republic of China    471         NaN\n",
       "43  I do not wish to disclose my location    463         NaN\n",
       "54                         Czech Republic    246         NaN\n",
       "57                     Hong Kong (S.A.R.)    219         NaN\n",
       "67                                   Iran    112         NaN\n",
       "69                                Vietnam     71         NaN\n",
       "70                      Republic of China     67         NaN\n",
       "71                              Hong Kong     65         NaN"
      ]
     },
     "execution_count": 270,
     "metadata": {},
     "output_type": "execute_result"
    }
   ],
   "source": [
    "country_counts[country_counts['Region Name'].isna() == True]"
   ]
  },
  {
   "cell_type": "markdown",
   "metadata": {},
   "source": [
    "After checking into the UN dataset of country name, they seem to have longer name compared to our list of countries. For example: 'Russia' in our dataset is saved as 'Russian Federation' in their dataset. We will try to fix this by string matching."
   ]
  },
  {
   "cell_type": "code",
   "execution_count": 271,
   "metadata": {},
   "outputs": [
    {
     "name": "stdout",
     "output_type": "stream",
     "text": [
      "Russia : 175    Europe\n",
      "Name: Region Name, dtype: object\n",
      "Turkey has no match\n",
      "\n",
      "Taiwan has no match\n",
      "\n",
      "South Korea has no match\n",
      "\n",
      "Netherlands : 217    Europe\n",
      "Name: Region Name, dtype: object\n",
      "Iran, Islamic Republic of... has no match\n",
      "\n",
      "United Kingdom : 193    Europe\n",
      "Name: Region Name, dtype: object\n",
      "People 's Republic of China has no match\n",
      "\n",
      "Czech Republic has no match\n",
      "\n",
      "Hong Kong (S.A.R.) has no match\n",
      "\n",
      "Iran : 145    Asia\n",
      "Name: Region Name, dtype: object\n",
      "Vietnam has no match\n",
      "\n",
      "Republic of China has no match\n",
      "\n",
      "Hong Kong : 124    Asia\n",
      "Name: Region Name, dtype: object\n"
     ]
    },
    {
     "name": "stderr",
     "output_type": "stream",
     "text": [
      "/var/folders/4g/xtsxvwrx4_jgyxsbx71ynnzh0000gn/T/ipykernel_2048/1146718691.py:3: UserWarning:\n",
      "\n",
      "This pattern is interpreted as a regular expression, and has match groups. To actually get the groups, use str.extract.\n",
      "\n"
     ]
    }
   ],
   "source": [
    "for idx, row in country_counts[country_counts['Region Name'].isna() == True].iterrows():\n",
    "    if row['Country'] not in ['Other', 'I do not wish to disclose my location']:\n",
    "        possible_match = country_regions[country_regions['Country'].str.contains(row['Country'], case=False)]\n",
    "        if possible_match.shape[0] == 1:\n",
    "            print(f\"{row['Country']} : {possible_match['Region Name']}\")\n",
    "            country_counts.at[idx, 'Region Name'] = possible_match['Region Name'].item()\n",
    "        elif possible_match.shape[0] == 0:\n",
    "            print(f\"{row['Country']} has no match\")\n",
    "            print('')"
   ]
  },
  {
   "cell_type": "markdown",
   "metadata": {},
   "source": [
    "Not all of them as fixed. We will have to manually assign them for now."
   ]
  },
  {
   "cell_type": "code",
   "execution_count": 272,
   "metadata": {},
   "outputs": [
    {
     "data": {
      "text/html": [
       "<div>\n",
       "<style scoped>\n",
       "    .dataframe tbody tr th:only-of-type {\n",
       "        vertical-align: middle;\n",
       "    }\n",
       "\n",
       "    .dataframe tbody tr th {\n",
       "        vertical-align: top;\n",
       "    }\n",
       "\n",
       "    .dataframe thead th {\n",
       "        text-align: right;\n",
       "    }\n",
       "</style>\n",
       "<table border=\"1\" class=\"dataframe\">\n",
       "  <thead>\n",
       "    <tr style=\"text-align: right;\">\n",
       "      <th></th>\n",
       "      <th>Country</th>\n",
       "      <th>Count</th>\n",
       "      <th>Region Name</th>\n",
       "    </tr>\n",
       "  </thead>\n",
       "  <tbody>\n",
       "    <tr>\n",
       "      <th>2</th>\n",
       "      <td>Other</td>\n",
       "      <td>5771</td>\n",
       "      <td>NaN</td>\n",
       "    </tr>\n",
       "    <tr>\n",
       "      <th>3</th>\n",
       "      <td>United States</td>\n",
       "      <td>4197</td>\n",
       "      <td>NaN</td>\n",
       "    </tr>\n",
       "    <tr>\n",
       "      <th>14</th>\n",
       "      <td>Turkey</td>\n",
       "      <td>1519</td>\n",
       "      <td>NaN</td>\n",
       "    </tr>\n",
       "    <tr>\n",
       "      <th>19</th>\n",
       "      <td>Taiwan</td>\n",
       "      <td>1156</td>\n",
       "      <td>NaN</td>\n",
       "    </tr>\n",
       "    <tr>\n",
       "      <th>20</th>\n",
       "      <td>South Korea</td>\n",
       "      <td>1113</td>\n",
       "      <td>NaN</td>\n",
       "    </tr>\n",
       "    <tr>\n",
       "      <th>35</th>\n",
       "      <td>Iran, Islamic Republic of...</td>\n",
       "      <td>566</td>\n",
       "      <td>NaN</td>\n",
       "    </tr>\n",
       "    <tr>\n",
       "      <th>41</th>\n",
       "      <td>People 's Republic of China</td>\n",
       "      <td>471</td>\n",
       "      <td>NaN</td>\n",
       "    </tr>\n",
       "    <tr>\n",
       "      <th>43</th>\n",
       "      <td>I do not wish to disclose my location</td>\n",
       "      <td>463</td>\n",
       "      <td>NaN</td>\n",
       "    </tr>\n",
       "    <tr>\n",
       "      <th>54</th>\n",
       "      <td>Czech Republic</td>\n",
       "      <td>246</td>\n",
       "      <td>NaN</td>\n",
       "    </tr>\n",
       "    <tr>\n",
       "      <th>57</th>\n",
       "      <td>Hong Kong (S.A.R.)</td>\n",
       "      <td>219</td>\n",
       "      <td>NaN</td>\n",
       "    </tr>\n",
       "    <tr>\n",
       "      <th>69</th>\n",
       "      <td>Vietnam</td>\n",
       "      <td>71</td>\n",
       "      <td>NaN</td>\n",
       "    </tr>\n",
       "    <tr>\n",
       "      <th>70</th>\n",
       "      <td>Republic of China</td>\n",
       "      <td>67</td>\n",
       "      <td>NaN</td>\n",
       "    </tr>\n",
       "  </tbody>\n",
       "</table>\n",
       "</div>"
      ],
      "text/plain": [
       "                                  Country  Count Region Name\n",
       "2                                   Other   5771         NaN\n",
       "3                           United States   4197         NaN\n",
       "14                                 Turkey   1519         NaN\n",
       "19                                 Taiwan   1156         NaN\n",
       "20                            South Korea   1113         NaN\n",
       "35           Iran, Islamic Republic of...    566         NaN\n",
       "41            People 's Republic of China    471         NaN\n",
       "43  I do not wish to disclose my location    463         NaN\n",
       "54                         Czech Republic    246         NaN\n",
       "57                     Hong Kong (S.A.R.)    219         NaN\n",
       "69                                Vietnam     71         NaN\n",
       "70                      Republic of China     67         NaN"
      ]
     },
     "execution_count": 272,
     "metadata": {},
     "output_type": "execute_result"
    }
   ],
   "source": [
    "country_counts[country_counts['Region Name'].isna() == True]"
   ]
  },
  {
   "cell_type": "code",
   "execution_count": 273,
   "metadata": {},
   "outputs": [],
   "source": [
    "country_counts.loc[country_counts['Country'] =='Other', 'Region Name'] = 'Other'\n",
    "country_counts.loc[country_counts['Country'] == 'United States', 'Region Name'] = 'Americas'\n",
    "country_counts.loc[country_counts['Country'] =='Turkey', 'Region Name'] = 'Asia'\n",
    "country_counts.loc[country_counts['Country'] =='Taiwan', 'Region Name'] = 'Asia'\n",
    "country_counts.loc[country_counts['Country'] == 'South Korea', 'Region Name'] = 'Asia'\n",
    "country_counts.at[35, 'Region Name'] = 'Asia' # Iran, Islamic Republic of\n",
    "country_counts.loc[country_counts['Country'] ==\"People 's Republic of China\", 'Region Name'] = 'Asia'\n",
    "country_counts.loc[country_counts['Country'] =='I do not wish to disclose my location', 'Region Name'] = 'Other'\n",
    "country_counts.loc[country_counts['Country'] =='Czech Republic', 'Region Name'] = 'Europe'\n",
    "country_counts.loc[country_counts['Country'] =='Hong Kong (S.A.R.)', 'Region Name'] = 'Asia'\n",
    "country_counts.loc[country_counts['Country'] =='Vietnam', 'Region Name'] = 'Asia'\n",
    "country_counts.loc[country_counts['Country'] =='Republic of China', 'Region Name'] = 'Asia'"
   ]
  },
  {
   "cell_type": "code",
   "execution_count": 274,
   "metadata": {},
   "outputs": [
    {
     "data": {
      "text/plain": [
       "Country  Count  Region Name\n",
       "False    False  False          77\n",
       "dtype: int64"
      ]
     },
     "execution_count": 274,
     "metadata": {},
     "output_type": "execute_result"
    }
   ],
   "source": [
    "country_counts.isna().value_counts()"
   ]
  },
  {
   "cell_type": "markdown",
   "metadata": {},
   "source": [
    "Now that all regions have been filled up, we will check on distribution by regions."
   ]
  },
  {
   "cell_type": "code",
   "execution_count": 275,
   "metadata": {},
   "outputs": [
    {
     "data": {
      "text/html": [
       "<div>\n",
       "<style scoped>\n",
       "    .dataframe tbody tr th:only-of-type {\n",
       "        vertical-align: middle;\n",
       "    }\n",
       "\n",
       "    .dataframe tbody tr th {\n",
       "        vertical-align: top;\n",
       "    }\n",
       "\n",
       "    .dataframe thead th {\n",
       "        text-align: right;\n",
       "    }\n",
       "</style>\n",
       "<table border=\"1\" class=\"dataframe\">\n",
       "  <thead>\n",
       "    <tr style=\"text-align: right;\">\n",
       "      <th></th>\n",
       "      <th>Country</th>\n",
       "      <th>Count</th>\n",
       "      <th>Region Name</th>\n",
       "    </tr>\n",
       "  </thead>\n",
       "  <tbody>\n",
       "    <tr>\n",
       "      <th>0</th>\n",
       "      <td>India</td>\n",
       "      <td>25192</td>\n",
       "      <td>Asia</td>\n",
       "    </tr>\n",
       "    <tr>\n",
       "      <th>1</th>\n",
       "      <td>United States of America</td>\n",
       "      <td>12688</td>\n",
       "      <td>Americas</td>\n",
       "    </tr>\n",
       "    <tr>\n",
       "      <th>2</th>\n",
       "      <td>Other</td>\n",
       "      <td>5771</td>\n",
       "      <td>Other</td>\n",
       "    </tr>\n",
       "    <tr>\n",
       "      <th>3</th>\n",
       "      <td>United States</td>\n",
       "      <td>4197</td>\n",
       "      <td>Americas</td>\n",
       "    </tr>\n",
       "    <tr>\n",
       "      <th>4</th>\n",
       "      <td>China</td>\n",
       "      <td>3506</td>\n",
       "      <td>Asia</td>\n",
       "    </tr>\n",
       "    <tr>\n",
       "      <th>...</th>\n",
       "      <td>...</td>\n",
       "      <td>...</td>\n",
       "      <td>...</td>\n",
       "    </tr>\n",
       "    <tr>\n",
       "      <th>72</th>\n",
       "      <td>Ecuador</td>\n",
       "      <td>50</td>\n",
       "      <td>Americas</td>\n",
       "    </tr>\n",
       "    <tr>\n",
       "      <th>73</th>\n",
       "      <td>Uganda</td>\n",
       "      <td>47</td>\n",
       "      <td>Africa</td>\n",
       "    </tr>\n",
       "    <tr>\n",
       "      <th>74</th>\n",
       "      <td>Kazakhstan</td>\n",
       "      <td>45</td>\n",
       "      <td>Asia</td>\n",
       "    </tr>\n",
       "    <tr>\n",
       "      <th>75</th>\n",
       "      <td>Iraq</td>\n",
       "      <td>43</td>\n",
       "      <td>Asia</td>\n",
       "    </tr>\n",
       "    <tr>\n",
       "      <th>76</th>\n",
       "      <td>Ethiopia</td>\n",
       "      <td>43</td>\n",
       "      <td>Africa</td>\n",
       "    </tr>\n",
       "  </tbody>\n",
       "</table>\n",
       "<p>77 rows × 3 columns</p>\n",
       "</div>"
      ],
      "text/plain": [
       "                     Country  Count Region Name\n",
       "0                      India  25192        Asia\n",
       "1   United States of America  12688    Americas\n",
       "2                      Other   5771       Other\n",
       "3              United States   4197    Americas\n",
       "4                      China   3506        Asia\n",
       "..                       ...    ...         ...\n",
       "72                   Ecuador     50    Americas\n",
       "73                    Uganda     47      Africa\n",
       "74                Kazakhstan     45        Asia\n",
       "75                      Iraq     43        Asia\n",
       "76                  Ethiopia     43      Africa\n",
       "\n",
       "[77 rows x 3 columns]"
      ]
     },
     "execution_count": 275,
     "metadata": {},
     "output_type": "execute_result"
    }
   ],
   "source": [
    "country_counts"
   ]
  },
  {
   "cell_type": "code",
   "execution_count": 365,
   "metadata": {},
   "outputs": [
    {
     "data": {
      "image/png": "[encoded data removed]",
      "text/plain": [
       "<Figure size 1000x600 with 1 Axes>"
      ]
     },
     "metadata": {},
     "output_type": "display_data"
    }
   ],
   "source": [
    "# Group by region and sum the counts\n",
    "region_counts = country_counts.groupby('Region Name')['Count'].sum().reset_index()\n",
    "\n",
    "# Plotting a bar chart\n",
    "plt.figure(figsize=(10, 6))\n",
    "plt.bar(region_counts['Region Name'], region_counts['Count'], color='skyblue')\n",
    "plt.title('Distribution of Regions')\n",
    "plt.xlabel('Region')\n",
    "plt.ylabel('Count')\n",
    "plt.xticks(rotation=45)\n",
    "plt.grid(axis='y', linestyle='--', alpha=0.5)\n",
    "plt.tight_layout()\n",
    "plt.show()"
   ]
  },
  {
   "cell_type": "markdown",
   "metadata": {},
   "source": [
    "Asia, America and Europe has the top 3 highest overall responses."
   ]
  },
  {
   "cell_type": "markdown",
   "metadata": {},
   "source": [
    "#### 2. Year (-)"
   ]
  },
  {
   "cell_type": "code",
   "execution_count": 277,
   "metadata": {},
   "outputs": [
    {
     "data": {
      "text/html": [
       "<div>\n",
       "<style scoped>\n",
       "    .dataframe tbody tr th:only-of-type {\n",
       "        vertical-align: middle;\n",
       "    }\n",
       "\n",
       "    .dataframe tbody tr th {\n",
       "        vertical-align: top;\n",
       "    }\n",
       "\n",
       "    .dataframe thead th {\n",
       "        text-align: right;\n",
       "    }\n",
       "</style>\n",
       "<table border=\"1\" class=\"dataframe\">\n",
       "  <thead>\n",
       "    <tr style=\"text-align: right;\">\n",
       "      <th></th>\n",
       "      <th>(-, Year)</th>\n",
       "      <th>0</th>\n",
       "    </tr>\n",
       "  </thead>\n",
       "  <tbody>\n",
       "    <tr>\n",
       "      <th>0</th>\n",
       "      <td>2021</td>\n",
       "      <td>25973</td>\n",
       "    </tr>\n",
       "    <tr>\n",
       "      <th>1</th>\n",
       "      <td>2018</td>\n",
       "      <td>23859</td>\n",
       "    </tr>\n",
       "    <tr>\n",
       "      <th>2</th>\n",
       "      <td>2020</td>\n",
       "      <td>20036</td>\n",
       "    </tr>\n",
       "    <tr>\n",
       "      <th>3</th>\n",
       "      <td>2019</td>\n",
       "      <td>19717</td>\n",
       "    </tr>\n",
       "    <tr>\n",
       "      <th>4</th>\n",
       "      <td>2017</td>\n",
       "      <td>16716</td>\n",
       "    </tr>\n",
       "  </tbody>\n",
       "</table>\n",
       "</div>"
      ],
      "text/plain": [
       "   (-, Year)      0\n",
       "0       2021  25973\n",
       "1       2018  23859\n",
       "2       2020  20036\n",
       "3       2019  19717\n",
       "4       2017  16716"
      ]
     },
     "execution_count": 277,
     "metadata": {},
     "output_type": "execute_result"
    }
   ],
   "source": [
    "df[question_to_response_and_topic['-']['columns']].value_counts().reset_index()"
   ]
  },
  {
   "cell_type": "code",
   "execution_count": 278,
   "metadata": {},
   "outputs": [
    {
     "data": {
      "text/html": [
       "<div>\n",
       "<style scoped>\n",
       "    .dataframe tbody tr th:only-of-type {\n",
       "        vertical-align: middle;\n",
       "    }\n",
       "\n",
       "    .dataframe tbody tr th {\n",
       "        vertical-align: top;\n",
       "    }\n",
       "\n",
       "    .dataframe thead th {\n",
       "        text-align: right;\n",
       "    }\n",
       "</style>\n",
       "<table border=\"1\" class=\"dataframe\">\n",
       "  <thead>\n",
       "    <tr style=\"text-align: right;\">\n",
       "      <th></th>\n",
       "      <th>(-, Year)</th>\n",
       "      <th>0</th>\n",
       "    </tr>\n",
       "  </thead>\n",
       "  <tbody>\n",
       "    <tr>\n",
       "      <th>count</th>\n",
       "      <td>5.000000</td>\n",
       "      <td>5.000000</td>\n",
       "    </tr>\n",
       "    <tr>\n",
       "      <th>mean</th>\n",
       "      <td>2019.000000</td>\n",
       "      <td>21260.200000</td>\n",
       "    </tr>\n",
       "    <tr>\n",
       "      <th>std</th>\n",
       "      <td>1.581139</td>\n",
       "      <td>3656.984099</td>\n",
       "    </tr>\n",
       "    <tr>\n",
       "      <th>min</th>\n",
       "      <td>2017.000000</td>\n",
       "      <td>16716.000000</td>\n",
       "    </tr>\n",
       "    <tr>\n",
       "      <th>25%</th>\n",
       "      <td>2018.000000</td>\n",
       "      <td>19717.000000</td>\n",
       "    </tr>\n",
       "    <tr>\n",
       "      <th>50%</th>\n",
       "      <td>2019.000000</td>\n",
       "      <td>20036.000000</td>\n",
       "    </tr>\n",
       "    <tr>\n",
       "      <th>75%</th>\n",
       "      <td>2020.000000</td>\n",
       "      <td>23859.000000</td>\n",
       "    </tr>\n",
       "    <tr>\n",
       "      <th>max</th>\n",
       "      <td>2021.000000</td>\n",
       "      <td>25973.000000</td>\n",
       "    </tr>\n",
       "  </tbody>\n",
       "</table>\n",
       "</div>"
      ],
      "text/plain": [
       "         (-, Year)             0\n",
       "count     5.000000      5.000000\n",
       "mean   2019.000000  21260.200000\n",
       "std       1.581139   3656.984099\n",
       "min    2017.000000  16716.000000\n",
       "25%    2018.000000  19717.000000\n",
       "50%    2019.000000  20036.000000\n",
       "75%    2020.000000  23859.000000\n",
       "max    2021.000000  25973.000000"
      ]
     },
     "execution_count": 278,
     "metadata": {},
     "output_type": "execute_result"
    }
   ],
   "source": [
    "df[question_to_response_and_topic['-']['columns']].value_counts().reset_index().describe()"
   ]
  },
  {
   "cell_type": "markdown",
   "metadata": {},
   "source": [
    "Responses are fron year 2017 to 2021 with an average of 21260 responses per year."
   ]
  },
  {
   "cell_type": "markdown",
   "metadata": {},
   "source": [
    "### 3. Demographic"
   ]
  },
  {
   "cell_type": "markdown",
   "metadata": {},
   "source": [
    "##### 3.1 Age (Q1)"
   ]
  },
  {
   "cell_type": "code",
   "execution_count": 383,
   "metadata": {},
   "outputs": [
    {
     "data": {
      "text/html": [
       "<div>\n",
       "<style scoped>\n",
       "    .dataframe tbody tr th:only-of-type {\n",
       "        vertical-align: middle;\n",
       "    }\n",
       "\n",
       "    .dataframe tbody tr th {\n",
       "        vertical-align: top;\n",
       "    }\n",
       "\n",
       "    .dataframe thead th {\n",
       "        text-align: right;\n",
       "    }\n",
       "</style>\n",
       "<table border=\"1\" class=\"dataframe\">\n",
       "  <thead>\n",
       "    <tr style=\"text-align: right;\">\n",
       "      <th></th>\n",
       "      <th>Age Group</th>\n",
       "      <th>Count</th>\n",
       "    </tr>\n",
       "  </thead>\n",
       "  <tbody>\n",
       "    <tr>\n",
       "      <th>0</th>\n",
       "      <td>25-29</td>\n",
       "      <td>23748</td>\n",
       "    </tr>\n",
       "    <tr>\n",
       "      <th>1</th>\n",
       "      <td>22-24</td>\n",
       "      <td>19662</td>\n",
       "    </tr>\n",
       "    <tr>\n",
       "      <th>2</th>\n",
       "      <td>30-34</td>\n",
       "      <td>16144</td>\n",
       "    </tr>\n",
       "    <tr>\n",
       "      <th>3</th>\n",
       "      <td>18-21</td>\n",
       "      <td>15159</td>\n",
       "    </tr>\n",
       "    <tr>\n",
       "      <th>4</th>\n",
       "      <td>35-39</td>\n",
       "      <td>10868</td>\n",
       "    </tr>\n",
       "    <tr>\n",
       "      <th>5</th>\n",
       "      <td>40-44</td>\n",
       "      <td>7327</td>\n",
       "    </tr>\n",
       "    <tr>\n",
       "      <th>6</th>\n",
       "      <td>45-49</td>\n",
       "      <td>4996</td>\n",
       "    </tr>\n",
       "    <tr>\n",
       "      <th>7</th>\n",
       "      <td>50-54</td>\n",
       "      <td>3514</td>\n",
       "    </tr>\n",
       "    <tr>\n",
       "      <th>8</th>\n",
       "      <td>55-59</td>\n",
       "      <td>2112</td>\n",
       "    </tr>\n",
       "    <tr>\n",
       "      <th>9</th>\n",
       "      <td>60-69</td>\n",
       "      <td>1851</td>\n",
       "    </tr>\n",
       "    <tr>\n",
       "      <th>10</th>\n",
       "      <td>70+</td>\n",
       "      <td>475</td>\n",
       "    </tr>\n",
       "  </tbody>\n",
       "</table>\n",
       "</div>"
      ],
      "text/plain": [
       "   Age Group  Count\n",
       "0      25-29  23748\n",
       "1      22-24  19662\n",
       "2      30-34  16144\n",
       "3      18-21  15159\n",
       "4      35-39  10868\n",
       "5      40-44   7327\n",
       "6      45-49   4996\n",
       "7      50-54   3514\n",
       "8      55-59   2112\n",
       "9      60-69   1851\n",
       "10       70+    475"
      ]
     },
     "execution_count": 383,
     "metadata": {},
     "output_type": "execute_result"
    }
   ],
   "source": [
    "age_counts = filter_column_data_with_question_num(1).value_counts().reset_index()\n",
    "age_counts.columns = ['Age Group', 'Count']\n",
    "age_counts"
   ]
  },
  {
   "cell_type": "code",
   "execution_count": 384,
   "metadata": {},
   "outputs": [
    {
     "data": {
      "text/html": [
       "<div>\n",
       "<style scoped>\n",
       "    .dataframe tbody tr th:only-of-type {\n",
       "        vertical-align: middle;\n",
       "    }\n",
       "\n",
       "    .dataframe tbody tr th {\n",
       "        vertical-align: top;\n",
       "    }\n",
       "\n",
       "    .dataframe thead th {\n",
       "        text-align: right;\n",
       "    }\n",
       "</style>\n",
       "<table border=\"1\" class=\"dataframe\">\n",
       "  <thead>\n",
       "    <tr style=\"text-align: right;\">\n",
       "      <th></th>\n",
       "      <th>Age Group</th>\n",
       "      <th>Count</th>\n",
       "      <th>Age Order</th>\n",
       "    </tr>\n",
       "  </thead>\n",
       "  <tbody>\n",
       "    <tr>\n",
       "      <th>0</th>\n",
       "      <td>25-29</td>\n",
       "      <td>23748</td>\n",
       "      <td>3</td>\n",
       "    </tr>\n",
       "    <tr>\n",
       "      <th>1</th>\n",
       "      <td>22-24</td>\n",
       "      <td>19662</td>\n",
       "      <td>2</td>\n",
       "    </tr>\n",
       "    <tr>\n",
       "      <th>2</th>\n",
       "      <td>30-34</td>\n",
       "      <td>16144</td>\n",
       "      <td>4</td>\n",
       "    </tr>\n",
       "    <tr>\n",
       "      <th>3</th>\n",
       "      <td>18-21</td>\n",
       "      <td>15159</td>\n",
       "      <td>1</td>\n",
       "    </tr>\n",
       "    <tr>\n",
       "      <th>4</th>\n",
       "      <td>35-39</td>\n",
       "      <td>10868</td>\n",
       "      <td>5</td>\n",
       "    </tr>\n",
       "    <tr>\n",
       "      <th>5</th>\n",
       "      <td>40-44</td>\n",
       "      <td>7327</td>\n",
       "      <td>6</td>\n",
       "    </tr>\n",
       "    <tr>\n",
       "      <th>6</th>\n",
       "      <td>45-49</td>\n",
       "      <td>4996</td>\n",
       "      <td>7</td>\n",
       "    </tr>\n",
       "    <tr>\n",
       "      <th>7</th>\n",
       "      <td>50-54</td>\n",
       "      <td>3514</td>\n",
       "      <td>8</td>\n",
       "    </tr>\n",
       "    <tr>\n",
       "      <th>8</th>\n",
       "      <td>55-59</td>\n",
       "      <td>2112</td>\n",
       "      <td>9</td>\n",
       "    </tr>\n",
       "    <tr>\n",
       "      <th>9</th>\n",
       "      <td>60-69</td>\n",
       "      <td>1851</td>\n",
       "      <td>10</td>\n",
       "    </tr>\n",
       "    <tr>\n",
       "      <th>10</th>\n",
       "      <td>70+</td>\n",
       "      <td>475</td>\n",
       "      <td>11</td>\n",
       "    </tr>\n",
       "  </tbody>\n",
       "</table>\n",
       "</div>"
      ],
      "text/plain": [
       "   Age Group  Count  Age Order\n",
       "0      25-29  23748          3\n",
       "1      22-24  19662          2\n",
       "2      30-34  16144          4\n",
       "3      18-21  15159          1\n",
       "4      35-39  10868          5\n",
       "5      40-44   7327          6\n",
       "6      45-49   4996          7\n",
       "7      50-54   3514          8\n",
       "8      55-59   2112          9\n",
       "9      60-69   1851         10\n",
       "10       70+    475         11"
      ]
     },
     "execution_count": 384,
     "metadata": {},
     "output_type": "execute_result"
    }
   ],
   "source": [
    "# sort from youngest to oldest\n",
    "age_mapping = {\n",
    "    '18-21': 1,\n",
    "    '22-24': 2,\n",
    "    '25-29': 3,\n",
    "    '30-34': 4,\n",
    "    '35-39': 5,\n",
    "    '40-44': 6,\n",
    "    '45-49': 7,\n",
    "    '50-54': 8,\n",
    "    '55-59': 9,\n",
    "    '60-69': 10,\n",
    "    '70+': 11\n",
    "}\n",
    "# Convert age groups to numerical values\n",
    "age_counts['Age Order'] = age_counts['Age Group'].map(age_mapping)\n",
    "age_counts"
   ]
  },
  {
   "cell_type": "code",
   "execution_count": 385,
   "metadata": {},
   "outputs": [
    {
     "data": {
      "text/html": [
       "<div>\n",
       "<style scoped>\n",
       "    .dataframe tbody tr th:only-of-type {\n",
       "        vertical-align: middle;\n",
       "    }\n",
       "\n",
       "    .dataframe tbody tr th {\n",
       "        vertical-align: top;\n",
       "    }\n",
       "\n",
       "    .dataframe thead th {\n",
       "        text-align: right;\n",
       "    }\n",
       "</style>\n",
       "<table border=\"1\" class=\"dataframe\">\n",
       "  <thead>\n",
       "    <tr style=\"text-align: right;\">\n",
       "      <th></th>\n",
       "      <th>Age Group</th>\n",
       "      <th>Count</th>\n",
       "      <th>Age Order</th>\n",
       "    </tr>\n",
       "  </thead>\n",
       "  <tbody>\n",
       "    <tr>\n",
       "      <th>3</th>\n",
       "      <td>18-21</td>\n",
       "      <td>15159</td>\n",
       "      <td>1</td>\n",
       "    </tr>\n",
       "    <tr>\n",
       "      <th>1</th>\n",
       "      <td>22-24</td>\n",
       "      <td>19662</td>\n",
       "      <td>2</td>\n",
       "    </tr>\n",
       "    <tr>\n",
       "      <th>0</th>\n",
       "      <td>25-29</td>\n",
       "      <td>23748</td>\n",
       "      <td>3</td>\n",
       "    </tr>\n",
       "    <tr>\n",
       "      <th>2</th>\n",
       "      <td>30-34</td>\n",
       "      <td>16144</td>\n",
       "      <td>4</td>\n",
       "    </tr>\n",
       "    <tr>\n",
       "      <th>4</th>\n",
       "      <td>35-39</td>\n",
       "      <td>10868</td>\n",
       "      <td>5</td>\n",
       "    </tr>\n",
       "    <tr>\n",
       "      <th>5</th>\n",
       "      <td>40-44</td>\n",
       "      <td>7327</td>\n",
       "      <td>6</td>\n",
       "    </tr>\n",
       "    <tr>\n",
       "      <th>6</th>\n",
       "      <td>45-49</td>\n",
       "      <td>4996</td>\n",
       "      <td>7</td>\n",
       "    </tr>\n",
       "    <tr>\n",
       "      <th>7</th>\n",
       "      <td>50-54</td>\n",
       "      <td>3514</td>\n",
       "      <td>8</td>\n",
       "    </tr>\n",
       "    <tr>\n",
       "      <th>8</th>\n",
       "      <td>55-59</td>\n",
       "      <td>2112</td>\n",
       "      <td>9</td>\n",
       "    </tr>\n",
       "    <tr>\n",
       "      <th>9</th>\n",
       "      <td>60-69</td>\n",
       "      <td>1851</td>\n",
       "      <td>10</td>\n",
       "    </tr>\n",
       "    <tr>\n",
       "      <th>10</th>\n",
       "      <td>70+</td>\n",
       "      <td>475</td>\n",
       "      <td>11</td>\n",
       "    </tr>\n",
       "  </tbody>\n",
       "</table>\n",
       "</div>"
      ],
      "text/plain": [
       "   Age Group  Count  Age Order\n",
       "3      18-21  15159          1\n",
       "1      22-24  19662          2\n",
       "0      25-29  23748          3\n",
       "2      30-34  16144          4\n",
       "4      35-39  10868          5\n",
       "5      40-44   7327          6\n",
       "6      45-49   4996          7\n",
       "7      50-54   3514          8\n",
       "8      55-59   2112          9\n",
       "9      60-69   1851         10\n",
       "10       70+    475         11"
      ]
     },
     "execution_count": 385,
     "metadata": {},
     "output_type": "execute_result"
    }
   ],
   "source": [
    "# Sort the DataFrame based on age order\n",
    "df_sorted = age_counts.sort_values(by='Age Order')\n",
    "df_sorted"
   ]
  },
  {
   "cell_type": "code",
   "execution_count": 386,
   "metadata": {},
   "outputs": [
    {
     "data": {
      "image/png": "[encoded data removed]",
      "text/plain": [
       "<Figure size 1000x600 with 1 Axes>"
      ]
     },
     "metadata": {},
     "output_type": "display_data"
    }
   ],
   "source": [
    "plt.figure(figsize=(10, 6))\n",
    "plt.bar(df_sorted['Age Group'], df_sorted['Count'], color='skyblue')\n",
    "plt.title('Distribution of Age Groups (Sorted)')\n",
    "plt.xlabel('Age Group')\n",
    "plt.ylabel('Count')\n",
    "plt.xticks(rotation=45)\n",
    "plt.grid(axis='y', linestyle='--', alpha=0.5)\n",
    "plt.tight_layout()\n",
    "plt.show()"
   ]
  },
  {
   "cell_type": "markdown",
   "metadata": {},
   "source": [
    "- 25-29 age group has the highest frequency.\n",
    "- Age range starts from 18 to 70+."
   ]
  },
  {
   "cell_type": "markdown",
   "metadata": {},
   "source": [
    "##### 3.2 Gender (Q2)"
   ]
  },
  {
   "cell_type": "code",
   "execution_count": 387,
   "metadata": {},
   "outputs": [
    {
     "data": {
      "text/html": [
       "<div>\n",
       "<style scoped>\n",
       "    .dataframe tbody tr th:only-of-type {\n",
       "        vertical-align: middle;\n",
       "    }\n",
       "\n",
       "    .dataframe tbody tr th {\n",
       "        vertical-align: top;\n",
       "    }\n",
       "\n",
       "    .dataframe thead th {\n",
       "        text-align: right;\n",
       "    }\n",
       "</style>\n",
       "<table border=\"1\" class=\"dataframe\">\n",
       "  <thead>\n",
       "    <tr style=\"text-align: right;\">\n",
       "      <th></th>\n",
       "      <th>Gender Group</th>\n",
       "      <th>Count</th>\n",
       "    </tr>\n",
       "  </thead>\n",
       "  <tbody>\n",
       "    <tr>\n",
       "      <th>0</th>\n",
       "      <td>Male</td>\n",
       "      <td>49178</td>\n",
       "    </tr>\n",
       "    <tr>\n",
       "      <th>1</th>\n",
       "      <td>Man</td>\n",
       "      <td>36387</td>\n",
       "    </tr>\n",
       "    <tr>\n",
       "      <th>2</th>\n",
       "      <td>Female</td>\n",
       "      <td>10000</td>\n",
       "    </tr>\n",
       "    <tr>\n",
       "      <th>3</th>\n",
       "      <td>Woman</td>\n",
       "      <td>8768</td>\n",
       "    </tr>\n",
       "    <tr>\n",
       "      <th>4</th>\n",
       "      <td>Prefer not to say</td>\n",
       "      <td>1276</td>\n",
       "    </tr>\n",
       "    <tr>\n",
       "      <th>5</th>\n",
       "      <td>Prefer to self-describe</td>\n",
       "      <td>224</td>\n",
       "    </tr>\n",
       "    <tr>\n",
       "      <th>6</th>\n",
       "      <td>A different identity</td>\n",
       "      <td>159</td>\n",
       "    </tr>\n",
       "    <tr>\n",
       "      <th>7</th>\n",
       "      <td>Nonbinary</td>\n",
       "      <td>140</td>\n",
       "    </tr>\n",
       "    <tr>\n",
       "      <th>8</th>\n",
       "      <td>Non-binary, genderqueer, or gender non-conforming</td>\n",
       "      <td>74</td>\n",
       "    </tr>\n",
       "  </tbody>\n",
       "</table>\n",
       "</div>"
      ],
      "text/plain": [
       "                                        Gender Group  Count\n",
       "0                                               Male  49178\n",
       "1                                                Man  36387\n",
       "2                                             Female  10000\n",
       "3                                              Woman   8768\n",
       "4                                  Prefer not to say   1276\n",
       "5                            Prefer to self-describe    224\n",
       "6                               A different identity    159\n",
       "7                                          Nonbinary    140\n",
       "8  Non-binary, genderqueer, or gender non-conforming     74"
      ]
     },
     "execution_count": 387,
     "metadata": {},
     "output_type": "execute_result"
    }
   ],
   "source": [
    "gender_counts = filter_column_data_with_question_num(2).value_counts().reset_index()\n",
    "gender_counts.columns = ['Gender Group', 'Count']\n",
    "gender_counts"
   ]
  },
  {
   "cell_type": "markdown",
   "metadata": {},
   "source": [
    "- Two labels : Male and Man can be under one group, Female and Woman can be under one group."
   ]
  },
  {
   "cell_type": "code",
   "execution_count": 377,
   "metadata": {},
   "outputs": [],
   "source": [
    "def group_and_sum_gender(keep_label, remove_label, gender_counts):\n",
    "    grouped_sum = gender_counts[gender_counts['Gender Group'].isin([keep_label, remove_label])]['Count'].sum()\n",
    "    gender_counts.loc[gender_counts['Gender Group'] == keep_label, 'Count'] = grouped_sum\n",
    "    gender_counts = gender_counts[gender_counts['Gender Group'] != remove_label]\n",
    "    return gender_counts\n",
    "gender_counts = group_and_sum_gender(\"Male\", \"Man\", gender_counts)\n",
    "gender_counts = group_and_sum_gender(\"Female\", \"Woman\", gender_counts)\n",
    "gender_counts = group_and_sum_gender(\"Non-binary, genderqueer, or gender non-conforming\", \"Nonbinary\", gender_counts)"
   ]
  },
  {
   "cell_type": "code",
   "execution_count": 378,
   "metadata": {},
   "outputs": [
    {
     "data": {
      "image/png": "[encoded data removed]",
      "text/plain": [
       "<Figure size 1000x600 with 1 Axes>"
      ]
     },
     "metadata": {},
     "output_type": "display_data"
    }
   ],
   "source": [
    "# Plotting the data as a bar chart\n",
    "plt.figure(figsize=(10, 6))\n",
    "plt.bar(gender_counts['Gender Group'], gender_counts['Count'], color='skyblue')\n",
    "plt.title('Distribution of Gender Groups')\n",
    "plt.xlabel('Gender Group')\n",
    "plt.ylabel('Count')\n",
    "plt.xticks(rotation=45, ha='right')\n",
    "plt.grid(axis='y', linestyle='--', alpha=0.5)\n",
    "plt.tight_layout()\n",
    "plt.show()"
   ]
  },
  {
   "cell_type": "markdown",
   "metadata": {},
   "source": [
    "### 4. Education: highest of formal education that you have attained or plan to attain within the next 2 years (Q4)"
   ]
  },
  {
   "cell_type": "code",
   "execution_count": 388,
   "metadata": {},
   "outputs": [
    {
     "data": {
      "text/html": [
       "<div>\n",
       "<style scoped>\n",
       "    .dataframe tbody tr th:only-of-type {\n",
       "        vertical-align: middle;\n",
       "    }\n",
       "\n",
       "    .dataframe tbody tr th {\n",
       "        vertical-align: top;\n",
       "    }\n",
       "\n",
       "    .dataframe thead th {\n",
       "        text-align: right;\n",
       "    }\n",
       "</style>\n",
       "<table border=\"1\" class=\"dataframe\">\n",
       "  <thead>\n",
       "    <tr style=\"text-align: right;\">\n",
       "      <th></th>\n",
       "      <th>Education</th>\n",
       "      <th>Count</th>\n",
       "    </tr>\n",
       "  </thead>\n",
       "  <tbody>\n",
       "    <tr>\n",
       "      <th>0</th>\n",
       "      <td>Masterâ€™s degree</td>\n",
       "      <td>37395</td>\n",
       "    </tr>\n",
       "    <tr>\n",
       "      <th>1</th>\n",
       "      <td>Bachelorâ€™s degree</td>\n",
       "      <td>29961</td>\n",
       "    </tr>\n",
       "    <tr>\n",
       "      <th>2</th>\n",
       "      <td>Doctoral degree</td>\n",
       "      <td>13568</td>\n",
       "    </tr>\n",
       "    <tr>\n",
       "      <th>3</th>\n",
       "      <td>Master's degree</td>\n",
       "      <td>6273</td>\n",
       "    </tr>\n",
       "    <tr>\n",
       "      <th>4</th>\n",
       "      <td>Bachelor's degree</td>\n",
       "      <td>4811</td>\n",
       "    </tr>\n",
       "    <tr>\n",
       "      <th>5</th>\n",
       "      <td>Some college/university study without earning a bachelorâ€™s degree</td>\n",
       "      <td>4631</td>\n",
       "    </tr>\n",
       "    <tr>\n",
       "      <th>6</th>\n",
       "      <td>Professional degree</td>\n",
       "      <td>2360</td>\n",
       "    </tr>\n",
       "    <tr>\n",
       "      <th>7</th>\n",
       "      <td>I prefer not to answer</td>\n",
       "      <td>1794</td>\n",
       "    </tr>\n",
       "    <tr>\n",
       "      <th>8</th>\n",
       "      <td>No formal education past high school</td>\n",
       "      <td>1122</td>\n",
       "    </tr>\n",
       "    <tr>\n",
       "      <th>9</th>\n",
       "      <td>Some college/university study without earning a bachelor's degree</td>\n",
       "      <td>786</td>\n",
       "    </tr>\n",
       "    <tr>\n",
       "      <th>10</th>\n",
       "      <td>Professional doctorate</td>\n",
       "      <td>360</td>\n",
       "    </tr>\n",
       "    <tr>\n",
       "      <th>11</th>\n",
       "      <td>I did not complete any formal education past high school</td>\n",
       "      <td>257</td>\n",
       "    </tr>\n",
       "  </tbody>\n",
       "</table>\n",
       "</div>"
      ],
      "text/plain": [
       "                                                              Education  Count\n",
       "0                                                     Masterâ€™s degree  37395\n",
       "1                                                   Bachelorâ€™s degree  29961\n",
       "2                                                       Doctoral degree  13568\n",
       "3                                                       Master's degree   6273\n",
       "4                                                     Bachelor's degree   4811\n",
       "5   Some college/university study without earning a bachelorâ€™s degree   4631\n",
       "6                                                   Professional degree   2360\n",
       "7                                                I prefer not to answer   1794\n",
       "8                                  No formal education past high school   1122\n",
       "9     Some college/university study without earning a bachelor's degree    786\n",
       "10                                               Professional doctorate    360\n",
       "11             I did not complete any formal education past high school    257"
      ]
     },
     "execution_count": 388,
     "metadata": {},
     "output_type": "execute_result"
    }
   ],
   "source": [
    "education_counts = filter_column_data_with_question_num(4).value_counts().reset_index()\n",
    "education_counts.columns = ['Education', 'Count']\n",
    "education_counts.sort_values(by='Count', ascending=False)\n",
    "education_counts"
   ]
  },
  {
   "cell_type": "code",
   "execution_count": 320,
   "metadata": {},
   "outputs": [
    {
     "data": {
      "text/plain": [
       "['Masterâ€™s degree',\n",
       " 'Bachelorâ€™s degree',\n",
       " 'Doctoral degree',\n",
       " \"Master's degree\",\n",
       " \"Bachelor's degree\",\n",
       " 'Some college/university study without earning a bachelorâ€™s degree',\n",
       " 'Professional degree',\n",
       " 'I prefer not to answer',\n",
       " 'No formal education past high school',\n",
       " \"Some college/university study without earning a bachelor's degree\",\n",
       " 'Professional doctorate',\n",
       " 'I did not complete any formal education past high school']"
      ]
     },
     "execution_count": 320,
     "metadata": {},
     "output_type": "execute_result"
    }
   ],
   "source": [
    "education_counts['Education'].to_list()"
   ]
  },
  {
   "cell_type": "markdown",
   "metadata": {},
   "source": [
    "- There seems to be encoding issue for some:\n",
    "    - Masters degree and showing `Master's degree` and `Masterâ€™s degree` as two separate rows.\n",
    "    - Masters degree and showing `Bachelor's degree` and `Bachelorâ€™s degree` as two separate rows.\n",
    "    - `No formal education past high school` and `I did not complete any formal education past high school` are also the same.\n",
    "    - `Some college/university study without earning a bachelorâ€™s degree` and `Some college/university study without earning a bachelor's degree`\n",
    "- We can combine them to have a more accurate analysis."
   ]
  },
  {
   "cell_type": "code",
   "execution_count": 321,
   "metadata": {},
   "outputs": [],
   "source": [
    "def group_and_sum(keep_label, remove_label, education_counts):\n",
    "    grouped_sum = education_counts[education_counts['Education'].isin([keep_label, remove_label])]['Count'].sum()\n",
    "    education_counts.loc[education_counts['Education'] == keep_label, 'Count'] = grouped_sum\n",
    "    education_counts = education_counts[education_counts['Education'] != remove_label]\n",
    "    return education_counts\n"
   ]
  },
  {
   "cell_type": "code",
   "execution_count": 322,
   "metadata": {},
   "outputs": [
    {
     "data": {
      "text/html": [
       "<div>\n",
       "<style scoped>\n",
       "    .dataframe tbody tr th:only-of-type {\n",
       "        vertical-align: middle;\n",
       "    }\n",
       "\n",
       "    .dataframe tbody tr th {\n",
       "        vertical-align: top;\n",
       "    }\n",
       "\n",
       "    .dataframe thead th {\n",
       "        text-align: right;\n",
       "    }\n",
       "</style>\n",
       "<table border=\"1\" class=\"dataframe\">\n",
       "  <thead>\n",
       "    <tr style=\"text-align: right;\">\n",
       "      <th></th>\n",
       "      <th>Education</th>\n",
       "      <th>Count</th>\n",
       "      <th>Percentage</th>\n",
       "    </tr>\n",
       "  </thead>\n",
       "  <tbody>\n",
       "    <tr>\n",
       "      <th>0</th>\n",
       "      <td>Doctoral degree</td>\n",
       "      <td>13568</td>\n",
       "      <td>13.13</td>\n",
       "    </tr>\n",
       "    <tr>\n",
       "      <th>1</th>\n",
       "      <td>Master's degree</td>\n",
       "      <td>43668</td>\n",
       "      <td>42.27</td>\n",
       "    </tr>\n",
       "    <tr>\n",
       "      <th>2</th>\n",
       "      <td>Bachelor's degree</td>\n",
       "      <td>34772</td>\n",
       "      <td>33.66</td>\n",
       "    </tr>\n",
       "    <tr>\n",
       "      <th>3</th>\n",
       "      <td>Professional degree</td>\n",
       "      <td>2360</td>\n",
       "      <td>2.28</td>\n",
       "    </tr>\n",
       "    <tr>\n",
       "      <th>4</th>\n",
       "      <td>I prefer not to answer</td>\n",
       "      <td>1794</td>\n",
       "      <td>1.74</td>\n",
       "    </tr>\n",
       "    <tr>\n",
       "      <th>5</th>\n",
       "      <td>No formal education past high school</td>\n",
       "      <td>1379</td>\n",
       "      <td>1.33</td>\n",
       "    </tr>\n",
       "    <tr>\n",
       "      <th>6</th>\n",
       "      <td>Some college/university study without earning ...</td>\n",
       "      <td>5417</td>\n",
       "      <td>5.24</td>\n",
       "    </tr>\n",
       "    <tr>\n",
       "      <th>7</th>\n",
       "      <td>Professional doctorate</td>\n",
       "      <td>360</td>\n",
       "      <td>0.35</td>\n",
       "    </tr>\n",
       "  </tbody>\n",
       "</table>\n",
       "</div>"
      ],
      "text/plain": [
       "                                           Education  Count  Percentage\n",
       "0                                    Doctoral degree  13568       13.13\n",
       "1                                    Master's degree  43668       42.27\n",
       "2                                  Bachelor's degree  34772       33.66\n",
       "3                                Professional degree   2360        2.28\n",
       "4                             I prefer not to answer   1794        1.74\n",
       "5               No formal education past high school   1379        1.33\n",
       "6  Some college/university study without earning ...   5417        5.24\n",
       "7                             Professional doctorate    360        0.35"
      ]
     },
     "execution_count": 322,
     "metadata": {},
     "output_type": "execute_result"
    }
   ],
   "source": [
    "education_counts = group_and_sum(\"Master's degree\", \"Masterâ€™s degree\", education_counts)\n",
    "education_counts = group_and_sum(\"Bachelor's degree\", \"Bachelorâ€™s degree\", education_counts)\n",
    "education_counts = group_and_sum(\"No formal education past high school\", \"I did not complete any formal education past high school\", education_counts)\n",
    "education_counts = group_and_sum(\"Some college/university study without earning a bachelor's degree\", \"Some college/university study without earning a bachelorâ€™s degree\", education_counts)\n",
    "# Calculate the total count of all rows in the 'Count' column\n",
    "total_count = education_counts['Count'].sum()\n",
    "# Compute the percentage for each row\n",
    "education_counts['Percentage'] = round((education_counts['Count'] / total_count) * 100, 2)\n",
    "education_counts = education_counts.reset_index(drop=True)\n",
    "education_counts"
   ]
  },
  {
   "cell_type": "code",
   "execution_count": 354,
   "metadata": {},
   "outputs": [
    {
     "data": {
      "image/png": "[encoded data removed]",
      "text/plain": [
       "<Figure size 800x800 with 1 Axes>"
      ]
     },
     "metadata": {},
     "output_type": "display_data"
    }
   ],
   "source": [
    "# Explode the slices for better readability\n",
    "explode = (0.0, 0.0, 0.0, 0.0, 0.5, 0, 0, 0)\n",
    "# Plotting the pie chart with exploded slices and adjusted font size\n",
    "plt.figure(figsize=(8, 8))\n",
    "plt.pie(education_counts['Percentage'], labels=education_counts['Education'], autopct='%1.1f%%', startangle=140, explode=explode)\n",
    "plt.title('Percentage Distribution by Education')\n",
    "plt.axis('equal')\n",
    "plt.tight_layout()\n",
    "plt.show()"
   ]
  },
  {
   "cell_type": "markdown",
   "metadata": {},
   "source": [
    "Top 3 desired education:\n",
    "1. Master's Degree\n",
    "2. Bachelor's Degree\n",
    "3. Doctoral Degree\n",
    "\n",
    "Only 1.74 % of the people do not answer so it does not seem to hugely impact our analysis"
   ]
  },
  {
   "cell_type": "markdown",
   "metadata": {},
   "source": [
    "## Topic 2: Data Infrastructure and Tools"
   ]
  },
  {
   "cell_type": "code",
   "execution_count": 389,
   "metadata": {},
   "outputs": [
    {
     "data": {
      "text/html": [
       "<div>\n",
       "<style scoped>\n",
       "    .dataframe tbody tr th:only-of-type {\n",
       "        vertical-align: middle;\n",
       "    }\n",
       "\n",
       "    .dataframe tbody tr th {\n",
       "        vertical-align: top;\n",
       "    }\n",
       "\n",
       "    .dataframe thead th {\n",
       "        text-align: right;\n",
       "    }\n",
       "</style>\n",
       "<table border=\"1\" class=\"dataframe\">\n",
       "  <thead>\n",
       "    <tr style=\"text-align: right;\">\n",
       "      <th></th>\n",
       "      <th>Q</th>\n",
       "      <th>max_response_count</th>\n",
       "      <th>multiple_options_selectable</th>\n",
       "      <th>question</th>\n",
       "      <th>columns</th>\n",
       "      <th>choices</th>\n",
       "      <th>question_group</th>\n",
       "    </tr>\n",
       "  </thead>\n",
       "  <tbody>\n",
       "    <tr>\n",
       "      <th>0</th>\n",
       "      <td>32</td>\n",
       "      <td>30</td>\n",
       "      <td>1</td>\n",
       "      <td>Which of the following big data products (relational databases, data warehouses, data lakes, or similar) do you use on a regular basis?</td>\n",
       "      <td>[Q32_A_Part_1, Q32_A_Part_2, Q32_A_Part_3, Q32_A_Part_4, Q32_A_Part_5, Q32_A_Part_6, Q32_A_Part_7, Q32_A_Part_8, Q32_A_Part_11, Q32_A_Part_14, Q32_A_Part_15, Q32_A_Part_16, Q32_A_Part_17, Q32_A_Part_20, Q32_A_OTHER, Q32_B_Part_1, Q32_B_Part_2, Q32_B_Part_3, Q32_B_Part_4, Q32_B_Part_5, Q32_B_Part_6, Q32_B_Part_7, Q32_B_Part_8, Q32_B_Part_11, Q32_B_Part_13, Q32_B_Part_15, Q32_B_Part_16, Q32_B_Part_17, Q32_B_Part_20, Q32_B_OTHER]</td>\n",
       "      <td>[MySQL, PostgreSQL, SQLite, Oracle Database, MongoDB, Snowflake, IBM Db2, Microsoft SQL Server, Amazon Redshift, Amazon DynamoDB, Google Cloud BigQuery, Google Cloud SQL, Google Cloud Firestore, None, Other, MySQL, PostgreSQL, SQLite, Oracle Database, MongoDB, Snowflake, IBM Db2, Microsoft SQL Server, Amazon Redshift, Amazon DynamoDB, Google Cloud BigQuery, Google Cloud SQL, Google Cloud Firestore, None, Other]</td>\n",
       "      <td>Data Infrastructure and Tools</td>\n",
       "    </tr>\n",
       "    <tr>\n",
       "      <th>1</th>\n",
       "      <td>34</td>\n",
       "      <td>28</td>\n",
       "      <td>1</td>\n",
       "      <td>Which of the following business intelligence tools do you use on a regular basis?</td>\n",
       "      <td>[Q34_A_Part_1, Q34_A_Part_2, Q34_A_Part_3, Q34_A_Part_4, Q34_A_Part_5, Q34_A_Part_6, Q34_A_Part_8, Q34_A_Part_9, Q34_A_Part_10, Q34_A_Part_11, Q34_A_Part_12, Q34_A_Part_13, Q34_A_Part_16, Q34_A_OTHER, Q34_B_Part_1, Q34_B_Part_2, Q34_B_Part_3, Q34_B_Part_4, Q34_B_Part_5, Q34_B_Part_6, Q34_B_Part_8, Q34_B_Part_9, Q34_B_Part_10, Q34_B_Part_11, Q34_B_Part_12, Q34_B_Part_13, Q34_B_Part_16, Q34_B_OTHER]</td>\n",
       "      <td>[Amazon QuickSight, Microsoft Power BI, Google Data Studio, Looker, Tableau, Salesforce, Qlik, Domo, TIBCO Spotfire, Alteryx, Sisense, SAP Analytics Cloud, None, Other, Microsoft Power BI, Amazon QuickSight, Google Data Studio, Looker, Tableau, Salesforce, Qlik, Domo, TIBCO Spotfire, Alteryx, Sisense, SAP Analytics Cloud, None, Other]</td>\n",
       "      <td>Data Infrastructure and Tools</td>\n",
       "    </tr>\n",
       "    <tr>\n",
       "      <th>2</th>\n",
       "      <td>27</td>\n",
       "      <td>24</td>\n",
       "      <td>1</td>\n",
       "      <td>Which of the following cloud computing platforms do you use on a regular basis?</td>\n",
       "      <td>[Q27_A_Part_1, Q27_A_Part_2, Q27_A_Part_3, Q27_A_Part_4, Q27_A_Part_5, Q27_A_Part_6, Q27_A_Part_7, Q27_A_Part_8, Q27_A_Part_9, Q27_A_Part_10, Q27_A_Part_11, Q27_A_OTHER, Q27_B_Part_1, Q27_B_Part_2, Q27_B_Part_3, Q27_B_Part_4, Q27_B_Part_5, Q27_B_Part_6, Q27_B_Part_7, Q27_B_Part_8, Q27_B_Part_9, Q27_B_Part_10, Q27_B_Part_11, Q27_B_OTHER]</td>\n",
       "      <td>[Amazon Web Services (AWS), Microsoft Azure, Google Cloud Platform (GCP), IBM Cloud / Red Hat, Oracle Cloud, SAP Cloud, Salesforce Cloud, VMware Cloud, Alibaba Cloud, Tencent Cloud, None, Other]</td>\n",
       "      <td>Data Infrastructure and Tools</td>\n",
       "    </tr>\n",
       "    <tr>\n",
       "      <th>6</th>\n",
       "      <td>10</td>\n",
       "      <td>14</td>\n",
       "      <td>1</td>\n",
       "      <td>Which of the following hosted notebook products do you use on a regular basis?</td>\n",
       "      <td>[Q10_Part_1, Q10_Part_2, Q10_Part_3, Q10_Part_4, Q10_Part_5, Q10_Part_6, Q10_Part_7, Q10_Part_8, Q10_Part_9, Q10_Part_10, Q10_Part_11, Q10_Part_12, Q10_Part_16, Q10_OTHER]</td>\n",
       "      <td>[Kaggle Notebooks, Colab Notebooks, Azure Notebooks, Paperspace / Gradient, Binder / JupyterHub, Code Ocean, IBM Watson Studio, Amazon Sagemaker Studio Notebooks, Amazon EMR Notebooks, Google Cloud Notebooks (AI Platform / Vertex AI), Google Cloud Datalab, Databricks Collaborative Notebooks, None, Other]</td>\n",
       "      <td>Data Infrastructure and Tools</td>\n",
       "    </tr>\n",
       "    <tr>\n",
       "      <th>7</th>\n",
       "      <td>7</td>\n",
       "      <td>13</td>\n",
       "      <td>1</td>\n",
       "      <td>What programming languages do you use on a regular basis?</td>\n",
       "      <td>[Q7_Part_1, Q7_Part_2, Q7_Part_3, Q7_Part_4, Q7_Part_5, Q7_Part_6, Q7_Part_7, Q7_Part_8, Q7_Part_9, Q7_Part_10, Q7_Part_11, Q7_Part_12, Q7_OTHER]</td>\n",
       "      <td>[Python, R, SQL, C, C++, Java, Javascript, Julia, Swift, Bash, MATLAB, None, Other]</td>\n",
       "      <td>Data Infrastructure and Tools</td>\n",
       "    </tr>\n",
       "    <tr>\n",
       "      <th>8</th>\n",
       "      <td>14</td>\n",
       "      <td>12</td>\n",
       "      <td>1</td>\n",
       "      <td>What data visualization libraries or tools do you use on a regular basis?</td>\n",
       "      <td>[Q14_Part_1, Q14_Part_2, Q14_Part_3, Q14_Part_4, Q14_Part_5, Q14_Part_6, Q14_Part_7, Q14_Part_8, Q14_Part_9, Q14_Part_10, Q14_Part_11, Q14_OTHER]</td>\n",
       "      <td>[Matplotlib, Seaborn, Plotly / Plotly Express, Ggplot / ggplot2, Shiny, D3 js, Altair, Bokeh, Geoplotlib, Leaflet / Folium, None, Other]</td>\n",
       "      <td>Data Infrastructure and Tools</td>\n",
       "    </tr>\n",
       "    <tr>\n",
       "      <th>20</th>\n",
       "      <td>8</td>\n",
       "      <td>1</td>\n",
       "      <td>0</td>\n",
       "      <td>What programming language would you recommend an aspiring data scientist to learn first? - Selected Choice</td>\n",
       "      <td>[Q8]</td>\n",
       "      <td>NaN</td>\n",
       "      <td>Data Infrastructure and Tools</td>\n",
       "    </tr>\n",
       "    <tr>\n",
       "      <th>21</th>\n",
       "      <td>41</td>\n",
       "      <td>1</td>\n",
       "      <td>0</td>\n",
       "      <td>What is the primary tool that you use at work or school to analyze data? (Include text response) - Selected Choice</td>\n",
       "      <td>[Q41]</td>\n",
       "      <td>NaN</td>\n",
       "      <td>Data Infrastructure and Tools</td>\n",
       "    </tr>\n",
       "    <tr>\n",
       "      <th>27</th>\n",
       "      <td>35</td>\n",
       "      <td>1</td>\n",
       "      <td>0</td>\n",
       "      <td>Which of the following business intelligence tools do you use most often? - Selected Choice</td>\n",
       "      <td>[Q35]</td>\n",
       "      <td>NaN</td>\n",
       "      <td>Data Infrastructure and Tools</td>\n",
       "    </tr>\n",
       "    <tr>\n",
       "      <th>29</th>\n",
       "      <td>33</td>\n",
       "      <td>1</td>\n",
       "      <td>0</td>\n",
       "      <td>Which of the following big data products (relational database, data warehouse, data lake, or similar) do you use most often? - Selected Choice</td>\n",
       "      <td>[Q33]</td>\n",
       "      <td>NaN</td>\n",
       "      <td>Data Infrastructure and Tools</td>\n",
       "    </tr>\n",
       "    <tr>\n",
       "      <th>32</th>\n",
       "      <td>11</td>\n",
       "      <td>1</td>\n",
       "      <td>0</td>\n",
       "      <td>What type of computing platform do you use most often for your data science projects? - Selected Choice</td>\n",
       "      <td>[Q11]</td>\n",
       "      <td>NaN</td>\n",
       "      <td>Data Infrastructure and Tools</td>\n",
       "    </tr>\n",
       "  </tbody>\n",
       "</table>\n",
       "</div>"
      ],
      "text/plain": [
       "     Q max_response_count multiple_options_selectable  \\\n",
       "0   32                 30                           1   \n",
       "1   34                 28                           1   \n",
       "2   27                 24                           1   \n",
       "6   10                 14                           1   \n",
       "7    7                 13                           1   \n",
       "8   14                 12                           1   \n",
       "20   8                  1                           0   \n",
       "21  41                  1                           0   \n",
       "27  35                  1                           0   \n",
       "29  33                  1                           0   \n",
       "32  11                  1                           0   \n",
       "\n",
       "                                                                                                                                          question  \\\n",
       "0          Which of the following big data products (relational databases, data warehouses, data lakes, or similar) do you use on a regular basis?   \n",
       "1                                                                Which of the following business intelligence tools do you use on a regular basis?   \n",
       "2                                                                  Which of the following cloud computing platforms do you use on a regular basis?   \n",
       "6                                                                   Which of the following hosted notebook products do you use on a regular basis?   \n",
       "7                                                                                        What programming languages do you use on a regular basis?   \n",
       "8                                                                        What data visualization libraries or tools do you use on a regular basis?   \n",
       "20                                      What programming language would you recommend an aspiring data scientist to learn first? - Selected Choice   \n",
       "21                              What is the primary tool that you use at work or school to analyze data? (Include text response) - Selected Choice   \n",
       "27                                                     Which of the following business intelligence tools do you use most often? - Selected Choice   \n",
       "29  Which of the following big data products (relational database, data warehouse, data lake, or similar) do you use most often? - Selected Choice   \n",
       "32                                         What type of computing platform do you use most often for your data science projects? - Selected Choice   \n",
       "\n",
       "                                                                                                                                                                                                                                                                                                                                                                                                                                           columns  \\\n",
       "0   [Q32_A_Part_1, Q32_A_Part_2, Q32_A_Part_3, Q32_A_Part_4, Q32_A_Part_5, Q32_A_Part_6, Q32_A_Part_7, Q32_A_Part_8, Q32_A_Part_11, Q32_A_Part_14, Q32_A_Part_15, Q32_A_Part_16, Q32_A_Part_17, Q32_A_Part_20, Q32_A_OTHER, Q32_B_Part_1, Q32_B_Part_2, Q32_B_Part_3, Q32_B_Part_4, Q32_B_Part_5, Q32_B_Part_6, Q32_B_Part_7, Q32_B_Part_8, Q32_B_Part_11, Q32_B_Part_13, Q32_B_Part_15, Q32_B_Part_16, Q32_B_Part_17, Q32_B_Part_20, Q32_B_OTHER]   \n",
       "1                                 [Q34_A_Part_1, Q34_A_Part_2, Q34_A_Part_3, Q34_A_Part_4, Q34_A_Part_5, Q34_A_Part_6, Q34_A_Part_8, Q34_A_Part_9, Q34_A_Part_10, Q34_A_Part_11, Q34_A_Part_12, Q34_A_Part_13, Q34_A_Part_16, Q34_A_OTHER, Q34_B_Part_1, Q34_B_Part_2, Q34_B_Part_3, Q34_B_Part_4, Q34_B_Part_5, Q34_B_Part_6, Q34_B_Part_8, Q34_B_Part_9, Q34_B_Part_10, Q34_B_Part_11, Q34_B_Part_12, Q34_B_Part_13, Q34_B_Part_16, Q34_B_OTHER]   \n",
       "2                                                                                               [Q27_A_Part_1, Q27_A_Part_2, Q27_A_Part_3, Q27_A_Part_4, Q27_A_Part_5, Q27_A_Part_6, Q27_A_Part_7, Q27_A_Part_8, Q27_A_Part_9, Q27_A_Part_10, Q27_A_Part_11, Q27_A_OTHER, Q27_B_Part_1, Q27_B_Part_2, Q27_B_Part_3, Q27_B_Part_4, Q27_B_Part_5, Q27_B_Part_6, Q27_B_Part_7, Q27_B_Part_8, Q27_B_Part_9, Q27_B_Part_10, Q27_B_Part_11, Q27_B_OTHER]   \n",
       "6                                                                                                                                                                                                                                                                      [Q10_Part_1, Q10_Part_2, Q10_Part_3, Q10_Part_4, Q10_Part_5, Q10_Part_6, Q10_Part_7, Q10_Part_8, Q10_Part_9, Q10_Part_10, Q10_Part_11, Q10_Part_12, Q10_Part_16, Q10_OTHER]   \n",
       "7                                                                                                                                                                                                                                                                                                [Q7_Part_1, Q7_Part_2, Q7_Part_3, Q7_Part_4, Q7_Part_5, Q7_Part_6, Q7_Part_7, Q7_Part_8, Q7_Part_9, Q7_Part_10, Q7_Part_11, Q7_Part_12, Q7_OTHER]   \n",
       "8                                                                                                                                                                                                                                                                                                [Q14_Part_1, Q14_Part_2, Q14_Part_3, Q14_Part_4, Q14_Part_5, Q14_Part_6, Q14_Part_7, Q14_Part_8, Q14_Part_9, Q14_Part_10, Q14_Part_11, Q14_OTHER]   \n",
       "20                                                                                                                                                                                                                                                                                                                                                                                                                                            [Q8]   \n",
       "21                                                                                                                                                                                                                                                                                                                                                                                                                                           [Q41]   \n",
       "27                                                                                                                                                                                                                                                                                                                                                                                                                                           [Q35]   \n",
       "29                                                                                                                                                                                                                                                                                                                                                                                                                                           [Q33]   \n",
       "32                                                                                                                                                                                                                                                                                                                                                                                                                                           [Q11]   \n",
       "\n",
       "                                                                                                                                                                                                                                                                                                                                                                                                                           choices  \\\n",
       "0   [MySQL, PostgreSQL, SQLite, Oracle Database, MongoDB, Snowflake, IBM Db2, Microsoft SQL Server, Amazon Redshift, Amazon DynamoDB, Google Cloud BigQuery, Google Cloud SQL, Google Cloud Firestore, None, Other, MySQL, PostgreSQL, SQLite, Oracle Database, MongoDB, Snowflake, IBM Db2, Microsoft SQL Server, Amazon Redshift, Amazon DynamoDB, Google Cloud BigQuery, Google Cloud SQL, Google Cloud Firestore, None, Other]   \n",
       "1                                                                                 [Amazon QuickSight, Microsoft Power BI, Google Data Studio, Looker, Tableau, Salesforce, Qlik, Domo, TIBCO Spotfire, Alteryx, Sisense, SAP Analytics Cloud, None, Other, Microsoft Power BI, Amazon QuickSight, Google Data Studio, Looker, Tableau, Salesforce, Qlik, Domo, TIBCO Spotfire, Alteryx, Sisense, SAP Analytics Cloud, None, Other]   \n",
       "2                                                                                                                                                                                                                               [Amazon Web Services (AWS), Microsoft Azure, Google Cloud Platform (GCP), IBM Cloud / Red Hat, Oracle Cloud, SAP Cloud, Salesforce Cloud, VMware Cloud, Alibaba Cloud, Tencent Cloud, None, Other]   \n",
       "6                                                                                                                [Kaggle Notebooks, Colab Notebooks, Azure Notebooks, Paperspace / Gradient, Binder / JupyterHub, Code Ocean, IBM Watson Studio, Amazon Sagemaker Studio Notebooks, Amazon EMR Notebooks, Google Cloud Notebooks (AI Platform / Vertex AI), Google Cloud Datalab, Databricks Collaborative Notebooks, None, Other]   \n",
       "7                                                                                                                                                                                                                                                                                                                                              [Python, R, SQL, C, C++, Java, Javascript, Julia, Swift, Bash, MATLAB, None, Other]   \n",
       "8                                                                                                                                                                                                                                                                                         [Matplotlib, Seaborn, Plotly / Plotly Express, Ggplot / ggplot2, Shiny, D3 js, Altair, Bokeh, Geoplotlib, Leaflet / Folium, None, Other]   \n",
       "20                                                                                                                                                                                                                                                                                                                                                                                                                             NaN   \n",
       "21                                                                                                                                                                                                                                                                                                                                                                                                                             NaN   \n",
       "27                                                                                                                                                                                                                                                                                                                                                                                                                             NaN   \n",
       "29                                                                                                                                                                                                                                                                                                                                                                                                                             NaN   \n",
       "32                                                                                                                                                                                                                                                                                                                                                                                                                             NaN   \n",
       "\n",
       "                   question_group  \n",
       "0   Data Infrastructure and Tools  \n",
       "1   Data Infrastructure and Tools  \n",
       "2   Data Infrastructure and Tools  \n",
       "6   Data Infrastructure and Tools  \n",
       "7   Data Infrastructure and Tools  \n",
       "8   Data Infrastructure and Tools  \n",
       "20  Data Infrastructure and Tools  \n",
       "21  Data Infrastructure and Tools  \n",
       "27  Data Infrastructure and Tools  \n",
       "29  Data Infrastructure and Tools  \n",
       "32  Data Infrastructure and Tools  "
      ]
     },
     "execution_count": 389,
     "metadata": {},
     "output_type": "execute_result"
    }
   ],
   "source": [
    "questionnaire[questionnaire['question_group'] == 'Data Infrastructure and Tools']"
   ]
  }
 ],
 "metadata": {
  "kernelspec": {
   "display_name": "Python 3",
   "language": "python",
   "name": "python3"
  },
  "language_info": {
   "codemirror_mode": {
    "name": "ipython",
    "version": 3
   },
   "file_extension": ".py",
   "mimetype": "text/x-python",
   "name": "python",
   "nbconvert_exporter": "python",
   "pygments_lexer": "ipython3",
   "version": "3.8.5"
  }
 },
 "nbformat": 4,
 "nbformat_minor": 2
}
